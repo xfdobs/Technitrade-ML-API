{
 "cells": [
  {
   "cell_type": "markdown",
   "id": "6e0800d8-11bb-4455-88bf-f3826904f91d",
   "metadata": {},
   "source": [
    "# Machine Learning Module"
   ]
  },
  {
   "cell_type": "code",
   "execution_count": 1,
   "id": "f919d055-deb3-48a8-859f-069986c1cacd",
   "metadata": {},
   "outputs": [],
   "source": [
    "import os\n",
    "import pandas as pd\n",
    "import numpy as np\n",
    "import tensorflow as tf\n",
    "from tensorflow import keras\n",
    "import matplotlib.pyplot as plt\n",
    "\n",
    "os.chdir(\"../marketdata\")\n",
    "import yahoo\n",
    "import alpaca\n",
    "\n",
    "os.chdir(\"../technicals\")\n",
    "import technicals"
   ]
  },
  {
   "cell_type": "code",
   "execution_count": 2,
   "id": "2f354670-96ae-4931-8b87-d3b73512f8f2",
   "metadata": {},
   "outputs": [],
   "source": [
    "test_tickers = [\"ADSK\"]\n",
    "ohlcv_df = alpaca.ohlcv(test_tickers)\n",
    "tech_ind = technicals.TechnicalAnalysis(ohlcv_df)\n",
    "df = tech_ind.get_all_technicals(test_tickers[0])"
   ]
  },
  {
   "cell_type": "code",
   "execution_count": 3,
   "id": "4965af3a-7886-4ebe-84ec-1124812dc29d",
   "metadata": {},
   "outputs": [
    {
     "data": {
      "text/html": [
       "<div>\n",
       "<style scoped>\n",
       "    .dataframe tbody tr th:only-of-type {\n",
       "        vertical-align: middle;\n",
       "    }\n",
       "\n",
       "    .dataframe tbody tr th {\n",
       "        vertical-align: top;\n",
       "    }\n",
       "\n",
       "    .dataframe thead th {\n",
       "        text-align: right;\n",
       "    }\n",
       "</style>\n",
       "<table border=\"1\" class=\"dataframe\">\n",
       "  <thead>\n",
       "    <tr style=\"text-align: right;\">\n",
       "      <th></th>\n",
       "      <th>open</th>\n",
       "      <th>high</th>\n",
       "      <th>low</th>\n",
       "      <th>close</th>\n",
       "      <th>volume</th>\n",
       "      <th>rsi</th>\n",
       "      <th>williams</th>\n",
       "      <th>mfi</th>\n",
       "      <th>stoch_k</th>\n",
       "      <th>lagging_returns</th>\n",
       "    </tr>\n",
       "    <tr>\n",
       "      <th>time</th>\n",
       "      <th></th>\n",
       "      <th></th>\n",
       "      <th></th>\n",
       "      <th></th>\n",
       "      <th></th>\n",
       "      <th></th>\n",
       "      <th></th>\n",
       "      <th></th>\n",
       "      <th></th>\n",
       "      <th></th>\n",
       "    </tr>\n",
       "  </thead>\n",
       "  <tbody>\n",
       "    <tr>\n",
       "      <th>2020-01-23 00:00:00-05:00</th>\n",
       "      <td>195.39</td>\n",
       "      <td>198.91</td>\n",
       "      <td>193.760</td>\n",
       "      <td>198.61</td>\n",
       "      <td>2811255</td>\n",
       "      <td>37.348426</td>\n",
       "      <td>-1.904762</td>\n",
       "      <td>71.658062</td>\n",
       "      <td>55.990975</td>\n",
       "      <td>0.75</td>\n",
       "    </tr>\n",
       "    <tr>\n",
       "      <th>2020-01-24 00:00:00-05:00</th>\n",
       "      <td>199.43</td>\n",
       "      <td>200.90</td>\n",
       "      <td>197.910</td>\n",
       "      <td>199.20</td>\n",
       "      <td>4494049</td>\n",
       "      <td>38.582801</td>\n",
       "      <td>-9.582864</td>\n",
       "      <td>78.676467</td>\n",
       "      <td>47.346634</td>\n",
       "      <td>4.75</td>\n",
       "    </tr>\n",
       "    <tr>\n",
       "      <th>2020-01-27 00:00:00-05:00</th>\n",
       "      <td>195.77</td>\n",
       "      <td>197.15</td>\n",
       "      <td>192.960</td>\n",
       "      <td>195.86</td>\n",
       "      <td>1484335</td>\n",
       "      <td>34.464274</td>\n",
       "      <td>-31.898734</td>\n",
       "      <td>71.527231</td>\n",
       "      <td>27.590461</td>\n",
       "      <td>6.20</td>\n",
       "    </tr>\n",
       "    <tr>\n",
       "      <th>2020-01-28 00:00:00-05:00</th>\n",
       "      <td>196.26</td>\n",
       "      <td>200.43</td>\n",
       "      <td>195.675</td>\n",
       "      <td>199.96</td>\n",
       "      <td>1004916</td>\n",
       "      <td>42.532387</td>\n",
       "      <td>-6.777217</td>\n",
       "      <td>71.650518</td>\n",
       "      <td>55.543877</td>\n",
       "      <td>6.05</td>\n",
       "    </tr>\n",
       "    <tr>\n",
       "      <th>2020-01-29 00:00:00-05:00</th>\n",
       "      <td>200.92</td>\n",
       "      <td>201.57</td>\n",
       "      <td>198.860</td>\n",
       "      <td>199.70</td>\n",
       "      <td>653878</td>\n",
       "      <td>42.179570</td>\n",
       "      <td>-16.120690</td>\n",
       "      <td>71.763475</td>\n",
       "      <td>56.887377</td>\n",
       "      <td>7.34</td>\n",
       "    </tr>\n",
       "  </tbody>\n",
       "</table>\n",
       "</div>"
      ],
      "text/plain": [
       "                             open    high      low   close   volume  \\\n",
       "time                                                                  \n",
       "2020-01-23 00:00:00-05:00  195.39  198.91  193.760  198.61  2811255   \n",
       "2020-01-24 00:00:00-05:00  199.43  200.90  197.910  199.20  4494049   \n",
       "2020-01-27 00:00:00-05:00  195.77  197.15  192.960  195.86  1484335   \n",
       "2020-01-28 00:00:00-05:00  196.26  200.43  195.675  199.96  1004916   \n",
       "2020-01-29 00:00:00-05:00  200.92  201.57  198.860  199.70   653878   \n",
       "\n",
       "                                 rsi   williams        mfi    stoch_k  \\\n",
       "time                                                                    \n",
       "2020-01-23 00:00:00-05:00  37.348426  -1.904762  71.658062  55.990975   \n",
       "2020-01-24 00:00:00-05:00  38.582801  -9.582864  78.676467  47.346634   \n",
       "2020-01-27 00:00:00-05:00  34.464274 -31.898734  71.527231  27.590461   \n",
       "2020-01-28 00:00:00-05:00  42.532387  -6.777217  71.650518  55.543877   \n",
       "2020-01-29 00:00:00-05:00  42.179570 -16.120690  71.763475  56.887377   \n",
       "\n",
       "                           lagging_returns  \n",
       "time                                        \n",
       "2020-01-23 00:00:00-05:00             0.75  \n",
       "2020-01-24 00:00:00-05:00             4.75  \n",
       "2020-01-27 00:00:00-05:00             6.20  \n",
       "2020-01-28 00:00:00-05:00             6.05  \n",
       "2020-01-29 00:00:00-05:00             7.34  "
      ]
     },
     "execution_count": 3,
     "metadata": {},
     "output_type": "execute_result"
    }
   ],
   "source": [
    "# df.drop(columns=[\"open\",\"high\",\"low\",\"close\",\"volume\"], inplace=True)\n",
    "df.head()"
   ]
  },
  {
   "cell_type": "code",
   "execution_count": 4,
   "id": "340f400b-0133-44bb-b558-d43f8e48c7b9",
   "metadata": {},
   "outputs": [],
   "source": [
    "def window_data(df, window, feature_col_number, target_col_number):\n",
    "    \"\"\"\n",
    "    This function accepts the column number for the features (X) and the target (y).\n",
    "    It chunks the data up with a rolling window of Xt - window to predict Xt.\n",
    "    It returns two numpy arrays of X and y.\n",
    "    \"\"\"\n",
    "    X = []\n",
    "    y = []\n",
    "    for i in range(len(df) - window - 1):\n",
    "        features = df.iloc[i : (i + window), feature_col_number].values\n",
    "        target = df.iloc[(i + window), target_col_number]\n",
    "        X.append(features)\n",
    "        y.append(target)\n",
    "    return np.array(X), np.array(y).astype(np.float64).reshape(-1, 1)"
   ]
  },
  {
   "cell_type": "code",
   "execution_count": 5,
   "id": "fc4f448e-b7f0-4f35-a8e1-7d2432676338",
   "metadata": {},
   "outputs": [],
   "source": [
    "window_size = 14"
   ]
  },
  {
   "cell_type": "code",
   "execution_count": 10,
   "id": "e5a85e56-0425-4ea9-8669-6c6dffc4417c",
   "metadata": {},
   "outputs": [],
   "source": [
    "(X, y) = window_data(df, window_size, 0, len(df.columns)-1)\n",
    "\n",
    "# X = np.array(df.drop(columns=[\"lagging_returns\"]))\n",
    "# y = np.array(df[\"lagging_returns\"]).astype(np.float64).reshape(-1, 1)"
   ]
  },
  {
   "cell_type": "code",
   "execution_count": 11,
   "id": "b2fb3147-2769-4d4d-b2b6-62ee658ae7a3",
   "metadata": {},
   "outputs": [],
   "source": [
    "(rsi, _) = window_data(df, window_size, 0, 5)\n",
    "(williams, _) = window_data(df, window_size, 1, 5)\n",
    "(mfi, _) = window_data(df, window_size, 2, 5)\n",
    "(stoch_k, _) = window_data(df, window_size, 3, 5)\n",
    "(pvt, _) = window_data(df, window_size, 4, 5)\n",
    "(lagging_returns, _) = window_data(df, window_size, 5, 5)"
   ]
  },
  {
   "cell_type": "code",
   "execution_count": 12,
   "id": "b1974e42-481f-4d98-adcd-198da3b4bc29",
   "metadata": {},
   "outputs": [],
   "source": [
    "from sklearn.preprocessing import StandardScaler\n",
    "\n",
    "scaler = StandardScaler()\n",
    "\n",
    "X = scaler.fit_transform(X)\n",
    "rsi = scaler.fit_transform(rsi)\n",
    "williams = scaler.fit_transform(williams)\n",
    "mfi = scaler.fit_transform(mfi)\n",
    "stoch_k = scaler.fit_transform(stoch_k)\n",
    "pvt = scaler.fit_transform(pvt)\n",
    "lagging_returns = scaler.fit_transform(lagging_returns)"
   ]
  },
  {
   "cell_type": "code",
   "execution_count": 13,
   "id": "38ee47c6-3a41-4301-863b-2f0c760e56e2",
   "metadata": {},
   "outputs": [],
   "source": [
    "split = int(0.8 * len(X))\n",
    "\n",
    "X_train = X[: split - 1]\n",
    "y_train = y[: split - 1]\n",
    "rsi_train = rsi[: split - 1]\n",
    "williams_train = williams[: split - 1]\n",
    "mfi_train = mfi[: split - 1]\n",
    "stoch_k_train = stoch_k[: split - 1]\n",
    "pvt_train = pvt[: split - 1]\n",
    "lagging_returns_train = lagging_returns[: split - 1]\n",
    "\n",
    "X_test = X[split:]\n",
    "y_test = y[split:]\n",
    "rsi_test = rsi[split:]\n",
    "williams_test = williams[split:]\n",
    "mfi_test = mfi[split:]\n",
    "stoch_k_test = stoch_k[split:]\n",
    "pvt_test = pvt[split:]\n",
    "lagging_returns_test = lagging_returns[split:]"
   ]
  },
  {
   "cell_type": "code",
   "execution_count": 14,
   "id": "95017ee5-91e2-4046-b158-e75c7ccec500",
   "metadata": {},
   "outputs": [],
   "source": [
    "X_train = X_train.reshape((X_train.shape[0], X_train.shape[1], 1))\n",
    "rsi_train = rsi_train.reshape((rsi_train.shape[0], rsi_train.shape[1], 1))\n",
    "williams_train = williams_train.reshape((williams_train.shape[0], williams_train.shape[1], 1))\n",
    "mfi_train = mfi_train.reshape((mfi_train.shape[0], mfi_train.shape[1], 1))\n",
    "stoch_k_train = stoch_k_train.reshape((stoch_k_train.shape[0], stoch_k_train.shape[1], 1))\n",
    "pvt_train = pvt_train.reshape((pvt_train.shape[0], pvt_train.shape[1], 1))\n",
    "lagging_returns_train = lagging_returns_train.reshape((lagging_returns_train.shape[0], lagging_returns_train.shape[1], 1))\n",
    "\n",
    "\n",
    "X_test = X_test.reshape((X_test.shape[0], X_test.shape[1], 1))\n",
    "rsi_test = rsi_test.reshape((rsi_test.shape[0], rsi_test.shape[1], 1))\n",
    "williams_test = williams_test.reshape((williams_test.shape[0], williams_test.shape[1], 1))\n",
    "mfi_test = mfi_test.reshape((mfi_test.shape[0], mfi_test.shape[1], 1))\n",
    "stoch_k_test = stoch_k_test.reshape((stoch_k_test.shape[0], stoch_k_test.shape[1], 1))\n",
    "pvt_test = pvt_test.reshape((pvt_test.shape[0], pvt_test.shape[1], 1))\n",
    "lagging_returns_test = lagging_returns_test.reshape((lagging_returns_test.shape[0], lagging_returns_test.shape[1], 1))\n",
    "\n",
    "data_train = np.concatenate((X_train, rsi_train, williams_train, mfi_train, stoch_k_train, pvt_train, lagging_returns_train), axis=2)\n",
    "data_test = np.concatenate((X_test, rsi_test, williams_test, mfi_test, stoch_k_test, pvt_test, lagging_returns_test), axis=2)"
   ]
  },
  {
   "cell_type": "code",
   "execution_count": 15,
   "id": "2e7b4137-59ae-4685-bac7-ae3138e8e87e",
   "metadata": {},
   "outputs": [
    {
     "data": {
      "text/plain": [
       "(340, 1)"
      ]
     },
     "execution_count": 15,
     "metadata": {},
     "output_type": "execute_result"
    }
   ],
   "source": [
    "y.shape"
   ]
  },
  {
   "cell_type": "code",
   "execution_count": 16,
   "id": "8cb7d08f-2089-4391-b68f-645fbffd98d9",
   "metadata": {},
   "outputs": [
    {
     "data": {
      "text/plain": [
       "(340, 14)"
      ]
     },
     "execution_count": 16,
     "metadata": {},
     "output_type": "execute_result"
    }
   ],
   "source": [
    "X.shape"
   ]
  },
  {
   "cell_type": "code",
   "execution_count": 17,
   "id": "8fb8909e-cd85-42d5-8343-e7a6391b16a1",
   "metadata": {},
   "outputs": [],
   "source": [
    "def conv(n_filters : int,\n",
    "         fsize : int, \n",
    "         window_size : int, \n",
    "         n_features : int):\n",
    "    '''\n",
    "    Convolutional Neural Net\n",
    "    '''\n",
    "        \n",
    "    m = keras.Sequential()\n",
    "    m.add(tf.keras.layers.Conv2D(n_filters, (1,fsize), padding=\"same\", activation=\"relu\", input_shape=(window_size, n_features, 1)))\n",
    "    m.add(tf.keras.layers.Flatten())\n",
    "    m.add(tf.keras.layers.Dense(10000, activation='relu'))\n",
    "    m.add(tf.keras.layers.Dense(1000))\n",
    "    m.add(tf.keras.layers.Dense(100))\n",
    "    m.add(tf.keras.layers.Dense(1))\n",
    "    m.compile(optimizer=\"adam\", loss=\"mean_squared_error\")   \n",
    "    \n",
    "    return m"
   ]
  },
  {
   "cell_type": "code",
   "execution_count": 18,
   "id": "304fbd31-b7fd-49e1-bf27-4e1a8e76e31c",
   "metadata": {},
   "outputs": [],
   "source": [
    "data_train_wide = data_train.reshape((data_train.shape[0], data_train.shape[1], data_train.shape[2], 1))\n",
    "data_test_wide = data_test.reshape((data_test.shape[0], data_test.shape[1], data_test.shape[2], 1))"
   ]
  },
  {
   "cell_type": "code",
   "execution_count": 19,
   "id": "2bc206bd-716e-405e-8d42-2be11e808f7f",
   "metadata": {},
   "outputs": [],
   "source": [
    "model = conv(n_filters=5, fsize=5, window_size=window_size, n_features=data_train_wide.shape[2])"
   ]
  },
  {
   "cell_type": "code",
   "execution_count": 20,
   "id": "dd4940b9-b3a2-4d43-841b-94d72115dab3",
   "metadata": {},
   "outputs": [
    {
     "name": "stdout",
     "output_type": "stream",
     "text": [
      "Model: \"sequential\"\n",
      "_________________________________________________________________\n",
      "Layer (type)                 Output Shape              Param #   \n",
      "=================================================================\n",
      "conv2d (Conv2D)              (None, 14, 7, 5)          30        \n",
      "_________________________________________________________________\n",
      "flatten (Flatten)            (None, 490)               0         \n",
      "_________________________________________________________________\n",
      "dense (Dense)                (None, 10000)             4910000   \n",
      "_________________________________________________________________\n",
      "dense_1 (Dense)              (None, 1000)              10001000  \n",
      "_________________________________________________________________\n",
      "dense_2 (Dense)              (None, 100)               100100    \n",
      "_________________________________________________________________\n",
      "dense_3 (Dense)              (None, 1)                 101       \n",
      "=================================================================\n",
      "Total params: 15,011,231\n",
      "Trainable params: 15,011,231\n",
      "Non-trainable params: 0\n",
      "_________________________________________________________________\n"
     ]
    }
   ],
   "source": [
    "model.summary()"
   ]
  },
  {
   "cell_type": "code",
   "execution_count": 21,
   "id": "61b5b65e-9c9d-4649-9ad6-58ea1e70b38e",
   "metadata": {},
   "outputs": [
    {
     "name": "stdout",
     "output_type": "stream",
     "text": [
      "Epoch 1/40\n",
      "9/9 [==============================] - 1s 46ms/step - loss: 250.8005\n",
      "Epoch 2/40\n",
      "9/9 [==============================] - 0s 47ms/step - loss: 220.2065\n",
      "Epoch 3/40\n",
      "9/9 [==============================] - 0s 47ms/step - loss: 198.7012\n",
      "Epoch 4/40\n",
      "9/9 [==============================] - 0s 45ms/step - loss: 168.1766\n",
      "Epoch 5/40\n",
      "9/9 [==============================] - 0s 44ms/step - loss: 122.8348\n",
      "Epoch 6/40\n",
      "9/9 [==============================] - 0s 45ms/step - loss: 123.5491\n",
      "Epoch 7/40\n",
      "9/9 [==============================] - 0s 47ms/step - loss: 112.3051\n",
      "Epoch 8/40\n",
      "9/9 [==============================] - 0s 45ms/step - loss: 80.4975\n",
      "Epoch 9/40\n",
      "9/9 [==============================] - 0s 47ms/step - loss: 61.2870\n",
      "Epoch 10/40\n",
      "9/9 [==============================] - 0s 44ms/step - loss: 44.7405\n",
      "Epoch 11/40\n",
      "9/9 [==============================] - 0s 44ms/step - loss: 45.4499\n",
      "Epoch 12/40\n",
      "9/9 [==============================] - 0s 49ms/step - loss: 37.8706\n",
      "Epoch 13/40\n",
      "9/9 [==============================] - 0s 46ms/step - loss: 29.2864\n",
      "Epoch 14/40\n",
      "9/9 [==============================] - 0s 45ms/step - loss: 21.3387\n",
      "Epoch 15/40\n",
      "9/9 [==============================] - 0s 44ms/step - loss: 16.1708\n",
      "Epoch 16/40\n",
      "9/9 [==============================] - 0s 46ms/step - loss: 14.0547\n",
      "Epoch 17/40\n",
      "9/9 [==============================] - 0s 46ms/step - loss: 13.9751 0s - loss: 13.\n",
      "Epoch 18/40\n",
      "9/9 [==============================] - 0s 43ms/step - loss: 18.2003\n",
      "Epoch 19/40\n",
      "9/9 [==============================] - 0s 46ms/step - loss: 15.1359\n",
      "Epoch 20/40\n",
      "9/9 [==============================] - 0s 45ms/step - loss: 19.3632\n",
      "Epoch 21/40\n",
      "9/9 [==============================] - 0s 46ms/step - loss: 13.2182\n",
      "Epoch 22/40\n",
      "9/9 [==============================] - 0s 46ms/step - loss: 10.8564\n",
      "Epoch 23/40\n",
      "9/9 [==============================] - 0s 44ms/step - loss: 10.1885\n",
      "Epoch 24/40\n",
      "9/9 [==============================] - 0s 45ms/step - loss: 7.1475\n",
      "Epoch 25/40\n",
      "9/9 [==============================] - 0s 46ms/step - loss: 6.6061: 0s - loss: 6.606\n",
      "Epoch 26/40\n",
      "9/9 [==============================] - 0s 46ms/step - loss: 5.2688\n",
      "Epoch 27/40\n",
      "9/9 [==============================] - 0s 47ms/step - loss: 4.6708\n",
      "Epoch 28/40\n",
      "9/9 [==============================] - 0s 47ms/step - loss: 4.2538\n",
      "Epoch 29/40\n",
      "9/9 [==============================] - 0s 45ms/step - loss: 3.2591\n",
      "Epoch 30/40\n",
      "9/9 [==============================] - 0s 45ms/step - loss: 3.7801\n",
      "Epoch 31/40\n",
      "9/9 [==============================] - 0s 44ms/step - loss: 6.6154\n",
      "Epoch 32/40\n",
      "9/9 [==============================] - 0s 46ms/step - loss: 6.1372\n",
      "Epoch 33/40\n",
      "9/9 [==============================] - 0s 45ms/step - loss: 6.3792\n",
      "Epoch 34/40\n",
      "9/9 [==============================] - 0s 44ms/step - loss: 8.2391\n",
      "Epoch 35/40\n",
      "9/9 [==============================] - 0s 45ms/step - loss: 5.7308\n",
      "Epoch 36/40\n",
      "9/9 [==============================] - 0s 45ms/step - loss: 5.2361\n",
      "Epoch 37/40\n",
      "9/9 [==============================] - 0s 46ms/step - loss: 5.5830\n",
      "Epoch 38/40\n",
      "9/9 [==============================] - 0s 46ms/step - loss: 4.1457: 0s - loss: 4.145\n",
      "Epoch 39/40\n",
      "9/9 [==============================] - 0s 45ms/step - loss: 5.2635\n",
      "Epoch 40/40\n",
      "9/9 [==============================] - 0s 45ms/step - loss: 5.0810\n"
     ]
    }
   ],
   "source": [
    "hist = model.fit(data_train_wide, y_train, epochs=40)"
   ]
  },
  {
   "cell_type": "code",
   "execution_count": 22,
   "id": "6e846276-2de6-475d-9f95-be45a7a3795f",
   "metadata": {},
   "outputs": [
    {
     "data": {
      "image/png": "[encoded data removed]",
      "text/plain": [
       "<Figure size 432x288 with 1 Axes>"
      ]
     },
     "metadata": {
      "needs_background": "light"
     },
     "output_type": "display_data"
    }
   ],
   "source": [
    "plt.plot(hist.history[\"loss\"])\n",
    "plt.title(\"loss_function - Conv2D Deep, w/ 12 variable\")\n",
    "plt.legend([\"loss\"])\n",
    "# \n",
    "plt.show()"
   ]
  },
  {
   "cell_type": "code",
   "execution_count": 23,
   "id": "a0710a29-dcc1-4616-9458-b5e1b15b28dc",
   "metadata": {},
   "outputs": [
    {
     "data": {
      "text/plain": [
       "239.69830322265625"
      ]
     },
     "execution_count": 23,
     "metadata": {},
     "output_type": "execute_result"
    }
   ],
   "source": [
    "model.evaluate(data_test_wide, y_test, verbose=0)"
   ]
  },
  {
   "cell_type": "code",
   "execution_count": 24,
   "id": "6de5ccd6-aa97-495b-af94-6f53bec0d45e",
   "metadata": {},
   "outputs": [
    {
     "data": {
      "text/plain": [
       "-0.697976228172819"
      ]
     },
     "execution_count": 24,
     "metadata": {},
     "output_type": "execute_result"
    }
   ],
   "source": [
    "from sklearn.metrics import r2_score\n",
    "predictions = model.predict(data_test_wide)\n",
    "test_r2 = r2_score(y_test, predictions)\n",
    "test_r2"
   ]
  },
  {
   "cell_type": "code",
   "execution_count": 25,
   "id": "d2c0f3b7-dd13-4101-ad2e-e567caf7cf41",
   "metadata": {},
   "outputs": [
    {
     "data": {
      "text/html": [
       "<div>\n",
       "<style scoped>\n",
       "    .dataframe tbody tr th:only-of-type {\n",
       "        vertical-align: middle;\n",
       "    }\n",
       "\n",
       "    .dataframe tbody tr th {\n",
       "        vertical-align: top;\n",
       "    }\n",
       "\n",
       "    .dataframe thead th {\n",
       "        text-align: right;\n",
       "    }\n",
       "</style>\n",
       "<table border=\"1\" class=\"dataframe\">\n",
       "  <thead>\n",
       "    <tr style=\"text-align: right;\">\n",
       "      <th></th>\n",
       "      <th>Actual</th>\n",
       "      <th>Predict</th>\n",
       "    </tr>\n",
       "  </thead>\n",
       "  <tbody>\n",
       "    <tr>\n",
       "      <th>0</th>\n",
       "      <td>0.67</td>\n",
       "      <td>5.952254</td>\n",
       "    </tr>\n",
       "    <tr>\n",
       "      <th>1</th>\n",
       "      <td>-9.99</td>\n",
       "      <td>9.473389</td>\n",
       "    </tr>\n",
       "    <tr>\n",
       "      <th>2</th>\n",
       "      <td>-13.02</td>\n",
       "      <td>17.597910</td>\n",
       "    </tr>\n",
       "    <tr>\n",
       "      <th>3</th>\n",
       "      <td>-3.64</td>\n",
       "      <td>21.792871</td>\n",
       "    </tr>\n",
       "    <tr>\n",
       "      <th>4</th>\n",
       "      <td>7.41</td>\n",
       "      <td>23.135660</td>\n",
       "    </tr>\n",
       "    <tr>\n",
       "      <th>5</th>\n",
       "      <td>7.37</td>\n",
       "      <td>26.529739</td>\n",
       "    </tr>\n",
       "    <tr>\n",
       "      <th>6</th>\n",
       "      <td>11.53</td>\n",
       "      <td>22.915464</td>\n",
       "    </tr>\n",
       "    <tr>\n",
       "      <th>7</th>\n",
       "      <td>14.91</td>\n",
       "      <td>19.585857</td>\n",
       "    </tr>\n",
       "    <tr>\n",
       "      <th>8</th>\n",
       "      <td>25.13</td>\n",
       "      <td>24.256283</td>\n",
       "    </tr>\n",
       "    <tr>\n",
       "      <th>9</th>\n",
       "      <td>23.55</td>\n",
       "      <td>23.696602</td>\n",
       "    </tr>\n",
       "  </tbody>\n",
       "</table>\n",
       "</div>"
      ],
      "text/plain": [
       "   Actual    Predict\n",
       "0    0.67   5.952254\n",
       "1   -9.99   9.473389\n",
       "2  -13.02  17.597910\n",
       "3   -3.64  21.792871\n",
       "4    7.41  23.135660\n",
       "5    7.37  26.529739\n",
       "6   11.53  22.915464\n",
       "7   14.91  19.585857\n",
       "8   25.13  24.256283\n",
       "9   23.55  23.696602"
      ]
     },
     "execution_count": 25,
     "metadata": {},
     "output_type": "execute_result"
    }
   ],
   "source": [
    "conv_acc_df = pd.DataFrame()\n",
    "conv_acc_df['Actual'] = y_test[:,0]\n",
    "conv_acc_df['Predict'] = predictions[:,0]\n",
    "conv_acc_df.head(10)"
   ]
  },
  {
   "cell_type": "code",
   "execution_count": 26,
   "id": "9a385f4c-8d12-496c-a4fd-c86b7930d20d",
   "metadata": {},
   "outputs": [
    {
     "data": {
      "text/plain": [
       "<AxesSubplot:>"
      ]
     },
     "execution_count": 26,
     "metadata": {},
     "output_type": "execute_result"
    },
    {
     "data": {
      "image/png": "[encoded data removed]",
      "text/plain": [
       "<Figure size 432x288 with 1 Axes>"
      ]
     },
     "metadata": {
      "needs_background": "light"
     },
     "output_type": "display_data"
    }
   ],
   "source": [
    "conv_acc_df.plot()"
   ]
  },
  {
   "cell_type": "markdown",
   "id": "9ed06bc0-0f06-48a0-ab29-4e2d88fe84ea",
   "metadata": {},
   "source": [
    "## Get last 2 weeks of data"
   ]
  },
  {
   "cell_type": "code",
   "execution_count": 27,
   "id": "f3e8171c-cc8e-47f1-8801-dd64bc01cb60",
   "metadata": {},
   "outputs": [
    {
     "name": "stdout",
     "output_type": "stream",
     "text": [
      "Start date : 2021-07-10\n",
      "End date : 2021-06-19\n"
     ]
    }
   ],
   "source": [
    "from datetime import date, datetime, timedelta\n",
    "\n",
    "start_date  = datetime.now()\n",
    "end_date  = (start_date - timedelta(days=21))\n",
    "\n",
    "start_date = start_date.strftime('%Y-%m-%d')\n",
    "end_date = end_date.strftime('%Y-%m-%d')\n",
    "\n",
    "print(f\"Start date : {start_date}\")\n",
    "print(f\"End date : {end_date}\")"
   ]
  },
  {
   "cell_type": "code",
   "execution_count": 28,
   "id": "84909c02-0039-4d6e-91bf-a15d226c00ad",
   "metadata": {},
   "outputs": [
    {
     "data": {
      "text/plain": [
       "['ADSK']"
      ]
     },
     "execution_count": 28,
     "metadata": {},
     "output_type": "execute_result"
    }
   ],
   "source": [
    "test_tickers"
   ]
  },
  {
   "cell_type": "code",
   "execution_count": 29,
   "id": "b232effb-0434-4729-a22c-60e79738d900",
   "metadata": {},
   "outputs": [],
   "source": [
    "ohlcv_df = alpaca.ohlcv(test_tickers, start_date=start_date, end_date=end_date)\n",
    "tech_ind_test = technicals.TechnicalAnalysis(ohlcv_df)\n",
    "test_df = tech_ind.get_all_technicals(test_tickers[0])"
   ]
  },
  {
   "cell_type": "code",
   "execution_count": 30,
   "id": "b51a8237-3416-43c9-8a10-16d9f2b5358c",
   "metadata": {},
   "outputs": [
    {
     "data": {
      "text/plain": [
       "-0.697976228172819"
      ]
     },
     "execution_count": 30,
     "metadata": {},
     "output_type": "execute_result"
    }
   ],
   "source": [
    "from sklearn.metrics import r2_score\n",
    "test_predictions = model.predict(data_test_wide)\n",
    "test_r2 = r2_score(y_test, predictions)\n",
    "test_r2"
   ]
  },
  {
   "cell_type": "code",
   "execution_count": null,
   "id": "17c5e79c-ea2f-45bc-9e44-fb22c6c1671a",
   "metadata": {},
   "outputs": [],
   "source": []
  }
 ],
 "metadata": {
  "kernelspec": {
   "display_name": "Python 3",
   "language": "python",
   "name": "python3"
  },
  "language_info": {
   "codemirror_mode": {
    "name": "ipython",
    "version": 3
   },
   "file_extension": ".py",
   "mimetype": "text/x-python",
   "name": "python",
   "nbconvert_exporter": "python",
   "pygments_lexer": "ipython3",
   "version": "3.7.10"
  }
 },
 "nbformat": 4,
 "nbformat_minor": 5
}
