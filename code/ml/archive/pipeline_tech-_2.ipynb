{
 "cells": [
  {
   "cell_type": "markdown",
   "id": "8a3399d9-52db-46e3-978e-3c418d7121b7",
   "metadata": {},
   "source": [
    "# ML Model pipeline"
   ]
  },
  {
   "cell_type": "code",
   "execution_count": 5,
   "id": "2fdafc02-deb9-490a-9459-143fd4172b6b",
   "metadata": {},
   "outputs": [],
   "source": [
    "import tensorflow as tf\n",
    "from tensorflow import keras\n",
    "import numpy as np\n",
    "import pandas as pd\n",
    "import os\n",
    "\n",
    "os.chdir(\"../marketdata\")\n",
    "import yahoo\n",
    "import alpaca\n",
    "\n",
    "os.chdir(\"../technicals\")\n",
    "import technicals\n"
   ]
  },
  {
   "cell_type": "markdown",
   "id": "aabb85e0-823f-4873-9c19-b88a1db56efb",
   "metadata": {},
   "source": [
    "### Set model seeds"
   ]
  },
  {
   "cell_type": "code",
   "execution_count": 6,
   "id": "8a463b4d-8a84-4db5-98b5-5aa86a2100a5",
   "metadata": {},
   "outputs": [],
   "source": [
    "# The random seed\n",
    "seed = 42\n",
    "\n",
    "# Set seeds\n",
    "tf.random.set_seed(seed)\n",
    "np.random.seed(seed)"
   ]
  },
  {
   "cell_type": "code",
   "execution_count": 7,
   "id": "2a5c961e-8ae6-4532-8c98-53c72500c917",
   "metadata": {},
   "outputs": [
    {
     "name": "stderr",
     "output_type": "stream",
     "text": [
      "C:\\Users\\illya\\AppData\\Roaming\\Python\\Python37\\site-packages\\ipykernel_launcher.py:5: SettingWithCopyWarning: \n",
      "A value is trying to be set on a copy of a slice from a DataFrame.\n",
      "Try using .loc[row_indexer,col_indexer] = value instead\n",
      "\n",
      "See the caveats in the documentation: https://pandas.pydata.org/pandas-docs/stable/user_guide/indexing.html#returning-a-view-versus-a-copy\n",
      "  \"\"\"\n"
     ]
    }
   ],
   "source": [
    "test_tickers = [\"ADSK\"]\n",
    "ohlcv_df = alpaca.ohlcv(test_tickers)\n",
    "tech_ind = technicals.TechnicalAnalysis(ohlcv_df)\n",
    "df = tech_ind.get_all_technicals(test_tickers[0], returns_period=14)\n",
    "df['daily_return_bin'] = np.where(df['daily_return'] > 0, 1, 0)\n",
    "df.drop(columns=[\"daily_return\"], inplace=True)"
   ]
  },
  {
   "cell_type": "code",
   "execution_count": 8,
   "id": "b320cd58-6011-47a7-90a2-adafe5c0e06f",
   "metadata": {},
   "outputs": [
    {
     "data": {
      "text/html": [
       "<div>\n",
       "<style scoped>\n",
       "    .dataframe tbody tr th:only-of-type {\n",
       "        vertical-align: middle;\n",
       "    }\n",
       "\n",
       "    .dataframe tbody tr th {\n",
       "        vertical-align: top;\n",
       "    }\n",
       "\n",
       "    .dataframe thead th {\n",
       "        text-align: right;\n",
       "    }\n",
       "</style>\n",
       "<table border=\"1\" class=\"dataframe\">\n",
       "  <thead>\n",
       "    <tr style=\"text-align: right;\">\n",
       "      <th></th>\n",
       "      <th>open</th>\n",
       "      <th>high</th>\n",
       "      <th>low</th>\n",
       "      <th>close</th>\n",
       "      <th>volume</th>\n",
       "      <th>rsi</th>\n",
       "      <th>williams</th>\n",
       "      <th>mfi</th>\n",
       "      <th>stoch_k</th>\n",
       "      <th>macd</th>\n",
       "      <th>...</th>\n",
       "      <th>ema_7</th>\n",
       "      <th>ema_14</th>\n",
       "      <th>ema_21</th>\n",
       "      <th>highlow</th>\n",
       "      <th>closeopen</th>\n",
       "      <th>bb_high</th>\n",
       "      <th>bb_low</th>\n",
       "      <th>pvt</th>\n",
       "      <th>cum_daily_return</th>\n",
       "      <th>daily_return_bin</th>\n",
       "    </tr>\n",
       "    <tr>\n",
       "      <th>time</th>\n",
       "      <th></th>\n",
       "      <th></th>\n",
       "      <th></th>\n",
       "      <th></th>\n",
       "      <th></th>\n",
       "      <th></th>\n",
       "      <th></th>\n",
       "      <th></th>\n",
       "      <th></th>\n",
       "      <th></th>\n",
       "      <th></th>\n",
       "      <th></th>\n",
       "      <th></th>\n",
       "      <th></th>\n",
       "      <th></th>\n",
       "      <th></th>\n",
       "      <th></th>\n",
       "      <th></th>\n",
       "      <th></th>\n",
       "      <th></th>\n",
       "      <th></th>\n",
       "    </tr>\n",
       "  </thead>\n",
       "  <tbody>\n",
       "    <tr>\n",
       "      <th>2020-01-02 00:00:00-05:00</th>\n",
       "      <td>184.21</td>\n",
       "      <td>187.89</td>\n",
       "      <td>181.88</td>\n",
       "      <td>187.83</td>\n",
       "      <td>1379670</td>\n",
       "      <td>0.000000</td>\n",
       "      <td>0.0</td>\n",
       "      <td>0.0</td>\n",
       "      <td>0.0</td>\n",
       "      <td>0.000000</td>\n",
       "      <td>...</td>\n",
       "      <td>187.830000</td>\n",
       "      <td>187.830000</td>\n",
       "      <td>187.830000</td>\n",
       "      <td>6.01</td>\n",
       "      <td>3.62</td>\n",
       "      <td>0.0</td>\n",
       "      <td>0.0</td>\n",
       "      <td>0.000000</td>\n",
       "      <td>1.000000</td>\n",
       "      <td>0</td>\n",
       "    </tr>\n",
       "    <tr>\n",
       "      <th>2020-01-03 00:00:00-05:00</th>\n",
       "      <td>184.49</td>\n",
       "      <td>186.41</td>\n",
       "      <td>183.78</td>\n",
       "      <td>184.96</td>\n",
       "      <td>635151</td>\n",
       "      <td>0.000000</td>\n",
       "      <td>0.0</td>\n",
       "      <td>0.0</td>\n",
       "      <td>0.0</td>\n",
       "      <td>-0.064391</td>\n",
       "      <td>...</td>\n",
       "      <td>186.190000</td>\n",
       "      <td>186.292500</td>\n",
       "      <td>186.326667</td>\n",
       "      <td>2.63</td>\n",
       "      <td>0.47</td>\n",
       "      <td>0.0</td>\n",
       "      <td>0.0</td>\n",
       "      <td>0.000000</td>\n",
       "      <td>0.984720</td>\n",
       "      <td>0</td>\n",
       "    </tr>\n",
       "    <tr>\n",
       "      <th>2020-01-06 00:00:00-05:00</th>\n",
       "      <td>183.78</td>\n",
       "      <td>187.25</td>\n",
       "      <td>183.16</td>\n",
       "      <td>187.12</td>\n",
       "      <td>642260</td>\n",
       "      <td>5.101559</td>\n",
       "      <td>0.0</td>\n",
       "      <td>0.0</td>\n",
       "      <td>0.0</td>\n",
       "      <td>-0.015065</td>\n",
       "      <td>...</td>\n",
       "      <td>186.592162</td>\n",
       "      <td>186.608608</td>\n",
       "      <td>186.616677</td>\n",
       "      <td>4.09</td>\n",
       "      <td>3.34</td>\n",
       "      <td>0.0</td>\n",
       "      <td>0.0</td>\n",
       "      <td>17205.405080</td>\n",
       "      <td>0.996220</td>\n",
       "      <td>1</td>\n",
       "    </tr>\n",
       "    <tr>\n",
       "      <th>2020-01-07 00:00:00-05:00</th>\n",
       "      <td>186.78</td>\n",
       "      <td>188.17</td>\n",
       "      <td>185.10</td>\n",
       "      <td>187.52</td>\n",
       "      <td>750003</td>\n",
       "      <td>6.052509</td>\n",
       "      <td>0.0</td>\n",
       "      <td>0.0</td>\n",
       "      <td>0.0</td>\n",
       "      <td>0.022180</td>\n",
       "      <td>...</td>\n",
       "      <td>186.931486</td>\n",
       "      <td>186.887428</td>\n",
       "      <td>186.875742</td>\n",
       "      <td>3.07</td>\n",
       "      <td>0.74</td>\n",
       "      <td>0.0</td>\n",
       "      <td>0.0</td>\n",
       "      <td>-5897.185512</td>\n",
       "      <td>0.998350</td>\n",
       "      <td>1</td>\n",
       "    </tr>\n",
       "    <tr>\n",
       "      <th>2020-01-08 00:00:00-05:00</th>\n",
       "      <td>188.22</td>\n",
       "      <td>190.50</td>\n",
       "      <td>187.03</td>\n",
       "      <td>190.01</td>\n",
       "      <td>1080578</td>\n",
       "      <td>11.938087</td>\n",
       "      <td>0.0</td>\n",
       "      <td>0.0</td>\n",
       "      <td>0.0</td>\n",
       "      <td>0.141034</td>\n",
       "      <td>...</td>\n",
       "      <td>187.940576</td>\n",
       "      <td>187.702103</td>\n",
       "      <td>187.627387</td>\n",
       "      <td>3.47</td>\n",
       "      <td>1.79</td>\n",
       "      <td>0.0</td>\n",
       "      <td>0.0</td>\n",
       "      <td>12745.289664</td>\n",
       "      <td>1.011606</td>\n",
       "      <td>1</td>\n",
       "    </tr>\n",
       "  </tbody>\n",
       "</table>\n",
       "<p>5 rows × 23 columns</p>\n",
       "</div>"
      ],
      "text/plain": [
       "                             open    high     low   close   volume        rsi  \\\n",
       "time                                                                            \n",
       "2020-01-02 00:00:00-05:00  184.21  187.89  181.88  187.83  1379670   0.000000   \n",
       "2020-01-03 00:00:00-05:00  184.49  186.41  183.78  184.96   635151   0.000000   \n",
       "2020-01-06 00:00:00-05:00  183.78  187.25  183.16  187.12   642260   5.101559   \n",
       "2020-01-07 00:00:00-05:00  186.78  188.17  185.10  187.52   750003   6.052509   \n",
       "2020-01-08 00:00:00-05:00  188.22  190.50  187.03  190.01  1080578  11.938087   \n",
       "\n",
       "                           williams  mfi  stoch_k      macd  ...       ema_7  \\\n",
       "time                                                         ...               \n",
       "2020-01-02 00:00:00-05:00       0.0  0.0      0.0  0.000000  ...  187.830000   \n",
       "2020-01-03 00:00:00-05:00       0.0  0.0      0.0 -0.064391  ...  186.190000   \n",
       "2020-01-06 00:00:00-05:00       0.0  0.0      0.0 -0.015065  ...  186.592162   \n",
       "2020-01-07 00:00:00-05:00       0.0  0.0      0.0  0.022180  ...  186.931486   \n",
       "2020-01-08 00:00:00-05:00       0.0  0.0      0.0  0.141034  ...  187.940576   \n",
       "\n",
       "                               ema_14      ema_21  highlow  closeopen  \\\n",
       "time                                                                    \n",
       "2020-01-02 00:00:00-05:00  187.830000  187.830000     6.01       3.62   \n",
       "2020-01-03 00:00:00-05:00  186.292500  186.326667     2.63       0.47   \n",
       "2020-01-06 00:00:00-05:00  186.608608  186.616677     4.09       3.34   \n",
       "2020-01-07 00:00:00-05:00  186.887428  186.875742     3.07       0.74   \n",
       "2020-01-08 00:00:00-05:00  187.702103  187.627387     3.47       1.79   \n",
       "\n",
       "                           bb_high  bb_low           pvt  cum_daily_return  \\\n",
       "time                                                                         \n",
       "2020-01-02 00:00:00-05:00      0.0     0.0      0.000000          1.000000   \n",
       "2020-01-03 00:00:00-05:00      0.0     0.0      0.000000          0.984720   \n",
       "2020-01-06 00:00:00-05:00      0.0     0.0  17205.405080          0.996220   \n",
       "2020-01-07 00:00:00-05:00      0.0     0.0  -5897.185512          0.998350   \n",
       "2020-01-08 00:00:00-05:00      0.0     0.0  12745.289664          1.011606   \n",
       "\n",
       "                           daily_return_bin  \n",
       "time                                         \n",
       "2020-01-02 00:00:00-05:00                 0  \n",
       "2020-01-03 00:00:00-05:00                 0  \n",
       "2020-01-06 00:00:00-05:00                 1  \n",
       "2020-01-07 00:00:00-05:00                 1  \n",
       "2020-01-08 00:00:00-05:00                 1  \n",
       "\n",
       "[5 rows x 23 columns]"
      ]
     },
     "execution_count": 8,
     "metadata": {},
     "output_type": "execute_result"
    }
   ],
   "source": [
    "df.head()"
   ]
  },
  {
   "cell_type": "markdown",
   "id": "37e42f58-6424-46e8-a0e4-11ba5c8845ac",
   "metadata": {},
   "source": [
    "### Train/test plit"
   ]
  },
  {
   "cell_type": "code",
   "execution_count": 9,
   "id": "00c51e1d-05da-44a5-8a0d-c6bb36f26699",
   "metadata": {},
   "outputs": [],
   "source": [
    "split = int(0.8 * len(df.index))\n",
    "\n",
    "df_train = df.iloc[: split - 1]\n",
    "df_test = df.iloc[split:]"
   ]
  },
  {
   "cell_type": "code",
   "execution_count": 10,
   "id": "28000630-bc28-4657-b6a3-fdfee7fd2fb7",
   "metadata": {},
   "outputs": [
    {
     "data": {
      "text/plain": [
       "(305, 23)"
      ]
     },
     "execution_count": 10,
     "metadata": {},
     "output_type": "execute_result"
    }
   ],
   "source": [
    "df_train.shape"
   ]
  },
  {
   "cell_type": "code",
   "execution_count": 11,
   "id": "2331065b-96cf-4284-919c-f267edef19d2",
   "metadata": {},
   "outputs": [
    {
     "data": {
      "text/plain": [
       "(77, 23)"
      ]
     },
     "execution_count": 11,
     "metadata": {},
     "output_type": "execute_result"
    }
   ],
   "source": [
    "df_test.shape"
   ]
  },
  {
   "cell_type": "markdown",
   "id": "7505e691-f6f6-4915-b48f-4d3e3b06b648",
   "metadata": {},
   "source": [
    "### Train/Validate split"
   ]
  },
  {
   "cell_type": "code",
   "execution_count": 12,
   "id": "a1861224-5d9c-4cb2-981c-f9f5977c8301",
   "metadata": {},
   "outputs": [],
   "source": [
    "from sklearn.model_selection import train_test_split\n",
    "df_train, df_validate = train_test_split(df_train, train_size=0.8, random_state=seed)"
   ]
  },
  {
   "cell_type": "code",
   "execution_count": 15,
   "id": "3d751894-8a0f-48ea-8b1a-55d912f3534d",
   "metadata": {},
   "outputs": [],
   "source": [
    "target = \"daily_return_bin\""
   ]
  },
  {
   "cell_type": "code",
   "execution_count": 16,
   "id": "8bdc065b-3abd-4379-a19d-cfaaecb01b06",
   "metadata": {},
   "outputs": [],
   "source": [
    "# Get the feature matrix\n",
    "X_train = df_train[np.setdiff1d(df_train.columns, [target])].values\n",
    "X_val = df_validate[np.setdiff1d(df_validate.columns, [target])].values\n",
    "X_test = df_test[np.setdiff1d(df_test.columns, [target])].values\n",
    "\n",
    "# Get the target vector\n",
    "y_train = df_train[target].values\n",
    "y_val = df_validate[target].values\n",
    "y_test = df_test[target].values"
   ]
  },
  {
   "cell_type": "code",
   "execution_count": 17,
   "id": "f1daccf1-b07c-4018-b153-9e5768eae0b0",
   "metadata": {},
   "outputs": [],
   "source": [
    "from sklearn.preprocessing import StandardScaler\n",
    "\n",
    "# The StandardScaler\n",
    "scaler = StandardScaler()\n",
    "\n",
    "# Standardize the training data\n",
    "X_train = scaler.fit_transform(X_train)\n",
    "\n",
    "# Standardize the validation data\n",
    "X_val = scaler.transform(X_val)\n",
    "\n",
    "# Standardize the test data\n",
    "X_test = scaler.transform(X_test)"
   ]
  },
  {
   "cell_type": "markdown",
   "id": "d573aa45-0054-4acc-b453-1b73036c8e4a",
   "metadata": {},
   "source": [
    "### ML Model Pipeline Hyperparameter Tuning"
   ]
  },
  {
   "cell_type": "code",
   "execution_count": 18,
   "id": "e2d75652-dcc9-47e0-94ca-e3750272e372",
   "metadata": {},
   "outputs": [],
   "source": [
    "from sklearn.linear_model import LogisticRegression\n",
    "from sklearn.neural_network import MLPClassifier\n",
    "from sklearn.ensemble import RandomForestClassifier\n",
    "from sklearn.experimental import enable_hist_gradient_boosting\n",
    "from sklearn.ensemble import HistGradientBoostingClassifier\n",
    "\n",
    "models = {'lr': LogisticRegression(class_weight='balanced', random_state=seed),\n",
    "          'mlpc': MLPClassifier(early_stopping=True, random_state=seed),\n",
    "          'rfc': RandomForestClassifier(class_weight='balanced', random_state=seed),\n",
    "          'hgbc': HistGradientBoostingClassifier(random_state=seed)}"
   ]
  },
  {
   "cell_type": "code",
   "execution_count": 19,
   "id": "1a030dcd-292e-496e-b95a-0b7fdc9a45a9",
   "metadata": {},
   "outputs": [],
   "source": [
    "# Pipeline dictionary\n",
    "\n",
    "from sklearn.pipeline import Pipeline\n",
    "\n",
    "pipeline_dict = {}\n",
    "\n",
    "for model_name, model in models.items():\n",
    "    pipeline_dict[model_name] = Pipeline([('model', model)])"
   ]
  },
  {
   "cell_type": "code",
   "execution_count": 20,
   "id": "615b820d-a2ed-42c0-911a-ee7f0a117b54",
   "metadata": {},
   "outputs": [],
   "source": [
    "from sklearn.model_selection import PredefinedSplit\n",
    "\n",
    "# Code source: https://www.kaggle.com/arushik1994/wids-datathon-logistic-regression\n",
    "\n",
    "def get_train_val_ps(X_train, y_train, X_val, y_val):\n",
    "    \"\"\"\n",
    "    Get the:\n",
    "    feature matrix and target velctor in the combined training and validation data\n",
    "    target vector in the combined training and validation data\n",
    "    PredefinedSplit\n",
    "    \n",
    "    Parameters\n",
    "    ----------\n",
    "    X_train : the feature matrix in the training data\n",
    "    y_train : the target vector in the training data\n",
    "    X_val : the feature matrix in the validation data\n",
    "    y_val : the target vector in the validation data  \n",
    "\n",
    "    Return\n",
    "    ----------\n",
    "    The feature matrix in the combined training and validation data\n",
    "    The target vector in the combined training and validation data\n",
    "    PredefinedSplit\n",
    "    \"\"\"  \n",
    "\n",
    "    # Combine the feature matrix in the training and validation data\n",
    "    X_train_val = np.vstack((X_train, X_val))\n",
    "\n",
    "    # Combine the target vector in the training and validation data\n",
    "    y_train_val = np.vstack((y_train.reshape(-1, 1), y_val.reshape(-1, 1))).reshape(-1)\n",
    "\n",
    "    # Get the indices of training and validation data\n",
    "    train_val_idxs = np.append(np.full(X_train.shape[0], -1), np.full(X_val.shape[0], 0))\n",
    "\n",
    "    # The PredefinedSplit\n",
    "    ps = PredefinedSplit(train_val_idxs)\n",
    "\n",
    "    return X_train_val, y_train_val, ps"
   ]
  },
  {
   "cell_type": "code",
   "execution_count": 21,
   "id": "ae738ea2-7462-4aee-a571-c5478f9c1100",
   "metadata": {},
   "outputs": [],
   "source": [
    "# Used the implementation in pmlm_utilities.ipynb\n",
    "X_train_val, y_train_val, ps = get_train_val_ps(X_train, y_train, X_val, y_val)"
   ]
  },
  {
   "cell_type": "code",
   "execution_count": 22,
   "id": "a2ae48f1-e8a8-4d90-83cb-bdb6e821e6bd",
   "metadata": {},
   "outputs": [],
   "source": [
    "param_grids = {}"
   ]
  },
  {
   "cell_type": "code",
   "execution_count": 23,
   "id": "468c4bf4-6690-4120-949c-a5213a1d7727",
   "metadata": {},
   "outputs": [],
   "source": [
    "# Logistic Regression Parameters\n",
    "# The parameter grid of tol\n",
    "tol_grid = [10 ** -5, 10 ** -4, 10 ** -3]\n",
    "\n",
    "# The parameter grid of C\n",
    "C_grid = [0.1, 1, 10]\n",
    "\n",
    "# Update param_grids\n",
    "param_grids['lr'] = [{'model__tol': tol_grid,\n",
    "                      'model__C': C_grid}]"
   ]
  },
  {
   "cell_type": "code",
   "execution_count": 24,
   "id": "7392a0ad-afc2-4dc7-bdf4-8c69fcffb16a",
   "metadata": {},
   "outputs": [],
   "source": [
    "# MPL Classifier Parameters\n",
    "#The grids for alpha\n",
    "alpha_grids = [10 ** i for i in range(-7, -2)]\n",
    "\n",
    "# The grids for learning_rate_init\n",
    "learning_rate_init_grids = [8 ** i for i in range(-4, -1)]\n",
    "\n",
    "# Update param_grids\n",
    "param_grids['mlpc'] = [{'model__alpha': alpha_grids,\n",
    "                        'model__learning_rate_init': learning_rate_init_grids}]"
   ]
  },
  {
   "cell_type": "code",
   "execution_count": 25,
   "id": "0ad9a087-1229-4ae4-bd6f-ab1c49161020",
   "metadata": {},
   "outputs": [],
   "source": [
    "# Random Forest Classifier Parameters\n",
    "# The grids for min_samples_split\n",
    "min_samples_split_grids = [2, 20, 200]\n",
    "\n",
    "# The grids for min_samples_leaf\n",
    "min_samples_leaf_grids = [1, 20, 200]\n",
    "\n",
    "# Update param_grids\n",
    "param_grids['rfc'] = [{'model__min_samples_split': min_samples_split_grids,\n",
    "                       'model__min_samples_leaf': min_samples_leaf_grids}]"
   ]
  },
  {
   "cell_type": "code",
   "execution_count": 26,
   "id": "0dbaae38-61a6-473d-9d98-3731ec09c965",
   "metadata": {},
   "outputs": [],
   "source": [
    "# Histogram Based Gradient Boost Parameters\n",
    "# The grids for learning_rate\n",
    "learning_rate_grids = [10 ** i for i in range(-4, 2)]\n",
    "\n",
    "# The grids for min_samples_leaf\n",
    "min_samples_leaf_grids = [1, 20, 100]\n",
    "\n",
    "# Update param_grids\n",
    "param_grids['hgbc'] = [{'model__learning_rate': learning_rate_grids,\n",
    "                        'model__min_samples_leaf': min_samples_leaf_grids}]"
   ]
  },
  {
   "cell_type": "code",
   "execution_count": 30,
   "id": "5f109d20-e437-492c-973a-e4f173988663",
   "metadata": {},
   "outputs": [
    {
     "name": "stderr",
     "output_type": "stream",
     "text": [
      "C:\\Users\\illya\\anaconda3\\envs\\cu_proj_2\\lib\\site-packages\\sklearn\\linear_model\\_logistic.py:765: ConvergenceWarning: lbfgs failed to converge (status=1):\n",
      "STOP: TOTAL NO. of ITERATIONS REACHED LIMIT.\n",
      "\n",
      "Increase the number of iterations (max_iter) or scale the data as shown in:\n",
      "    https://scikit-learn.org/stable/modules/preprocessing.html\n",
      "Please also refer to the documentation for alternative solver options:\n",
      "    https://scikit-learn.org/stable/modules/linear_model.html#logistic-regression\n",
      "  extra_warning_msg=_LOGISTIC_SOLVER_CONVERGENCE_MSG)\n"
     ]
    }
   ],
   "source": [
    "from sklearn.model_selection import GridSearchCV\n",
    "\n",
    "model_dict = {}\n",
    "\n",
    "for model_name in pipeline_dict.keys():\n",
    "\n",
    "    grid_model = GridSearchCV(estimator=pipeline_dict[model_name],\n",
    "                      param_grid=param_grids[model_name],\n",
    "                      scoring='f1_macro',\n",
    "                      n_jobs=2,\n",
    "                      cv=ps,\n",
    "                      return_train_score=True)\n",
    "        \n",
    "    # Fit the pipeline\n",
    "    model_fit = grid_model.fit(X_train_val, y_train_val)\n",
    "    \n",
    "    # Update best_score_params_estimator_gs\n",
    "    model_dict[model_name] = {'report' : [grid_model.best_score_, grid_model.best_params_, grid_model.best_estimator_],\n",
    "                              'model' : model_fit}"
   ]
  },
  {
   "cell_type": "code",
   "execution_count": 29,
   "id": "13fb3455-3c52-48de-a92b-6c4119c37700",
   "metadata": {},
   "outputs": [
    {
     "name": "stdout",
     "output_type": "stream",
     "text": [
      "{'lr': {'report': [0.8983333333333333, {'model__C': 10, 'model__tol': 1e-05}, Pipeline(steps=[('model',\n",
      "                 LogisticRegression(C=10, class_weight='balanced',\n",
      "                                    random_state=42, tol=1e-05))])], 'model': GridSearchCV(cv=PredefinedSplit(test_fold=array([-1, -1, ...,  0,  0])),\n",
      "             estimator=Pipeline(steps=[('model',\n",
      "                                        LogisticRegression(class_weight='balanced',\n",
      "                                                           random_state=42))]),\n",
      "             n_jobs=2,\n",
      "             param_grid=[{'model__C': [0.1, 1, 10],\n",
      "                          'model__tol': [1e-05, 0.0001, 0.001]}],\n",
      "             return_train_score=True, scoring='f1_macro')}, 'mlpc': {'report': [0.8498769483182936, {'model__alpha': 1e-07, 'model__learning_rate_init': 0.015625}, Pipeline(steps=[('model',\n",
      "                 MLPClassifier(alpha=1e-07, early_stopping=True,\n",
      "                               learning_rate_init=0.015625, random_state=42))])], 'model': GridSearchCV(cv=PredefinedSplit(test_fold=array([-1, -1, ...,  0,  0])),\n",
      "             estimator=Pipeline(steps=[('model',\n",
      "                                        MLPClassifier(early_stopping=True,\n",
      "                                                      random_state=42))]),\n",
      "             n_jobs=2,\n",
      "             param_grid=[{'model__alpha': [1e-07, 1e-06, 1e-05, 0.0001, 0.001],\n",
      "                          'model__learning_rate_init': [0.000244140625,\n",
      "                                                        0.001953125,\n",
      "                                                        0.015625]}],\n",
      "             return_train_score=True, scoring='f1_macro')}, 'rfc': {'report': [0.865934065934066, {'model__min_samples_leaf': 20, 'model__min_samples_split': 2}, Pipeline(steps=[('model',\n",
      "                 RandomForestClassifier(class_weight='balanced',\n",
      "                                        min_samples_leaf=20,\n",
      "                                        random_state=42))])], 'model': GridSearchCV(cv=PredefinedSplit(test_fold=array([-1, -1, ...,  0,  0])),\n",
      "             estimator=Pipeline(steps=[('model',\n",
      "                                        RandomForestClassifier(class_weight='balanced',\n",
      "                                                               random_state=42))]),\n",
      "             n_jobs=2,\n",
      "             param_grid=[{'model__min_samples_leaf': [1, 20, 200],\n",
      "                          'model__min_samples_split': [2, 20, 200]}],\n",
      "             return_train_score=True, scoring='f1_macro')}, 'hgbc': {'report': [0.865934065934066, {'model__learning_rate': 1, 'model__min_samples_leaf': 100}, Pipeline(steps=[('model',\n",
      "                 HistGradientBoostingClassifier(learning_rate=1,\n",
      "                                                min_samples_leaf=100,\n",
      "                                                random_state=42))])], 'model': GridSearchCV(cv=PredefinedSplit(test_fold=array([-1, -1, ...,  0,  0])),\n",
      "             estimator=Pipeline(steps=[('model',\n",
      "                                        HistGradientBoostingClassifier(random_state=42))]),\n",
      "             n_jobs=2,\n",
      "             param_grid=[{'model__learning_rate': [0.0001, 0.001, 0.01, 0.1, 1,\n",
      "                                                   10],\n",
      "                          'model__min_samples_leaf': [1, 20, 100]}],\n",
      "             return_train_score=True, scoring='f1_macro')}}\n"
     ]
    }
   ],
   "source": []
  },
  {
   "cell_type": "code",
   "execution_count": null,
   "id": "e435c906-8560-4193-80fc-9c40dbd961e2",
   "metadata": {},
   "outputs": [],
   "source": []
  }
 ],
 "metadata": {
  "kernelspec": {
   "display_name": "Python 3",
   "language": "python",
   "name": "python3"
  },
  "language_info": {
   "codemirror_mode": {
    "name": "ipython",
    "version": 3
   },
   "file_extension": ".py",
   "mimetype": "text/x-python",
   "name": "python",
   "nbconvert_exporter": "python",
   "pygments_lexer": "ipython3",
   "version": "3.7.10"
  }
 },
 "nbformat": 4,
 "nbformat_minor": 5
}
