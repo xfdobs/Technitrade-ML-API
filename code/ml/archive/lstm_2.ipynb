{
 "cells": [
  {
   "cell_type": "markdown",
   "id": "7d8dc240-2558-4c94-90e3-29066d41ec51",
   "metadata": {},
   "source": [
    "https://towardsdatascience.com/forecasting-with-technical-indicators-and-gru-lstm-rnn-multivariate-time-series-a3244dcbc38b"
   ]
  },
  {
   "cell_type": "code",
   "execution_count": 1,
   "id": "866f19f7-f796-4832-bfc6-7c477b692a64",
   "metadata": {},
   "outputs": [],
   "source": [
    "import os\n",
    "import numpy as np\n",
    "import matplotlib.pyplot as plt\n",
    "import pandas as pd\n",
    "import math\n",
    "\n",
    "import tensorflow as tf\n",
    "\n",
    "from keras.models import Sequential\n",
    "from keras.layers import Dense\n",
    "from keras.layers import LSTM, Dropout\n",
    "from sklearn.preprocessing import MinMaxScaler\n",
    "from sklearn.metrics import mean_squared_error\n",
    "\n",
    "os.chdir(\"../marketdata\")\n",
    "import alpaca\n",
    "\n",
    "os.chdir(\"../technicals\")\n",
    "import technicals"
   ]
  },
  {
   "cell_type": "code",
   "execution_count": 2,
   "id": "15aeb787-641c-4ef8-86c3-789eda312fa5",
   "metadata": {},
   "outputs": [],
   "source": [
    "# fix random seed for reproducibility\n",
    "np.random.seed(42)"
   ]
  },
  {
   "cell_type": "markdown",
   "id": "fc587fa7-5784-4764-8160-422d98453450",
   "metadata": {},
   "source": [
    "## Import data"
   ]
  },
  {
   "cell_type": "code",
   "execution_count": 3,
   "id": "fadb861e-ce70-4f22-b098-5a8c48344b2c",
   "metadata": {},
   "outputs": [
    {
     "name": "stdout",
     "output_type": "stream",
     "text": [
      "Start date : 2018-10-16\n",
      "End date : 2021-07-12\n"
     ]
    }
   ],
   "source": [
    "# set market data date range \n",
    "from datetime import date, datetime, timedelta\n",
    "\n",
    "end_date  = datetime.now()\n",
    "start_date  = (end_date - timedelta(days=1000))\n",
    "\n",
    "start_date = start_date.strftime('%Y-%m-%d')\n",
    "end_date = end_date.strftime('%Y-%m-%d')\n",
    "\n",
    "print(f\"Start date : {start_date}\")\n",
    "print(f\"End date : {end_date}\")"
   ]
  },
  {
   "cell_type": "code",
   "execution_count": 4,
   "id": "13bc392f-b92c-42df-a05e-78a7e3603718",
   "metadata": {},
   "outputs": [
    {
     "data": {
      "text/html": [
       "<div>\n",
       "<style scoped>\n",
       "    .dataframe tbody tr th:only-of-type {\n",
       "        vertical-align: middle;\n",
       "    }\n",
       "\n",
       "    .dataframe tbody tr th {\n",
       "        vertical-align: top;\n",
       "    }\n",
       "\n",
       "    .dataframe thead th {\n",
       "        text-align: right;\n",
       "    }\n",
       "</style>\n",
       "<table border=\"1\" class=\"dataframe\">\n",
       "  <thead>\n",
       "    <tr style=\"text-align: right;\">\n",
       "      <th></th>\n",
       "      <th>open</th>\n",
       "      <th>high</th>\n",
       "      <th>low</th>\n",
       "      <th>close</th>\n",
       "      <th>volume</th>\n",
       "      <th>rsi</th>\n",
       "      <th>williams</th>\n",
       "      <th>mfi</th>\n",
       "      <th>stoch_k</th>\n",
       "      <th>macd</th>\n",
       "      <th>...</th>\n",
       "      <th>ema_7</th>\n",
       "      <th>ema_14</th>\n",
       "      <th>ema_21</th>\n",
       "      <th>highlow</th>\n",
       "      <th>closeopen</th>\n",
       "      <th>bb_high</th>\n",
       "      <th>bb_low</th>\n",
       "      <th>pvt</th>\n",
       "      <th>daily_return</th>\n",
       "      <th>cum_daily_return</th>\n",
       "    </tr>\n",
       "    <tr>\n",
       "      <th>time</th>\n",
       "      <th></th>\n",
       "      <th></th>\n",
       "      <th></th>\n",
       "      <th></th>\n",
       "      <th></th>\n",
       "      <th></th>\n",
       "      <th></th>\n",
       "      <th></th>\n",
       "      <th></th>\n",
       "      <th></th>\n",
       "      <th></th>\n",
       "      <th></th>\n",
       "      <th></th>\n",
       "      <th></th>\n",
       "      <th></th>\n",
       "      <th></th>\n",
       "      <th></th>\n",
       "      <th></th>\n",
       "      <th></th>\n",
       "      <th></th>\n",
       "      <th></th>\n",
       "    </tr>\n",
       "  </thead>\n",
       "  <tbody>\n",
       "    <tr>\n",
       "      <th>2018-10-16 00:00:00-04:00</th>\n",
       "      <td>137.7500</td>\n",
       "      <td>141.80</td>\n",
       "      <td>136.6200</td>\n",
       "      <td>141.42</td>\n",
       "      <td>2011114</td>\n",
       "      <td>0.000000</td>\n",
       "      <td>0.0</td>\n",
       "      <td>0.0</td>\n",
       "      <td>0.0</td>\n",
       "      <td>0.000000</td>\n",
       "      <td>...</td>\n",
       "      <td>141.420000</td>\n",
       "      <td>141.420000</td>\n",
       "      <td>141.420000</td>\n",
       "      <td>5.1800</td>\n",
       "      <td>3.6700</td>\n",
       "      <td>0.0</td>\n",
       "      <td>0.0</td>\n",
       "      <td>0.000000</td>\n",
       "      <td>0.000000</td>\n",
       "      <td>1.000000</td>\n",
       "    </tr>\n",
       "    <tr>\n",
       "      <th>2018-10-17 00:00:00-04:00</th>\n",
       "      <td>141.1800</td>\n",
       "      <td>142.10</td>\n",
       "      <td>138.7000</td>\n",
       "      <td>141.82</td>\n",
       "      <td>1295773</td>\n",
       "      <td>100.000000</td>\n",
       "      <td>0.0</td>\n",
       "      <td>0.0</td>\n",
       "      <td>0.0</td>\n",
       "      <td>0.008974</td>\n",
       "      <td>...</td>\n",
       "      <td>141.648571</td>\n",
       "      <td>141.634286</td>\n",
       "      <td>141.629524</td>\n",
       "      <td>3.4000</td>\n",
       "      <td>0.6400</td>\n",
       "      <td>0.0</td>\n",
       "      <td>0.0</td>\n",
       "      <td>0.000000</td>\n",
       "      <td>0.002828</td>\n",
       "      <td>1.002828</td>\n",
       "    </tr>\n",
       "    <tr>\n",
       "      <th>2018-10-18 00:00:00-04:00</th>\n",
       "      <td>140.7600</td>\n",
       "      <td>141.45</td>\n",
       "      <td>135.7600</td>\n",
       "      <td>137.28</td>\n",
       "      <td>1793153</td>\n",
       "      <td>55.226824</td>\n",
       "      <td>0.0</td>\n",
       "      <td>0.0</td>\n",
       "      <td>0.0</td>\n",
       "      <td>-0.129350</td>\n",
       "      <td>...</td>\n",
       "      <td>139.759459</td>\n",
       "      <td>139.970934</td>\n",
       "      <td>140.039517</td>\n",
       "      <td>5.6900</td>\n",
       "      <td>-3.4800</td>\n",
       "      <td>0.0</td>\n",
       "      <td>0.0</td>\n",
       "      <td>-61068.183852</td>\n",
       "      <td>-0.032012</td>\n",
       "      <td>0.970725</td>\n",
       "    </tr>\n",
       "    <tr>\n",
       "      <th>2018-10-19 00:00:00-04:00</th>\n",
       "      <td>138.8099</td>\n",
       "      <td>140.43</td>\n",
       "      <td>133.1001</td>\n",
       "      <td>133.18</td>\n",
       "      <td>2883838</td>\n",
       "      <td>38.533373</td>\n",
       "      <td>0.0</td>\n",
       "      <td>0.0</td>\n",
       "      <td>0.0</td>\n",
       "      <td>-0.337122</td>\n",
       "      <td>...</td>\n",
       "      <td>137.353257</td>\n",
       "      <td>137.893396</td>\n",
       "      <td>138.072265</td>\n",
       "      <td>7.3299</td>\n",
       "      <td>-5.6299</td>\n",
       "      <td>0.0</td>\n",
       "      <td>0.0</td>\n",
       "      <td>-28725.462394</td>\n",
       "      <td>-0.029866</td>\n",
       "      <td>0.941734</td>\n",
       "    </tr>\n",
       "    <tr>\n",
       "      <th>2018-10-22 00:00:00-04:00</th>\n",
       "      <td>133.9300</td>\n",
       "      <td>137.31</td>\n",
       "      <td>131.4500</td>\n",
       "      <td>135.64</td>\n",
       "      <td>1575925</td>\n",
       "      <td>48.534072</td>\n",
       "      <td>0.0</td>\n",
       "      <td>0.0</td>\n",
       "      <td>0.0</td>\n",
       "      <td>-0.345035</td>\n",
       "      <td>...</td>\n",
       "      <td>136.791677</td>\n",
       "      <td>137.305488</td>\n",
       "      <td>137.488969</td>\n",
       "      <td>5.8600</td>\n",
       "      <td>1.7100</td>\n",
       "      <td>0.0</td>\n",
       "      <td>0.0</td>\n",
       "      <td>115237.903532</td>\n",
       "      <td>0.018471</td>\n",
       "      <td>0.959129</td>\n",
       "    </tr>\n",
       "  </tbody>\n",
       "</table>\n",
       "<p>5 rows × 23 columns</p>\n",
       "</div>"
      ],
      "text/plain": [
       "                               open    high       low   close   volume  \\\n",
       "time                                                                     \n",
       "2018-10-16 00:00:00-04:00  137.7500  141.80  136.6200  141.42  2011114   \n",
       "2018-10-17 00:00:00-04:00  141.1800  142.10  138.7000  141.82  1295773   \n",
       "2018-10-18 00:00:00-04:00  140.7600  141.45  135.7600  137.28  1793153   \n",
       "2018-10-19 00:00:00-04:00  138.8099  140.43  133.1001  133.18  2883838   \n",
       "2018-10-22 00:00:00-04:00  133.9300  137.31  131.4500  135.64  1575925   \n",
       "\n",
       "                                  rsi  williams  mfi  stoch_k      macd  ...  \\\n",
       "time                                                                     ...   \n",
       "2018-10-16 00:00:00-04:00    0.000000       0.0  0.0      0.0  0.000000  ...   \n",
       "2018-10-17 00:00:00-04:00  100.000000       0.0  0.0      0.0  0.008974  ...   \n",
       "2018-10-18 00:00:00-04:00   55.226824       0.0  0.0      0.0 -0.129350  ...   \n",
       "2018-10-19 00:00:00-04:00   38.533373       0.0  0.0      0.0 -0.337122  ...   \n",
       "2018-10-22 00:00:00-04:00   48.534072       0.0  0.0      0.0 -0.345035  ...   \n",
       "\n",
       "                                ema_7      ema_14      ema_21  highlow  \\\n",
       "time                                                                     \n",
       "2018-10-16 00:00:00-04:00  141.420000  141.420000  141.420000   5.1800   \n",
       "2018-10-17 00:00:00-04:00  141.648571  141.634286  141.629524   3.4000   \n",
       "2018-10-18 00:00:00-04:00  139.759459  139.970934  140.039517   5.6900   \n",
       "2018-10-19 00:00:00-04:00  137.353257  137.893396  138.072265   7.3299   \n",
       "2018-10-22 00:00:00-04:00  136.791677  137.305488  137.488969   5.8600   \n",
       "\n",
       "                           closeopen  bb_high  bb_low            pvt  \\\n",
       "time                                                                   \n",
       "2018-10-16 00:00:00-04:00     3.6700      0.0     0.0       0.000000   \n",
       "2018-10-17 00:00:00-04:00     0.6400      0.0     0.0       0.000000   \n",
       "2018-10-18 00:00:00-04:00    -3.4800      0.0     0.0  -61068.183852   \n",
       "2018-10-19 00:00:00-04:00    -5.6299      0.0     0.0  -28725.462394   \n",
       "2018-10-22 00:00:00-04:00     1.7100      0.0     0.0  115237.903532   \n",
       "\n",
       "                           daily_return  cum_daily_return  \n",
       "time                                                       \n",
       "2018-10-16 00:00:00-04:00      0.000000          1.000000  \n",
       "2018-10-17 00:00:00-04:00      0.002828          1.002828  \n",
       "2018-10-18 00:00:00-04:00     -0.032012          0.970725  \n",
       "2018-10-19 00:00:00-04:00     -0.029866          0.941734  \n",
       "2018-10-22 00:00:00-04:00      0.018471          0.959129  \n",
       "\n",
       "[5 rows x 23 columns]"
      ]
     },
     "execution_count": 4,
     "metadata": {},
     "output_type": "execute_result"
    }
   ],
   "source": [
    "# load the dataset\n",
    "test_tickers = [\"ADSK\"]\n",
    "ohlcv_df = alpaca.ohlcv(test_tickers, start_date=start_date, end_date=end_date)\n",
    "tech_ind = technicals.TechnicalAnalysis(ohlcv_df)\n",
    "\n",
    "df = tech_ind.get_all_technicals(test_tickers[0])\n",
    "df.head()"
   ]
  },
  {
   "cell_type": "markdown",
   "id": "0090cdda-9f9e-4f1e-a5a7-c725ffe1cc80",
   "metadata": {},
   "source": [
    "## Data preparation"
   ]
  },
  {
   "cell_type": "code",
   "execution_count": 5,
   "id": "f880749c-8112-451f-9cf3-ceaa2ffba2fa",
   "metadata": {},
   "outputs": [
    {
     "name": "stdout",
     "output_type": "stream",
     "text": [
      "Dataset has 686 samples, and 23 features\n"
     ]
    }
   ],
   "source": [
    "print(f\"Dataset has {df.shape[0]} samples, and {df.shape[1]} features\")"
   ]
  },
  {
   "cell_type": "code",
   "execution_count": 6,
   "id": "b0a5d2a0-acd0-4e72-b6be-d213cd8e3c69",
   "metadata": {},
   "outputs": [],
   "source": [
    "# drop 'volume'\n",
    "df = df.drop(columns=['cum_daily_return','pvt','highlow','closeopen','ma_200'])"
   ]
  },
  {
   "cell_type": "code",
   "execution_count": 7,
   "id": "5d86f76c-e93f-4c45-a288-f4ae772765ad",
   "metadata": {},
   "outputs": [],
   "source": [
    "# fill NaN values with 0\n",
    "df = df.fillna(0)"
   ]
  },
  {
   "cell_type": "code",
   "execution_count": 8,
   "id": "dcb1257a-f248-4df3-9a38-8c216660c63d",
   "metadata": {},
   "outputs": [
    {
     "name": "stdout",
     "output_type": "stream",
     "text": [
      "<class 'pandas.core.frame.DataFrame'>\n",
      "DatetimeIndex: 686 entries, 2018-10-16 00:00:00-04:00 to 2021-07-12 00:00:00-04:00\n",
      "Data columns (total 18 columns):\n",
      " #   Column        Non-Null Count  Dtype  \n",
      "---  ------        --------------  -----  \n",
      " 0   open          686 non-null    float64\n",
      " 1   high          686 non-null    float64\n",
      " 2   low           686 non-null    float64\n",
      " 3   close         686 non-null    float64\n",
      " 4   volume        686 non-null    int64  \n",
      " 5   rsi           686 non-null    float64\n",
      " 6   williams      686 non-null    float64\n",
      " 7   mfi           686 non-null    float64\n",
      " 8   stoch_k       686 non-null    float64\n",
      " 9   macd          686 non-null    float64\n",
      " 10  ma_10         686 non-null    float64\n",
      " 11  ma_50         686 non-null    float64\n",
      " 12  ema_7         686 non-null    float64\n",
      " 13  ema_14        686 non-null    float64\n",
      " 14  ema_21        686 non-null    float64\n",
      " 15  bb_high       686 non-null    float64\n",
      " 16  bb_low        686 non-null    float64\n",
      " 17  daily_return  686 non-null    float64\n",
      "dtypes: float64(17), int64(1)\n",
      "memory usage: 101.8 KB\n"
     ]
    }
   ],
   "source": [
    "df.info()"
   ]
  },
  {
   "cell_type": "code",
   "execution_count": 9,
   "id": "24992bc4-74d4-4e0b-a8e7-ab7f98379e2f",
   "metadata": {},
   "outputs": [],
   "source": [
    "# cast all valuse to float(32)\n",
    "values_arr = df.values\n",
    "values_arr = values_arr.astype('float32')\n",
    "values_df = pd.DataFrame(values_arr)"
   ]
  },
  {
   "cell_type": "code",
   "execution_count": 10,
   "id": "6b0666b0-6bce-4187-9b1b-65dea15cd73a",
   "metadata": {},
   "outputs": [
    {
     "data": {
      "text/html": [
       "<div>\n",
       "<style scoped>\n",
       "    .dataframe tbody tr th:only-of-type {\n",
       "        vertical-align: middle;\n",
       "    }\n",
       "\n",
       "    .dataframe tbody tr th {\n",
       "        vertical-align: top;\n",
       "    }\n",
       "\n",
       "    .dataframe thead th {\n",
       "        text-align: right;\n",
       "    }\n",
       "</style>\n",
       "<table border=\"1\" class=\"dataframe\">\n",
       "  <thead>\n",
       "    <tr style=\"text-align: right;\">\n",
       "      <th></th>\n",
       "      <th>0</th>\n",
       "      <th>1</th>\n",
       "      <th>2</th>\n",
       "      <th>3</th>\n",
       "      <th>4</th>\n",
       "      <th>5</th>\n",
       "      <th>6</th>\n",
       "      <th>7</th>\n",
       "      <th>8</th>\n",
       "      <th>9</th>\n",
       "      <th>10</th>\n",
       "      <th>11</th>\n",
       "      <th>12</th>\n",
       "      <th>13</th>\n",
       "      <th>14</th>\n",
       "      <th>15</th>\n",
       "      <th>16</th>\n",
       "      <th>17</th>\n",
       "    </tr>\n",
       "  </thead>\n",
       "  <tbody>\n",
       "    <tr>\n",
       "      <th>0</th>\n",
       "      <td>137.750000</td>\n",
       "      <td>141.800003</td>\n",
       "      <td>136.619995</td>\n",
       "      <td>141.419998</td>\n",
       "      <td>2011114.0</td>\n",
       "      <td>0.000000</td>\n",
       "      <td>0.0</td>\n",
       "      <td>0.0</td>\n",
       "      <td>0.0</td>\n",
       "      <td>0.000000</td>\n",
       "      <td>0.0</td>\n",
       "      <td>0.0</td>\n",
       "      <td>141.419998</td>\n",
       "      <td>141.419998</td>\n",
       "      <td>141.419998</td>\n",
       "      <td>0.0</td>\n",
       "      <td>0.0</td>\n",
       "      <td>0.000000</td>\n",
       "    </tr>\n",
       "    <tr>\n",
       "      <th>1</th>\n",
       "      <td>141.179993</td>\n",
       "      <td>142.100006</td>\n",
       "      <td>138.699997</td>\n",
       "      <td>141.820007</td>\n",
       "      <td>1295773.0</td>\n",
       "      <td>100.000000</td>\n",
       "      <td>0.0</td>\n",
       "      <td>0.0</td>\n",
       "      <td>0.0</td>\n",
       "      <td>0.008974</td>\n",
       "      <td>0.0</td>\n",
       "      <td>0.0</td>\n",
       "      <td>141.648575</td>\n",
       "      <td>141.634293</td>\n",
       "      <td>141.629517</td>\n",
       "      <td>0.0</td>\n",
       "      <td>0.0</td>\n",
       "      <td>0.002828</td>\n",
       "    </tr>\n",
       "    <tr>\n",
       "      <th>2</th>\n",
       "      <td>140.759995</td>\n",
       "      <td>141.449997</td>\n",
       "      <td>135.759995</td>\n",
       "      <td>137.279999</td>\n",
       "      <td>1793153.0</td>\n",
       "      <td>55.226826</td>\n",
       "      <td>0.0</td>\n",
       "      <td>0.0</td>\n",
       "      <td>0.0</td>\n",
       "      <td>-0.129350</td>\n",
       "      <td>0.0</td>\n",
       "      <td>0.0</td>\n",
       "      <td>139.759460</td>\n",
       "      <td>139.970932</td>\n",
       "      <td>140.039520</td>\n",
       "      <td>0.0</td>\n",
       "      <td>0.0</td>\n",
       "      <td>-0.032012</td>\n",
       "    </tr>\n",
       "    <tr>\n",
       "      <th>3</th>\n",
       "      <td>138.809906</td>\n",
       "      <td>140.429993</td>\n",
       "      <td>133.100098</td>\n",
       "      <td>133.179993</td>\n",
       "      <td>2883838.0</td>\n",
       "      <td>38.533371</td>\n",
       "      <td>0.0</td>\n",
       "      <td>0.0</td>\n",
       "      <td>0.0</td>\n",
       "      <td>-0.337122</td>\n",
       "      <td>0.0</td>\n",
       "      <td>0.0</td>\n",
       "      <td>137.353256</td>\n",
       "      <td>137.893402</td>\n",
       "      <td>138.072266</td>\n",
       "      <td>0.0</td>\n",
       "      <td>0.0</td>\n",
       "      <td>-0.029866</td>\n",
       "    </tr>\n",
       "    <tr>\n",
       "      <th>4</th>\n",
       "      <td>133.929993</td>\n",
       "      <td>137.309998</td>\n",
       "      <td>131.449997</td>\n",
       "      <td>135.639999</td>\n",
       "      <td>1575925.0</td>\n",
       "      <td>48.534073</td>\n",
       "      <td>0.0</td>\n",
       "      <td>0.0</td>\n",
       "      <td>0.0</td>\n",
       "      <td>-0.345035</td>\n",
       "      <td>0.0</td>\n",
       "      <td>0.0</td>\n",
       "      <td>136.791672</td>\n",
       "      <td>137.305481</td>\n",
       "      <td>137.488968</td>\n",
       "      <td>0.0</td>\n",
       "      <td>0.0</td>\n",
       "      <td>0.018471</td>\n",
       "    </tr>\n",
       "  </tbody>\n",
       "</table>\n",
       "</div>"
      ],
      "text/plain": [
       "           0           1           2           3          4           5    6   \\\n",
       "0  137.750000  141.800003  136.619995  141.419998  2011114.0    0.000000  0.0   \n",
       "1  141.179993  142.100006  138.699997  141.820007  1295773.0  100.000000  0.0   \n",
       "2  140.759995  141.449997  135.759995  137.279999  1793153.0   55.226826  0.0   \n",
       "3  138.809906  140.429993  133.100098  133.179993  2883838.0   38.533371  0.0   \n",
       "4  133.929993  137.309998  131.449997  135.639999  1575925.0   48.534073  0.0   \n",
       "\n",
       "    7    8         9    10   11          12          13          14   15   16  \\\n",
       "0  0.0  0.0  0.000000  0.0  0.0  141.419998  141.419998  141.419998  0.0  0.0   \n",
       "1  0.0  0.0  0.008974  0.0  0.0  141.648575  141.634293  141.629517  0.0  0.0   \n",
       "2  0.0  0.0 -0.129350  0.0  0.0  139.759460  139.970932  140.039520  0.0  0.0   \n",
       "3  0.0  0.0 -0.337122  0.0  0.0  137.353256  137.893402  138.072266  0.0  0.0   \n",
       "4  0.0  0.0 -0.345035  0.0  0.0  136.791672  137.305481  137.488968  0.0  0.0   \n",
       "\n",
       "         17  \n",
       "0  0.000000  \n",
       "1  0.002828  \n",
       "2 -0.032012  \n",
       "3 -0.029866  \n",
       "4  0.018471  "
      ]
     },
     "execution_count": 10,
     "metadata": {},
     "output_type": "execute_result"
    }
   ],
   "source": [
    "values_df.head()"
   ]
  },
  {
   "cell_type": "markdown",
   "id": "6903a012-5f7e-4828-a581-1575d8bd9502",
   "metadata": {},
   "source": [
    "---"
   ]
  },
  {
   "cell_type": "markdown",
   "id": "86d371e0-0e69-4f81-b094-49842c86d07a",
   "metadata": {},
   "source": [
    "## Time series dataset"
   ]
  },
  {
   "cell_type": "code",
   "execution_count": 11,
   "id": "1de3ffd1-12b1-4ddb-98c9-7a79ec9ecb89",
   "metadata": {},
   "outputs": [],
   "source": [
    "def timeseries(dataset : pd.DataFrame, \n",
    "               lookback : int = 14,\n",
    "              pred_column : int = 3):\n",
    "    '''\n",
    "        Returns pd.DataFrame with Time-Series Dataset\n",
    "\n",
    "            Parameters\n",
    "            ----------\n",
    "            dataset : pd.DataFrame\n",
    "                dataset to be turned in time-series\n",
    "            lookback : int\n",
    "                lookback time for time-series dataset\n",
    "            pred_column : int\n",
    "                index of column with resulting values to be used for predictions\n",
    "\n",
    "            Returns\n",
    "            -------\n",
    "            df : DataFrame\n",
    "                Time-Series dataset\n",
    "        '''\n",
    "    train_value = dataset.copy()\n",
    "    train_value[\"id\"] = range(1, len(train_value)+1)\n",
    "    train_value = train_value.iloc[:-lookback, :]\n",
    "    train_value.set_index('id', inplace=True)\n",
    "    \n",
    "    pred_value = dataset.copy()\n",
    "    pred_value = pred_value.iloc[lookback:, pred_column]\n",
    "    pred_value.columns = [\"pred\"]\n",
    "    pred_value = pd.DataFrame(pred_value)\n",
    "    \n",
    "    pred_value[\"id\"] = range(1, len(pred_value)+1)\n",
    "    pred_value.set_index('id', inplace=True)\n",
    "    \n",
    "    df = pd.concat([train_value, pred_value], axis=1)\n",
    "    \n",
    "    return df"
   ]
  },
  {
   "cell_type": "code",
   "execution_count": 12,
   "id": "a1e6b936-01bd-4eb2-8a3e-b7cdd705accf",
   "metadata": {},
   "outputs": [],
   "source": [
    "lookback = 14"
   ]
  },
  {
   "cell_type": "code",
   "execution_count": 13,
   "id": "e5aae621-d7c8-469c-a65b-333cea00fbf8",
   "metadata": {},
   "outputs": [],
   "source": [
    "ts_data = timeseries(dataset = values_df, lookback=lookback, pred_column=17)"
   ]
  },
  {
   "cell_type": "code",
   "execution_count": 14,
   "id": "d53eeb43-1c0c-48a8-8be3-f457795c5594",
   "metadata": {},
   "outputs": [],
   "source": [
    "ts_data.fillna(0, inplace=True)"
   ]
  },
  {
   "cell_type": "code",
   "execution_count": 15,
   "id": "6572d165-dec6-4393-b0e7-ef200ce432bc",
   "metadata": {},
   "outputs": [
    {
     "name": "stdout",
     "output_type": "stream",
     "text": [
      "<class 'pandas.core.frame.DataFrame'>\n",
      "Int64Index: 672 entries, 1 to 672\n",
      "Data columns (total 19 columns):\n",
      " #   Column  Non-Null Count  Dtype  \n",
      "---  ------  --------------  -----  \n",
      " 0   0       672 non-null    float32\n",
      " 1   1       672 non-null    float32\n",
      " 2   2       672 non-null    float32\n",
      " 3   3       672 non-null    float32\n",
      " 4   4       672 non-null    float32\n",
      " 5   5       672 non-null    float32\n",
      " 6   6       672 non-null    float32\n",
      " 7   7       672 non-null    float32\n",
      " 8   8       672 non-null    float32\n",
      " 9   9       672 non-null    float32\n",
      " 10  10      672 non-null    float32\n",
      " 11  11      672 non-null    float32\n",
      " 12  12      672 non-null    float32\n",
      " 13  13      672 non-null    float32\n",
      " 14  14      672 non-null    float32\n",
      " 15  15      672 non-null    float32\n",
      " 16  16      672 non-null    float32\n",
      " 17  17      672 non-null    float32\n",
      " 18  3       672 non-null    float32\n",
      "dtypes: float32(19)\n",
      "memory usage: 55.1 KB\n"
     ]
    }
   ],
   "source": [
    "ts_data.info()"
   ]
  },
  {
   "cell_type": "code",
   "execution_count": 16,
   "id": "06314566-7a11-4b0c-aa2c-9ac031f792e9",
   "metadata": {},
   "outputs": [
    {
     "name": "stdout",
     "output_type": "stream",
     "text": [
      "['open', 'high', 'low', 'close', 'volume', 'rsi', 'williams', 'mfi', 'stoch_k', 'macd', 'ma_10', 'ma_50', 'ema_7', 'ema_14', 'ema_21', 'bb_high', 'bb_low', 'daily_return', 'output_var']\n"
     ]
    }
   ],
   "source": [
    "ts_data_columns = list(df.columns)+list(['output_var'])\n",
    "print(ts_data_columns)"
   ]
  },
  {
   "cell_type": "code",
   "execution_count": 17,
   "id": "6afb323b-066d-4ff2-b6b4-fc34ed40cb4c",
   "metadata": {},
   "outputs": [],
   "source": [
    "ts_data.columns = ts_data_columns"
   ]
  },
  {
   "cell_type": "code",
   "execution_count": 18,
   "id": "1bccab7d-3941-438b-a58e-7c932c1f236e",
   "metadata": {},
   "outputs": [
    {
     "data": {
      "text/html": [
       "<div>\n",
       "<style scoped>\n",
       "    .dataframe tbody tr th:only-of-type {\n",
       "        vertical-align: middle;\n",
       "    }\n",
       "\n",
       "    .dataframe tbody tr th {\n",
       "        vertical-align: top;\n",
       "    }\n",
       "\n",
       "    .dataframe thead th {\n",
       "        text-align: right;\n",
       "    }\n",
       "</style>\n",
       "<table border=\"1\" class=\"dataframe\">\n",
       "  <thead>\n",
       "    <tr style=\"text-align: right;\">\n",
       "      <th></th>\n",
       "      <th>open</th>\n",
       "      <th>high</th>\n",
       "      <th>low</th>\n",
       "      <th>close</th>\n",
       "      <th>volume</th>\n",
       "      <th>rsi</th>\n",
       "      <th>williams</th>\n",
       "      <th>mfi</th>\n",
       "      <th>stoch_k</th>\n",
       "      <th>macd</th>\n",
       "      <th>ma_10</th>\n",
       "      <th>ma_50</th>\n",
       "      <th>ema_7</th>\n",
       "      <th>ema_14</th>\n",
       "      <th>ema_21</th>\n",
       "      <th>bb_high</th>\n",
       "      <th>bb_low</th>\n",
       "      <th>daily_return</th>\n",
       "      <th>output_var</th>\n",
       "    </tr>\n",
       "    <tr>\n",
       "      <th>id</th>\n",
       "      <th></th>\n",
       "      <th></th>\n",
       "      <th></th>\n",
       "      <th></th>\n",
       "      <th></th>\n",
       "      <th></th>\n",
       "      <th></th>\n",
       "      <th></th>\n",
       "      <th></th>\n",
       "      <th></th>\n",
       "      <th></th>\n",
       "      <th></th>\n",
       "      <th></th>\n",
       "      <th></th>\n",
       "      <th></th>\n",
       "      <th></th>\n",
       "      <th></th>\n",
       "      <th></th>\n",
       "      <th></th>\n",
       "    </tr>\n",
       "  </thead>\n",
       "  <tbody>\n",
       "    <tr>\n",
       "      <th>1</th>\n",
       "      <td>137.750000</td>\n",
       "      <td>141.800003</td>\n",
       "      <td>136.619995</td>\n",
       "      <td>141.419998</td>\n",
       "      <td>2011114.0</td>\n",
       "      <td>0.000000</td>\n",
       "      <td>0.0</td>\n",
       "      <td>0.0</td>\n",
       "      <td>0.0</td>\n",
       "      <td>0.000000</td>\n",
       "      <td>0.0</td>\n",
       "      <td>0.0</td>\n",
       "      <td>141.419998</td>\n",
       "      <td>141.419998</td>\n",
       "      <td>141.419998</td>\n",
       "      <td>0.0</td>\n",
       "      <td>0.0</td>\n",
       "      <td>0.000000</td>\n",
       "      <td>133.509995</td>\n",
       "    </tr>\n",
       "    <tr>\n",
       "      <th>2</th>\n",
       "      <td>141.179993</td>\n",
       "      <td>142.100006</td>\n",
       "      <td>138.699997</td>\n",
       "      <td>141.820007</td>\n",
       "      <td>1295773.0</td>\n",
       "      <td>100.000000</td>\n",
       "      <td>0.0</td>\n",
       "      <td>0.0</td>\n",
       "      <td>0.0</td>\n",
       "      <td>0.008974</td>\n",
       "      <td>0.0</td>\n",
       "      <td>0.0</td>\n",
       "      <td>141.648575</td>\n",
       "      <td>141.634293</td>\n",
       "      <td>141.629517</td>\n",
       "      <td>0.0</td>\n",
       "      <td>0.0</td>\n",
       "      <td>0.002828</td>\n",
       "      <td>133.729996</td>\n",
       "    </tr>\n",
       "    <tr>\n",
       "      <th>3</th>\n",
       "      <td>140.759995</td>\n",
       "      <td>141.449997</td>\n",
       "      <td>135.759995</td>\n",
       "      <td>137.279999</td>\n",
       "      <td>1793153.0</td>\n",
       "      <td>55.226826</td>\n",
       "      <td>0.0</td>\n",
       "      <td>0.0</td>\n",
       "      <td>0.0</td>\n",
       "      <td>-0.129350</td>\n",
       "      <td>0.0</td>\n",
       "      <td>0.0</td>\n",
       "      <td>139.759460</td>\n",
       "      <td>139.970932</td>\n",
       "      <td>140.039520</td>\n",
       "      <td>0.0</td>\n",
       "      <td>0.0</td>\n",
       "      <td>-0.032012</td>\n",
       "      <td>138.880005</td>\n",
       "    </tr>\n",
       "    <tr>\n",
       "      <th>4</th>\n",
       "      <td>138.809906</td>\n",
       "      <td>140.429993</td>\n",
       "      <td>133.100098</td>\n",
       "      <td>133.179993</td>\n",
       "      <td>2883838.0</td>\n",
       "      <td>38.533371</td>\n",
       "      <td>0.0</td>\n",
       "      <td>0.0</td>\n",
       "      <td>0.0</td>\n",
       "      <td>-0.337122</td>\n",
       "      <td>0.0</td>\n",
       "      <td>0.0</td>\n",
       "      <td>137.353256</td>\n",
       "      <td>137.893402</td>\n",
       "      <td>138.072266</td>\n",
       "      <td>0.0</td>\n",
       "      <td>0.0</td>\n",
       "      <td>-0.029866</td>\n",
       "      <td>140.610001</td>\n",
       "    </tr>\n",
       "    <tr>\n",
       "      <th>5</th>\n",
       "      <td>133.929993</td>\n",
       "      <td>137.309998</td>\n",
       "      <td>131.449997</td>\n",
       "      <td>135.639999</td>\n",
       "      <td>1575925.0</td>\n",
       "      <td>48.534073</td>\n",
       "      <td>0.0</td>\n",
       "      <td>0.0</td>\n",
       "      <td>0.0</td>\n",
       "      <td>-0.345035</td>\n",
       "      <td>0.0</td>\n",
       "      <td>0.0</td>\n",
       "      <td>136.791672</td>\n",
       "      <td>137.305481</td>\n",
       "      <td>137.488968</td>\n",
       "      <td>0.0</td>\n",
       "      <td>0.0</td>\n",
       "      <td>0.018471</td>\n",
       "      <td>135.559998</td>\n",
       "    </tr>\n",
       "  </tbody>\n",
       "</table>\n",
       "</div>"
      ],
      "text/plain": [
       "          open        high         low       close     volume         rsi  \\\n",
       "id                                                                          \n",
       "1   137.750000  141.800003  136.619995  141.419998  2011114.0    0.000000   \n",
       "2   141.179993  142.100006  138.699997  141.820007  1295773.0  100.000000   \n",
       "3   140.759995  141.449997  135.759995  137.279999  1793153.0   55.226826   \n",
       "4   138.809906  140.429993  133.100098  133.179993  2883838.0   38.533371   \n",
       "5   133.929993  137.309998  131.449997  135.639999  1575925.0   48.534073   \n",
       "\n",
       "    williams  mfi  stoch_k      macd  ma_10  ma_50       ema_7      ema_14  \\\n",
       "id                                                                           \n",
       "1        0.0  0.0      0.0  0.000000    0.0    0.0  141.419998  141.419998   \n",
       "2        0.0  0.0      0.0  0.008974    0.0    0.0  141.648575  141.634293   \n",
       "3        0.0  0.0      0.0 -0.129350    0.0    0.0  139.759460  139.970932   \n",
       "4        0.0  0.0      0.0 -0.337122    0.0    0.0  137.353256  137.893402   \n",
       "5        0.0  0.0      0.0 -0.345035    0.0    0.0  136.791672  137.305481   \n",
       "\n",
       "        ema_21  bb_high  bb_low  daily_return  output_var  \n",
       "id                                                         \n",
       "1   141.419998      0.0     0.0      0.000000  133.509995  \n",
       "2   141.629517      0.0     0.0      0.002828  133.729996  \n",
       "3   140.039520      0.0     0.0     -0.032012  138.880005  \n",
       "4   138.072266      0.0     0.0     -0.029866  140.610001  \n",
       "5   137.488968      0.0     0.0      0.018471  135.559998  "
      ]
     },
     "execution_count": 18,
     "metadata": {},
     "output_type": "execute_result"
    }
   ],
   "source": [
    "ts_data.head()"
   ]
  },
  {
   "cell_type": "code",
   "execution_count": 19,
   "id": "13193017-ca28-498d-9e2f-c5c8a96f68eb",
   "metadata": {},
   "outputs": [
    {
     "data": {
      "text/plain": [
       "(672, 19)"
      ]
     },
     "execution_count": 19,
     "metadata": {},
     "output_type": "execute_result"
    }
   ],
   "source": [
    "ts_data.shape"
   ]
  },
  {
   "cell_type": "markdown",
   "id": "ba4bfcbc-ae1e-4c86-8056-d62c25235022",
   "metadata": {},
   "source": [
    "---"
   ]
  },
  {
   "cell_type": "markdown",
   "id": "32125d8b-2f4c-4684-8cad-8e0f618ae3b5",
   "metadata": {},
   "source": [
    "## Train-Test split"
   ]
  },
  {
   "cell_type": "code",
   "execution_count": 20,
   "id": "2e5401c1-77c5-4184-bd14-0de410b5c7e8",
   "metadata": {},
   "outputs": [
    {
     "name": "stdout",
     "output_type": "stream",
     "text": [
      "(548, 19) (124, 19)\n"
     ]
    }
   ],
   "source": [
    "val = ts_data.values\n",
    "train_sample = int(len(values_df)*0.8)\n",
    "train = val[: train_sample, :]\n",
    "test = val[train_sample: ,:]\n",
    "\n",
    "print(train.shape, test.shape)"
   ]
  },
  {
   "cell_type": "code",
   "execution_count": 21,
   "id": "a1c8ac50-a53e-4d4c-a94e-3173e7c256b9",
   "metadata": {},
   "outputs": [],
   "source": [
    "train = pd.DataFrame(train)\n",
    "test = pd.DataFrame(test)"
   ]
  },
  {
   "cell_type": "code",
   "execution_count": 22,
   "id": "79fb8b38-fc80-419f-9845-297df05ebf0f",
   "metadata": {},
   "outputs": [],
   "source": [
    "X, y = train, test"
   ]
  },
  {
   "cell_type": "code",
   "execution_count": 23,
   "id": "39d65f72-cab1-4ec6-97f8-0d2f491ce206",
   "metadata": {},
   "outputs": [],
   "source": [
    "from sklearn.preprocessing import MinMaxScaler\n",
    "scaler = MinMaxScaler()\n",
    "X = scaler.fit_transform(X)"
   ]
  },
  {
   "cell_type": "code",
   "execution_count": 24,
   "id": "d2dedbac-69a8-4d25-939d-e40c701cda89",
   "metadata": {},
   "outputs": [
    {
     "name": "stdout",
     "output_type": "stream",
     "text": [
      "[[0.10335654 0.10695827 0.10441411 ... 0.         0.42507717 0.0751313 ]\n",
      " [0.12198561 0.10859042 0.11590517 ... 0.         0.4350896  0.07622164]\n",
      " [0.11970454 0.10505408 0.09966296 ... 0.         0.3117568  0.10174453]\n",
      " ...\n",
      " [0.9555181  0.95544314 0.96491903 ... 0.9846183  0.48820725 0.9986124 ]\n",
      " [0.9836519  1.         0.99999994 ... 0.9914019  0.5192441  0.98850226]\n",
      " [1.         0.9893367  0.9887851  ... 1.         0.37556094 1.        ]]\n"
     ]
    }
   ],
   "source": [
    "print(X)"
   ]
  },
  {
   "cell_type": "code",
   "execution_count": 25,
   "id": "ea41cd27-33a0-46d6-a79a-97a698ed21fe",
   "metadata": {},
   "outputs": [
    {
     "data": {
      "text/plain": [
       "(548, 19)"
      ]
     },
     "execution_count": 25,
     "metadata": {},
     "output_type": "execute_result"
    }
   ],
   "source": [
    "X.shape"
   ]
  },
  {
   "cell_type": "markdown",
   "id": "01ad31a9-8593-4d11-81bb-31081f2bb131",
   "metadata": {},
   "source": [
    "---"
   ]
  },
  {
   "cell_type": "markdown",
   "id": "e7c2b499-b7fe-4b2e-977d-a273d491dcc0",
   "metadata": {},
   "source": [
    "## Shaping Data for LSTM"
   ]
  },
  {
   "cell_type": "code",
   "execution_count": 26,
   "id": "544d8529-93cd-4103-815a-5c13861af444",
   "metadata": {},
   "outputs": [],
   "source": [
    "# Shaping Train data\n",
    "\n",
    "X_train = []\n",
    "y_train = []\n",
    "\n",
    "for i in range(lookback, X.shape[0]):\n",
    "    X_train.append(X[i-lookback:i])\n",
    "    y_train.append(X[i,0])\n",
    "#     if i <= lookback+1:\n",
    "#         print(X_train)\n",
    "#         print(y_train)"
   ]
  },
  {
   "cell_type": "code",
   "execution_count": 27,
   "id": "2a0a7fb9-a017-4362-9e5f-64c08b0b797c",
   "metadata": {},
   "outputs": [
    {
     "name": "stdout",
     "output_type": "stream",
     "text": [
      "(534, 14, 19) (534,)\n"
     ]
    }
   ],
   "source": [
    "X_train, y_train = np.array(X_train), np.array(y_train)\n",
    "print(X_train.shape, y_train.shape)"
   ]
  },
  {
   "cell_type": "markdown",
   "id": "53e6ab6a-a7fd-4814-8a75-e2cbedd0677a",
   "metadata": {},
   "source": [
    "---"
   ]
  },
  {
   "cell_type": "markdown",
   "id": "d0193bfb-2606-4b8d-a4e0-42a94a9f5288",
   "metadata": {},
   "source": [
    "## LSTM Model\n",
    "\n",
    "LSTM model with 1 Dense layer and 3 LSTM layers.\n",
    "\n",
    "* 1st layer = 88 neurons\n",
    "* 2nd layer = 44 neurons\n",
    "* 3rd layer = 22 neurons"
   ]
  },
  {
   "cell_type": "code",
   "execution_count": 28,
   "id": "4f218f42-ab47-4653-a7dd-0f7fd9562765",
   "metadata": {},
   "outputs": [],
   "source": [
    "first_layer = 100\n",
    "second_layer = 50\n",
    "third_layer = 20"
   ]
  },
  {
   "cell_type": "code",
   "execution_count": 29,
   "id": "2d04fe44-4e8d-465d-937e-975499aceb58",
   "metadata": {},
   "outputs": [],
   "source": [
    "# define model\n",
    "lstm_model = Sequential()"
   ]
  },
  {
   "cell_type": "code",
   "execution_count": 30,
   "id": "cb8a774a-bb9e-4201-9b12-11aa38c38700",
   "metadata": {},
   "outputs": [],
   "source": [
    "# LSTM layers with 88 neurons\n",
    "lstm_model.add(LSTM(units=first_layer, return_sequences=True, input_shape=(X_train.shape[1], X_train.shape[2])))\n",
    "# lstm_model.add(Dropout(0.2))\n",
    "\n",
    "# lstm_model.add(LSTM(units=second_layer, return_sequences=True))\n",
    "# lstm_model.add(Dropout(0.2))\n",
    "\n",
    "# lstm_model.add(LSTM(units=third_layer, return_sequences=True))\n",
    "# lstm_model.add(Dropout(0.2))\n",
    "\n",
    "# lstm_model.add(LSTM(units=third_layer, return_sequences=True))\n",
    "# lstm_model.add(Dropout(0.2))"
   ]
  },
  {
   "cell_type": "code",
   "execution_count": 31,
   "id": "aca02e6b-a933-4d97-a04a-85e6565dc851",
   "metadata": {},
   "outputs": [],
   "source": [
    "lstm_model.add(tf.keras.layers.Flatten())"
   ]
  },
  {
   "cell_type": "code",
   "execution_count": 32,
   "id": "039920ee-30c4-4082-8af3-7a4bd9133a78",
   "metadata": {},
   "outputs": [],
   "source": [
    "lstm_model.add(tf.keras.layers.Dense(1500, activation='relu'))\n",
    "lstm_model.add(tf.keras.layers.Dense(100, activation='linear'))\n",
    "lstm_model.add(tf.keras.layers.Dense(1))"
   ]
  },
  {
   "cell_type": "code",
   "execution_count": 33,
   "id": "6d5ea1f9-1041-4836-b7c5-ffa0589d681a",
   "metadata": {},
   "outputs": [],
   "source": [
    "# LSTM layers with 44 neurons\n",
    "# lstm_model.add(LSTM(units=second_layer, return_sequences=True))\n",
    "# lstm_model.add(Dropout(0.2))"
   ]
  },
  {
   "cell_type": "code",
   "execution_count": 34,
   "id": "b3559af7-3b41-4b16-96b7-86a6eaa87f90",
   "metadata": {},
   "outputs": [],
   "source": [
    "# LSTM layers with 22 neurons\n",
    "# lstm_model.add(LSTM(units=third_layer, return_sequences=True))\n",
    "# lstm_model.add(Dropout(0.2))"
   ]
  },
  {
   "cell_type": "code",
   "execution_count": 35,
   "id": "18d84722-b85d-4f84-8aa9-549b96617450",
   "metadata": {},
   "outputs": [],
   "source": [
    "# LSTM layers with 11 neurons\n",
    "# lstm_model.add(LSTM(units=third_layer, return_sequences=True))\n",
    "# lstm_model.add(Dropout(0.2))"
   ]
  },
  {
   "cell_type": "code",
   "execution_count": 36,
   "id": "2a9ad086-d449-4b88-82d8-b9f5f8251dfb",
   "metadata": {},
   "outputs": [],
   "source": [
    "# Dense layers\n",
    "lstm_model.add(Dense(units=1))"
   ]
  },
  {
   "cell_type": "markdown",
   "id": "b04cfbf7-91b9-4061-b7ce-a53d91d30369",
   "metadata": {},
   "source": [
    "### Loss\n",
    "**Mean Absolute Error**\n",
    "Mean Absolute Error (MAE) is another loss function used for regression models. MAE is the sum of absolute differences between our target and predicted variables. So it measures the average magnitude of errors in a set of predictions, without considering their directions. (If we consider directions also, that would be called Mean Bias Error (MBE), which is a sum of residuals/errors). The range is also 0 to ∞."
   ]
  },
  {
   "cell_type": "markdown",
   "id": "c760de17-6545-484a-958e-edbfa3037404",
   "metadata": {},
   "source": [
    "### Optimizer\n",
    "Adam is an optimization algorithm that can be used instead of the classical stochastic gradient descent procedure to update network weights iterative based in training data.\n",
    "\n",
    "Adam was presented by Diederik Kingma from OpenAI and Jimmy Ba from the University of Toronto in their 2015 ICLR paper (poster) titled “Adam: A Method for Stochastic Optimization“. I will quote liberally from their paper in this post, unless stated otherwise.\n",
    "\n",
    "The algorithm is called Adam, the name Adam is derived from **adaptive moment estimation**.\n",
    "\n",
    "When introducing the algorithm, the authors list the attractive benefits of using Adam on non-convex optimization problems, as follows:\n",
    "\n",
    "Straightforward to implement.\n",
    "Computationally efficient.\n",
    "Little memory requirements.\n",
    "Invariant to diagonal rescale of the gradients.\n",
    "Well suited for problems that are large in terms of data and/or parameters.\n",
    "Appropriate for non-stationary objectives.\n",
    "Appropriate for problems with very noisy/or sparse gradients.\n",
    "Hyper-parameters have intuitive interpretation and typically require little tuning."
   ]
  },
  {
   "cell_type": "code",
   "execution_count": 37,
   "id": "1b64a6ed-7d29-42c5-9e6f-707284ae2b48",
   "metadata": {},
   "outputs": [],
   "source": [
    "# Compile model\n",
    "lstm_model.compile(loss='mean_squared_error', optimizer='adam')"
   ]
  },
  {
   "cell_type": "code",
   "execution_count": 38,
   "id": "d19be31f-03c7-4d5b-a221-3f474d869509",
   "metadata": {},
   "outputs": [
    {
     "name": "stdout",
     "output_type": "stream",
     "text": [
      "Model: \"sequential\"\n",
      "_________________________________________________________________\n",
      "Layer (type)                 Output Shape              Param #   \n",
      "=================================================================\n",
      "lstm (LSTM)                  (None, 14, 100)           48000     \n",
      "_________________________________________________________________\n",
      "dropout (Dropout)            (None, 14, 100)           0         \n",
      "_________________________________________________________________\n",
      "lstm_1 (LSTM)                (None, 14, 50)            30200     \n",
      "_________________________________________________________________\n",
      "dropout_1 (Dropout)          (None, 14, 50)            0         \n",
      "_________________________________________________________________\n",
      "lstm_2 (LSTM)                (None, 14, 20)            5680      \n",
      "_________________________________________________________________\n",
      "dropout_2 (Dropout)          (None, 14, 20)            0         \n",
      "_________________________________________________________________\n",
      "lstm_3 (LSTM)                (None, 14, 20)            3280      \n",
      "_________________________________________________________________\n",
      "dropout_3 (Dropout)          (None, 14, 20)            0         \n",
      "_________________________________________________________________\n",
      "module_wrapper (ModuleWrappe (None, 280)               0         \n",
      "_________________________________________________________________\n",
      "module_wrapper_1 (ModuleWrap (None, 1500)              421500    \n",
      "_________________________________________________________________\n",
      "module_wrapper_2 (ModuleWrap (None, 100)               150100    \n",
      "_________________________________________________________________\n",
      "module_wrapper_3 (ModuleWrap (None, 1)                 101       \n",
      "_________________________________________________________________\n",
      "dense (Dense)                (None, 1)                 2         \n",
      "=================================================================\n",
      "Total params: 658,863\n",
      "Trainable params: 658,863\n",
      "Non-trainable params: 0\n",
      "_________________________________________________________________\n"
     ]
    }
   ],
   "source": [
    "# Model summary\n",
    "lstm_model.summary()"
   ]
  },
  {
   "cell_type": "markdown",
   "id": "03e842ad-973c-41af-9ca6-0027cc8d7858",
   "metadata": {},
   "source": [
    "---"
   ]
  },
  {
   "cell_type": "markdown",
   "id": "d7f7f82f-9154-48d4-834b-08dfb08bbf66",
   "metadata": {},
   "source": [
    "## Prepare test dataset"
   ]
  },
  {
   "cell_type": "code",
   "execution_count": 39,
   "id": "6476697c-2fef-433e-ba9b-a6b19c8e23f2",
   "metadata": {},
   "outputs": [],
   "source": [
    "look_back = train.tail(lookback)\n",
    "data = look_back.append(test)"
   ]
  },
  {
   "cell_type": "code",
   "execution_count": 40,
   "id": "0eff8bc7-898f-476c-ab85-8eba7270d6b4",
   "metadata": {},
   "outputs": [
    {
     "data": {
      "text/plain": [
       "array([[0.8650336 , 0.85422444, 0.8620518 , ..., 0.92831   , 0.39794478,\n",
       "        0.9188225 ],\n",
       "       [0.8542255 , 0.8576791 , 0.8728246 , ..., 0.9301226 , 0.4286546 ,\n",
       "        0.9002379 ],\n",
       "       [0.8612318 , 0.8685093 , 0.87981325, ..., 0.9345415 , 0.4341394 ,\n",
       "        0.90747344],\n",
       "       ...,\n",
       "       [0.8333696 , 0.852293  , 0.84763604, ..., 1.06318   , 0.45882982,\n",
       "        0.87203884],\n",
       "       [0.8527591 , 0.86496925, 0.86895746, ..., 1.0654099 , 0.4474945 ,\n",
       "        0.87724245],\n",
       "       [0.8680209 , 0.87786293, 0.87369305, ..., 1.0655987 , 0.49050575,\n",
       "        0.8641094 ]], dtype=float32)"
      ]
     },
     "execution_count": 40,
     "metadata": {},
     "output_type": "execute_result"
    }
   ],
   "source": [
    "inputs = scaler.transform(data)\n",
    "inputs"
   ]
  },
  {
   "cell_type": "code",
   "execution_count": 41,
   "id": "9d35e49c-4914-473d-bc99-5c437eac086c",
   "metadata": {},
   "outputs": [],
   "source": [
    "# Shaping Test data\n",
    "\n",
    "X_test = []\n",
    "y_test = []\n",
    "\n",
    "for i in range(lookback, inputs.shape[0]):\n",
    "    X_test.append(inputs[i-lookback:i])\n",
    "    y_test.append(inputs[i,0])\n",
    "#     if i <= lookback+1:\n",
    "#         print(X_test)\n",
    "#         print(y_test)"
   ]
  },
  {
   "cell_type": "code",
   "execution_count": 42,
   "id": "61d53fe1-5b03-489d-a1e0-5753f8a5cb76",
   "metadata": {},
   "outputs": [
    {
     "name": "stdout",
     "output_type": "stream",
     "text": [
      "(124, 14, 19) (124,)\n"
     ]
    }
   ],
   "source": [
    "X_test, y_test = np.array(X_test), np.array(y_test)\n",
    "print(X_test.shape, y_test.shape)"
   ]
  },
  {
   "cell_type": "code",
   "execution_count": 43,
   "id": "652b52f1-df15-4cc8-906b-a11eec7b5115",
   "metadata": {},
   "outputs": [
    {
     "name": "stdout",
     "output_type": "stream",
     "text": [
      "Epoch 1/20\n",
      "17/17 [==============================] - 23s 125ms/step - loss: 0.0267 - val_loss: 0.0352\n",
      "Epoch 2/20\n",
      "17/17 [==============================] - 0s 24ms/step - loss: 0.0774 - val_loss: 0.0068\n",
      "Epoch 3/20\n",
      "17/17 [==============================] - 0s 22ms/step - loss: 0.0745 - val_loss: 0.0157\n",
      "Epoch 4/20\n",
      "17/17 [==============================] - 0s 22ms/step - loss: 0.1295 - val_loss: 0.3099\n",
      "Epoch 5/20\n",
      "17/17 [==============================] - 0s 22ms/step - loss: 0.0141 - val_loss: 0.0187\n",
      "Epoch 6/20\n",
      "17/17 [==============================] - 0s 23ms/step - loss: 0.0226 - val_loss: 0.0296\n",
      "Epoch 7/20\n",
      "17/17 [==============================] - 0s 23ms/step - loss: 0.0138 - val_loss: 0.0073\n",
      "Epoch 8/20\n",
      "17/17 [==============================] - 0s 22ms/step - loss: 0.0286 - val_loss: 0.0078\n",
      "Epoch 9/20\n",
      "17/17 [==============================] - 0s 23ms/step - loss: 0.0066 - val_loss: 0.0152\n",
      "Epoch 10/20\n",
      "17/17 [==============================] - 0s 22ms/step - loss: 0.0083 - val_loss: 0.0202\n",
      "Epoch 11/20\n",
      "17/17 [==============================] - 0s 22ms/step - loss: 0.0071 - val_loss: 0.0105\n",
      "Epoch 12/20\n",
      "17/17 [==============================] - 0s 22ms/step - loss: 0.0131 - val_loss: 0.0055\n",
      "Epoch 13/20\n",
      "17/17 [==============================] - 0s 22ms/step - loss: 0.0091 - val_loss: 0.0046\n",
      "Epoch 14/20\n",
      "17/17 [==============================] - 0s 22ms/step - loss: 0.0075 - val_loss: 0.0132\n",
      "Epoch 15/20\n",
      "17/17 [==============================] - 0s 22ms/step - loss: 0.0180 - val_loss: 0.0074\n",
      "Epoch 16/20\n",
      "17/17 [==============================] - 0s 22ms/step - loss: 0.0087 - val_loss: 0.0044\n",
      "Epoch 17/20\n",
      "17/17 [==============================] - 0s 22ms/step - loss: 0.0075 - val_loss: 0.0098\n",
      "Epoch 18/20\n",
      "17/17 [==============================] - 0s 22ms/step - loss: 0.0105 - val_loss: 0.0054\n",
      "Epoch 19/20\n",
      "17/17 [==============================] - 0s 22ms/step - loss: 0.0046 - val_loss: 0.0062\n",
      "Epoch 20/20\n",
      "17/17 [==============================] - 0s 23ms/step - loss: 0.0081 - val_loss: 0.0078\n"
     ]
    }
   ],
   "source": [
    "lstm_history = lstm_model.fit(X_train, y_train,\n",
    "                   epochs = 20,\n",
    "                   batch_size = 32,\n",
    "                   validation_data = (X_test, y_test),\n",
    "                   shuffle=False)"
   ]
  },
  {
   "cell_type": "markdown",
   "id": "0f7f43a8-6ac7-488d-bd65-4fea478a9eec",
   "metadata": {},
   "source": [
    "---\n"
   ]
  },
  {
   "cell_type": "code",
   "execution_count": 44,
   "id": "c7823693-a4a4-4953-80ac-684848f2f3c8",
   "metadata": {},
   "outputs": [
    {
     "data": {
      "image/png": "[encoded data removed]",
      "text/plain": [
       "<Figure size 432x288 with 1 Axes>"
      ]
     },
     "metadata": {
      "needs_background": "light"
     },
     "output_type": "display_data"
    }
   ],
   "source": [
    "plt.plot(lstm_history.history[\"loss\"])\n",
    "plt.title(\"loss_function - Conv2D Deep, w/ 12 variable\")\n",
    "plt.legend([\"loss\"])\n",
    "plt.show()"
   ]
  },
  {
   "cell_type": "code",
   "execution_count": 45,
   "id": "397e0563-17dd-4880-8a20-a3fdeffec286",
   "metadata": {},
   "outputs": [
    {
     "data": {
      "text/plain": [
       "0.0077564227394759655"
      ]
     },
     "execution_count": 45,
     "metadata": {},
     "output_type": "execute_result"
    }
   ],
   "source": [
    "lstm_model.evaluate(X_test, y_test, verbose=0)"
   ]
  },
  {
   "cell_type": "code",
   "execution_count": 46,
   "id": "0f18aac9-ed98-4c99-8db7-a42852552ef3",
   "metadata": {},
   "outputs": [
    {
     "data": {
      "text/plain": [
       "-0.22754113050130842"
      ]
     },
     "execution_count": 46,
     "metadata": {},
     "output_type": "execute_result"
    }
   ],
   "source": [
    "from sklearn.metrics import r2_score\n",
    "predictions = lstm_model.predict(X_test)\n",
    "test_r2 = r2_score(y_test, predictions[:,0])\n",
    "test_r2"
   ]
  },
  {
   "cell_type": "code",
   "execution_count": 47,
   "id": "f0d0130e-b728-4465-b66c-3039b34174f5",
   "metadata": {},
   "outputs": [
    {
     "data": {
      "text/html": [
       "<div>\n",
       "<style scoped>\n",
       "    .dataframe tbody tr th:only-of-type {\n",
       "        vertical-align: middle;\n",
       "    }\n",
       "\n",
       "    .dataframe tbody tr th {\n",
       "        vertical-align: top;\n",
       "    }\n",
       "\n",
       "    .dataframe thead th {\n",
       "        text-align: right;\n",
       "    }\n",
       "</style>\n",
       "<table border=\"1\" class=\"dataframe\">\n",
       "  <thead>\n",
       "    <tr style=\"text-align: right;\">\n",
       "      <th></th>\n",
       "      <th>Actual</th>\n",
       "      <th>Predict</th>\n",
       "    </tr>\n",
       "  </thead>\n",
       "  <tbody>\n",
       "    <tr>\n",
       "      <th>0</th>\n",
       "      <td>1.002574</td>\n",
       "      <td>0.994727</td>\n",
       "    </tr>\n",
       "    <tr>\n",
       "      <th>1</th>\n",
       "      <td>1.015262</td>\n",
       "      <td>0.997272</td>\n",
       "    </tr>\n",
       "    <tr>\n",
       "      <th>2</th>\n",
       "      <td>0.986748</td>\n",
       "      <td>1.002053</td>\n",
       "    </tr>\n",
       "    <tr>\n",
       "      <th>3</th>\n",
       "      <td>1.007658</td>\n",
       "      <td>1.007126</td>\n",
       "    </tr>\n",
       "    <tr>\n",
       "      <th>4</th>\n",
       "      <td>0.984575</td>\n",
       "      <td>1.012547</td>\n",
       "    </tr>\n",
       "    <tr>\n",
       "      <th>5</th>\n",
       "      <td>0.985933</td>\n",
       "      <td>1.018156</td>\n",
       "    </tr>\n",
       "    <tr>\n",
       "      <th>6</th>\n",
       "      <td>0.979144</td>\n",
       "      <td>1.026750</td>\n",
       "    </tr>\n",
       "    <tr>\n",
       "      <th>7</th>\n",
       "      <td>1.006898</td>\n",
       "      <td>1.037965</td>\n",
       "    </tr>\n",
       "    <tr>\n",
       "      <th>8</th>\n",
       "      <td>0.972844</td>\n",
       "      <td>1.052661</td>\n",
       "    </tr>\n",
       "    <tr>\n",
       "      <th>9</th>\n",
       "      <td>0.952786</td>\n",
       "      <td>1.063612</td>\n",
       "    </tr>\n",
       "  </tbody>\n",
       "</table>\n",
       "</div>"
      ],
      "text/plain": [
       "     Actual   Predict\n",
       "0  1.002574  0.994727\n",
       "1  1.015262  0.997272\n",
       "2  0.986748  1.002053\n",
       "3  1.007658  1.007126\n",
       "4  0.984575  1.012547\n",
       "5  0.985933  1.018156\n",
       "6  0.979144  1.026750\n",
       "7  1.006898  1.037965\n",
       "8  0.972844  1.052661\n",
       "9  0.952786  1.063612"
      ]
     },
     "execution_count": 47,
     "metadata": {},
     "output_type": "execute_result"
    }
   ],
   "source": [
    "conv_acc_df = pd.DataFrame()\n",
    "conv_acc_df['Actual'] = y_test\n",
    "conv_acc_df['Predict'] = predictions[:,0]\n",
    "conv_acc_df.head(10)"
   ]
  },
  {
   "cell_type": "code",
   "execution_count": 48,
   "id": "8c2a45e9-e02b-45a3-af27-286e94b734a8",
   "metadata": {},
   "outputs": [
    {
     "data": {
      "text/plain": [
       "(124, 1)"
      ]
     },
     "execution_count": 48,
     "metadata": {},
     "output_type": "execute_result"
    }
   ],
   "source": [
    "predictions.shape"
   ]
  },
  {
   "cell_type": "code",
   "execution_count": 49,
   "id": "5d34506a-fcf6-4510-9883-ce4b178ab810",
   "metadata": {},
   "outputs": [
    {
     "data": {
      "text/plain": [
       "(124,)"
      ]
     },
     "execution_count": 49,
     "metadata": {},
     "output_type": "execute_result"
    }
   ],
   "source": [
    "y_test.shape"
   ]
  },
  {
   "cell_type": "code",
   "execution_count": 50,
   "id": "54119783-059b-4320-869a-c30fd1ababf1",
   "metadata": {},
   "outputs": [
    {
     "ename": "NotImplementedError",
     "evalue": "Layer ModuleWrapper has arguments in `__init__` and therefore must override `get_config`.",
     "output_type": "error",
     "traceback": [
      "\u001b[1;31m---------------------------------------------------------------------------\u001b[0m",
      "\u001b[1;31mNotImplementedError\u001b[0m                       Traceback (most recent call last)",
      "\u001b[1;32m<ipython-input-50-5d39412e143a>\u001b[0m in \u001b[0;36m<module>\u001b[1;34m\u001b[0m\n\u001b[0;32m      1\u001b[0m \u001b[1;31m# Save model\u001b[0m\u001b[1;33m\u001b[0m\u001b[1;33m\u001b[0m\u001b[1;33m\u001b[0m\u001b[0m\n\u001b[0;32m      2\u001b[0m \u001b[0mos\u001b[0m\u001b[1;33m.\u001b[0m\u001b[0mchdir\u001b[0m\u001b[1;33m(\u001b[0m\u001b[1;34m\"../ml\"\u001b[0m\u001b[1;33m)\u001b[0m\u001b[1;33m\u001b[0m\u001b[1;33m\u001b[0m\u001b[0m\n\u001b[1;32m----> 3\u001b[1;33m \u001b[0mlstm_model\u001b[0m\u001b[1;33m.\u001b[0m\u001b[0msave\u001b[0m\u001b[1;33m(\u001b[0m\u001b[1;34m'model.h5'\u001b[0m\u001b[1;33m)\u001b[0m\u001b[1;33m\u001b[0m\u001b[1;33m\u001b[0m\u001b[0m\n\u001b[0m",
      "\u001b[1;32m~\\anaconda3\\envs\\cu_proj_2\\lib\\site-packages\\keras\\engine\\training.py\u001b[0m in \u001b[0;36msave\u001b[1;34m(self, filepath, overwrite, include_optimizer, save_format, signatures, options, save_traces)\u001b[0m\n\u001b[0;32m   2085\u001b[0m     \u001b[1;31m# pylint: enable=line-too-long\u001b[0m\u001b[1;33m\u001b[0m\u001b[1;33m\u001b[0m\u001b[1;33m\u001b[0m\u001b[0m\n\u001b[0;32m   2086\u001b[0m     save.save_model(self, filepath, overwrite, include_optimizer, save_format,\n\u001b[1;32m-> 2087\u001b[1;33m                     signatures, options, save_traces)\n\u001b[0m\u001b[0;32m   2088\u001b[0m \u001b[1;33m\u001b[0m\u001b[0m\n\u001b[0;32m   2089\u001b[0m   def save_weights(self,\n",
      "\u001b[1;32m~\\anaconda3\\envs\\cu_proj_2\\lib\\site-packages\\keras\\saving\\save.py\u001b[0m in \u001b[0;36msave_model\u001b[1;34m(model, filepath, overwrite, include_optimizer, save_format, signatures, options, save_traces)\u001b[0m\n\u001b[0;32m    145\u001b[0m           'or using `save_weights`.')\n\u001b[0;32m    146\u001b[0m     hdf5_format.save_model_to_hdf5(\n\u001b[1;32m--> 147\u001b[1;33m         model, filepath, overwrite, include_optimizer)\n\u001b[0m\u001b[0;32m    148\u001b[0m   \u001b[1;32melse\u001b[0m\u001b[1;33m:\u001b[0m\u001b[1;33m\u001b[0m\u001b[1;33m\u001b[0m\u001b[0m\n\u001b[0;32m    149\u001b[0m     \u001b[1;32mwith\u001b[0m \u001b[0mgeneric_utils\u001b[0m\u001b[1;33m.\u001b[0m\u001b[0mSharedObjectSavingScope\u001b[0m\u001b[1;33m(\u001b[0m\u001b[1;33m)\u001b[0m\u001b[1;33m:\u001b[0m\u001b[1;33m\u001b[0m\u001b[1;33m\u001b[0m\u001b[0m\n",
      "\u001b[1;32m~\\anaconda3\\envs\\cu_proj_2\\lib\\site-packages\\keras\\saving\\hdf5_format.py\u001b[0m in \u001b[0;36msave_model_to_hdf5\u001b[1;34m(model, filepath, overwrite, include_optimizer)\u001b[0m\n\u001b[0;32m    108\u001b[0m \u001b[1;33m\u001b[0m\u001b[0m\n\u001b[0;32m    109\u001b[0m   \u001b[1;32mtry\u001b[0m\u001b[1;33m:\u001b[0m\u001b[1;33m\u001b[0m\u001b[1;33m\u001b[0m\u001b[0m\n\u001b[1;32m--> 110\u001b[1;33m     \u001b[0mmodel_metadata\u001b[0m \u001b[1;33m=\u001b[0m \u001b[0msaving_utils\u001b[0m\u001b[1;33m.\u001b[0m\u001b[0mmodel_metadata\u001b[0m\u001b[1;33m(\u001b[0m\u001b[0mmodel\u001b[0m\u001b[1;33m,\u001b[0m \u001b[0minclude_optimizer\u001b[0m\u001b[1;33m)\u001b[0m\u001b[1;33m\u001b[0m\u001b[1;33m\u001b[0m\u001b[0m\n\u001b[0m\u001b[0;32m    111\u001b[0m     \u001b[1;32mfor\u001b[0m \u001b[0mk\u001b[0m\u001b[1;33m,\u001b[0m \u001b[0mv\u001b[0m \u001b[1;32min\u001b[0m \u001b[0mmodel_metadata\u001b[0m\u001b[1;33m.\u001b[0m\u001b[0mitems\u001b[0m\u001b[1;33m(\u001b[0m\u001b[1;33m)\u001b[0m\u001b[1;33m:\u001b[0m\u001b[1;33m\u001b[0m\u001b[1;33m\u001b[0m\u001b[0m\n\u001b[0;32m    112\u001b[0m       \u001b[1;32mif\u001b[0m \u001b[0misinstance\u001b[0m\u001b[1;33m(\u001b[0m\u001b[0mv\u001b[0m\u001b[1;33m,\u001b[0m \u001b[1;33m(\u001b[0m\u001b[0mdict\u001b[0m\u001b[1;33m,\u001b[0m \u001b[0mlist\u001b[0m\u001b[1;33m,\u001b[0m \u001b[0mtuple\u001b[0m\u001b[1;33m)\u001b[0m\u001b[1;33m)\u001b[0m\u001b[1;33m:\u001b[0m\u001b[1;33m\u001b[0m\u001b[1;33m\u001b[0m\u001b[0m\n",
      "\u001b[1;32m~\\anaconda3\\envs\\cu_proj_2\\lib\\site-packages\\keras\\saving\\saving_utils.py\u001b[0m in \u001b[0;36mmodel_metadata\u001b[1;34m(model, include_optimizer, require_config)\u001b[0m\n\u001b[0;32m    150\u001b[0m   \u001b[1;32mexcept\u001b[0m \u001b[0mNotImplementedError\u001b[0m \u001b[1;32mas\u001b[0m \u001b[0me\u001b[0m\u001b[1;33m:\u001b[0m\u001b[1;33m\u001b[0m\u001b[1;33m\u001b[0m\u001b[0m\n\u001b[0;32m    151\u001b[0m     \u001b[1;32mif\u001b[0m \u001b[0mrequire_config\u001b[0m\u001b[1;33m:\u001b[0m\u001b[1;33m\u001b[0m\u001b[1;33m\u001b[0m\u001b[0m\n\u001b[1;32m--> 152\u001b[1;33m       \u001b[1;32mraise\u001b[0m \u001b[0me\u001b[0m\u001b[1;33m\u001b[0m\u001b[1;33m\u001b[0m\u001b[0m\n\u001b[0m\u001b[0;32m    153\u001b[0m \u001b[1;33m\u001b[0m\u001b[0m\n\u001b[0;32m    154\u001b[0m   metadata = dict(\n",
      "\u001b[1;32m~\\anaconda3\\envs\\cu_proj_2\\lib\\site-packages\\keras\\saving\\saving_utils.py\u001b[0m in \u001b[0;36mmodel_metadata\u001b[1;34m(model, include_optimizer, require_config)\u001b[0m\n\u001b[0;32m    147\u001b[0m   \u001b[0mmodel_config\u001b[0m \u001b[1;33m=\u001b[0m \u001b[1;33m{\u001b[0m\u001b[1;34m'class_name'\u001b[0m\u001b[1;33m:\u001b[0m \u001b[0mmodel\u001b[0m\u001b[1;33m.\u001b[0m\u001b[0m__class__\u001b[0m\u001b[1;33m.\u001b[0m\u001b[0m__name__\u001b[0m\u001b[1;33m}\u001b[0m\u001b[1;33m\u001b[0m\u001b[1;33m\u001b[0m\u001b[0m\n\u001b[0;32m    148\u001b[0m   \u001b[1;32mtry\u001b[0m\u001b[1;33m:\u001b[0m\u001b[1;33m\u001b[0m\u001b[1;33m\u001b[0m\u001b[0m\n\u001b[1;32m--> 149\u001b[1;33m     \u001b[0mmodel_config\u001b[0m\u001b[1;33m[\u001b[0m\u001b[1;34m'config'\u001b[0m\u001b[1;33m]\u001b[0m \u001b[1;33m=\u001b[0m \u001b[0mmodel\u001b[0m\u001b[1;33m.\u001b[0m\u001b[0mget_config\u001b[0m\u001b[1;33m(\u001b[0m\u001b[1;33m)\u001b[0m\u001b[1;33m\u001b[0m\u001b[1;33m\u001b[0m\u001b[0m\n\u001b[0m\u001b[0;32m    150\u001b[0m   \u001b[1;32mexcept\u001b[0m \u001b[0mNotImplementedError\u001b[0m \u001b[1;32mas\u001b[0m \u001b[0me\u001b[0m\u001b[1;33m:\u001b[0m\u001b[1;33m\u001b[0m\u001b[1;33m\u001b[0m\u001b[0m\n\u001b[0;32m    151\u001b[0m     \u001b[1;32mif\u001b[0m \u001b[0mrequire_config\u001b[0m\u001b[1;33m:\u001b[0m\u001b[1;33m\u001b[0m\u001b[1;33m\u001b[0m\u001b[0m\n",
      "\u001b[1;32m~\\anaconda3\\envs\\cu_proj_2\\lib\\site-packages\\keras\\engine\\sequential.py\u001b[0m in \u001b[0;36mget_config\u001b[1;34m(self)\u001b[0m\n\u001b[0;32m    469\u001b[0m       \u001b[1;31m# of `self.layers`). Note that `self._self_tracked_trackables` is managed\u001b[0m\u001b[1;33m\u001b[0m\u001b[1;33m\u001b[0m\u001b[1;33m\u001b[0m\u001b[0m\n\u001b[0;32m    470\u001b[0m       \u001b[1;31m# by the tracking infrastructure and should not be used.\u001b[0m\u001b[1;33m\u001b[0m\u001b[1;33m\u001b[0m\u001b[1;33m\u001b[0m\u001b[0m\n\u001b[1;32m--> 471\u001b[1;33m       \u001b[0mlayer_configs\u001b[0m\u001b[1;33m.\u001b[0m\u001b[0mappend\u001b[0m\u001b[1;33m(\u001b[0m\u001b[0mgeneric_utils\u001b[0m\u001b[1;33m.\u001b[0m\u001b[0mserialize_keras_object\u001b[0m\u001b[1;33m(\u001b[0m\u001b[0mlayer\u001b[0m\u001b[1;33m)\u001b[0m\u001b[1;33m)\u001b[0m\u001b[1;33m\u001b[0m\u001b[1;33m\u001b[0m\u001b[0m\n\u001b[0m\u001b[0;32m    472\u001b[0m     config = {\n\u001b[0;32m    473\u001b[0m         \u001b[1;34m'name'\u001b[0m\u001b[1;33m:\u001b[0m \u001b[0mself\u001b[0m\u001b[1;33m.\u001b[0m\u001b[0mname\u001b[0m\u001b[1;33m,\u001b[0m\u001b[1;33m\u001b[0m\u001b[1;33m\u001b[0m\u001b[0m\n",
      "\u001b[1;32m~\\anaconda3\\envs\\cu_proj_2\\lib\\site-packages\\keras\\utils\\generic_utils.py\u001b[0m in \u001b[0;36mserialize_keras_object\u001b[1;34m(instance)\u001b[0m\n\u001b[0;32m    506\u001b[0m         return serialize_keras_class_and_config(\n\u001b[0;32m    507\u001b[0m             name, {_LAYER_UNDEFINED_CONFIG_KEY: True})\n\u001b[1;32m--> 508\u001b[1;33m       \u001b[1;32mraise\u001b[0m \u001b[0me\u001b[0m\u001b[1;33m\u001b[0m\u001b[1;33m\u001b[0m\u001b[0m\n\u001b[0m\u001b[0;32m    509\u001b[0m     \u001b[0mserialization_config\u001b[0m \u001b[1;33m=\u001b[0m \u001b[1;33m{\u001b[0m\u001b[1;33m}\u001b[0m\u001b[1;33m\u001b[0m\u001b[1;33m\u001b[0m\u001b[0m\n\u001b[0;32m    510\u001b[0m     \u001b[1;32mfor\u001b[0m \u001b[0mkey\u001b[0m\u001b[1;33m,\u001b[0m \u001b[0mitem\u001b[0m \u001b[1;32min\u001b[0m \u001b[0mconfig\u001b[0m\u001b[1;33m.\u001b[0m\u001b[0mitems\u001b[0m\u001b[1;33m(\u001b[0m\u001b[1;33m)\u001b[0m\u001b[1;33m:\u001b[0m\u001b[1;33m\u001b[0m\u001b[1;33m\u001b[0m\u001b[0m\n",
      "\u001b[1;32m~\\anaconda3\\envs\\cu_proj_2\\lib\\site-packages\\keras\\utils\\generic_utils.py\u001b[0m in \u001b[0;36mserialize_keras_object\u001b[1;34m(instance)\u001b[0m\n\u001b[0;32m    501\u001b[0m     \u001b[0mname\u001b[0m \u001b[1;33m=\u001b[0m \u001b[0mget_registered_name\u001b[0m\u001b[1;33m(\u001b[0m\u001b[0minstance\u001b[0m\u001b[1;33m.\u001b[0m\u001b[0m__class__\u001b[0m\u001b[1;33m)\u001b[0m\u001b[1;33m\u001b[0m\u001b[1;33m\u001b[0m\u001b[0m\n\u001b[0;32m    502\u001b[0m     \u001b[1;32mtry\u001b[0m\u001b[1;33m:\u001b[0m\u001b[1;33m\u001b[0m\u001b[1;33m\u001b[0m\u001b[0m\n\u001b[1;32m--> 503\u001b[1;33m       \u001b[0mconfig\u001b[0m \u001b[1;33m=\u001b[0m \u001b[0minstance\u001b[0m\u001b[1;33m.\u001b[0m\u001b[0mget_config\u001b[0m\u001b[1;33m(\u001b[0m\u001b[1;33m)\u001b[0m\u001b[1;33m\u001b[0m\u001b[1;33m\u001b[0m\u001b[0m\n\u001b[0m\u001b[0;32m    504\u001b[0m     \u001b[1;32mexcept\u001b[0m \u001b[0mNotImplementedError\u001b[0m \u001b[1;32mas\u001b[0m \u001b[0me\u001b[0m\u001b[1;33m:\u001b[0m\u001b[1;33m\u001b[0m\u001b[1;33m\u001b[0m\u001b[0m\n\u001b[0;32m    505\u001b[0m       \u001b[1;32mif\u001b[0m \u001b[0m_SKIP_FAILED_SERIALIZATION\u001b[0m\u001b[1;33m:\u001b[0m\u001b[1;33m\u001b[0m\u001b[1;33m\u001b[0m\u001b[0m\n",
      "\u001b[1;32m~\\anaconda3\\envs\\cu_proj_2\\lib\\site-packages\\keras\\engine\\base_layer.py\u001b[0m in \u001b[0;36mget_config\u001b[1;34m(self)\u001b[0m\n\u001b[0;32m    695\u001b[0m       raise NotImplementedError('Layer %s has arguments in `__init__` and '\n\u001b[0;32m    696\u001b[0m                                 \u001b[1;34m'therefore must override `get_config`.'\u001b[0m \u001b[1;33m%\u001b[0m\u001b[1;33m\u001b[0m\u001b[1;33m\u001b[0m\u001b[0m\n\u001b[1;32m--> 697\u001b[1;33m                                 self.__class__.__name__)\n\u001b[0m\u001b[0;32m    698\u001b[0m     \u001b[1;32mreturn\u001b[0m \u001b[0mconfig\u001b[0m\u001b[1;33m\u001b[0m\u001b[1;33m\u001b[0m\u001b[0m\n\u001b[0;32m    699\u001b[0m \u001b[1;33m\u001b[0m\u001b[0m\n",
      "\u001b[1;31mNotImplementedError\u001b[0m: Layer ModuleWrapper has arguments in `__init__` and therefore must override `get_config`."
     ]
    }
   ],
   "source": [
    "# Save model\n",
    "os.chdir(\"../ml\")\n",
    "lstm_model.save('model.h5')"
   ]
  },
  {
   "cell_type": "markdown",
   "id": "fd624ac6-8e54-47b5-84c8-16442bb058db",
   "metadata": {},
   "source": [
    "---"
   ]
  },
  {
   "cell_type": "markdown",
   "id": "4da226b6-76e2-4586-beeb-8928766900bf",
   "metadata": {},
   "source": [
    "## LSTM Evaluation"
   ]
  },
  {
   "cell_type": "code",
   "execution_count": null,
   "id": "d1ff96ed-e180-4e0b-8093-3f0dacabc946",
   "metadata": {},
   "outputs": [],
   "source": [
    "from keras.models import load_model\n",
    "os.chdir(\"../ml\")\n",
    "loaded_model = load_model('model.h5')"
   ]
  },
  {
   "cell_type": "code",
   "execution_count": null,
   "id": "07ef1549-788f-4ec0-b787-566e17f9092b",
   "metadata": {},
   "outputs": [],
   "source": [
    "loaded_model"
   ]
  },
  {
   "cell_type": "markdown",
   "id": "c60d5e8e-47cd-491c-bb5e-567c4591a9e3",
   "metadata": {},
   "source": [
    "---"
   ]
  },
  {
   "cell_type": "markdown",
   "id": "e8ff427a-15de-4a2f-84a7-aca116c083ca",
   "metadata": {},
   "source": [
    "### Load production test data"
   ]
  },
  {
   "cell_type": "code",
   "execution_count": null,
   "id": "bfc4ad7e-99d8-4969-b248-5f51c398ebc4",
   "metadata": {},
   "outputs": [],
   "source": [
    "test_end_date  = datetime.now()\n",
    "test_start_date  = (test_end_date - timedelta(days=14))\n",
    "\n",
    "test_start_date = test_start_date.strftime('%Y-%m-%d')\n",
    "test_end_date = test_end_date.strftime('%Y-%m-%d')\n",
    "\n",
    "print(f\"Start date : {test_start_date}\")\n",
    "print(f\"End date : {test_end_date}\")"
   ]
  },
  {
   "cell_type": "code",
   "execution_count": null,
   "id": "24b309e8-879c-48cb-9a8e-a3943a6e3247",
   "metadata": {},
   "outputs": [],
   "source": [
    "# load the dataset\n",
    "test_tickers = [\"ADSK\"]\n",
    "test_ohlcv_df = alpaca.ohlcv(test_tickers, start_date=start_date, end_date=end_date)\n",
    "test_tech_ind = technicals.TechnicalAnalysis(test_ohlcv_df)\n",
    "\n",
    "test_df = test_tech_ind.get_all_technicals(test_tickers[0])\n",
    "test_df.head()"
   ]
  },
  {
   "cell_type": "code",
   "execution_count": null,
   "id": "d9374acf-b7ff-447c-aad3-ebffc1d95cf5",
   "metadata": {},
   "outputs": [],
   "source": []
  }
 ],
 "metadata": {
  "kernelspec": {
   "display_name": "Python 3",
   "language": "python",
   "name": "python3"
  },
  "language_info": {
   "codemirror_mode": {
    "name": "ipython",
    "version": 3
   },
   "file_extension": ".py",
   "mimetype": "text/x-python",
   "name": "python",
   "nbconvert_exporter": "python",
   "pygments_lexer": "ipython3",
   "version": "3.7.10"
  }
 },
 "nbformat": 4,
 "nbformat_minor": 5
}
