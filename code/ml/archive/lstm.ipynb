{
 "cells": [
  {
   "cell_type": "markdown",
   "id": "6e0800d8-11bb-4455-88bf-f3826904f91d",
   "metadata": {},
   "source": [
    "# Machine Learning Module"
   ]
  },
  {
   "cell_type": "code",
   "execution_count": 1,
   "id": "f919d055-deb3-48a8-859f-069986c1cacd",
   "metadata": {},
   "outputs": [],
   "source": [
    "import os\n",
    "import pandas as pd\n",
    "import numpy as np\n",
    "import tensorflow as tf\n",
    "from tensorflow import keras\n",
    "import matplotlib.pyplot as plt\n",
    "\n",
    "os.chdir(\"../marketdata\")\n",
    "import alpaca\n",
    "\n",
    "os.chdir(\"../technicals\")\n",
    "import technicals"
   ]
  },
  {
   "cell_type": "code",
   "execution_count": 2,
   "id": "2f354670-96ae-4931-8b87-d3b73512f8f2",
   "metadata": {},
   "outputs": [],
   "source": [
    "test_tickers = [\"ADSK\"]\n",
    "ohlcv_df = alpaca.ohlcv(test_tickers)\n",
    "tech_ind = technicals.TechnicalAnalysis(ohlcv_df)\n",
    "df = tech_ind.get_all_technicals(test_tickers[0])"
   ]
  },
  {
   "cell_type": "code",
   "execution_count": 3,
   "id": "4965af3a-7886-4ebe-84ec-1124812dc29d",
   "metadata": {},
   "outputs": [
    {
     "data": {
      "text/html": [
       "<div>\n",
       "<style scoped>\n",
       "    .dataframe tbody tr th:only-of-type {\n",
       "        vertical-align: middle;\n",
       "    }\n",
       "\n",
       "    .dataframe tbody tr th {\n",
       "        vertical-align: top;\n",
       "    }\n",
       "\n",
       "    .dataframe thead th {\n",
       "        text-align: right;\n",
       "    }\n",
       "</style>\n",
       "<table border=\"1\" class=\"dataframe\">\n",
       "  <thead>\n",
       "    <tr style=\"text-align: right;\">\n",
       "      <th></th>\n",
       "      <th>open</th>\n",
       "      <th>high</th>\n",
       "      <th>low</th>\n",
       "      <th>close</th>\n",
       "      <th>volume</th>\n",
       "      <th>rsi</th>\n",
       "      <th>williams</th>\n",
       "      <th>mfi</th>\n",
       "      <th>stoch_k</th>\n",
       "      <th>macd</th>\n",
       "      <th>...</th>\n",
       "      <th>ema_7</th>\n",
       "      <th>ema_14</th>\n",
       "      <th>ema_21</th>\n",
       "      <th>highlow</th>\n",
       "      <th>closeopen</th>\n",
       "      <th>bb_high</th>\n",
       "      <th>bb_low</th>\n",
       "      <th>pvt</th>\n",
       "      <th>daily_return</th>\n",
       "      <th>cum_daily_return</th>\n",
       "    </tr>\n",
       "    <tr>\n",
       "      <th>time</th>\n",
       "      <th></th>\n",
       "      <th></th>\n",
       "      <th></th>\n",
       "      <th></th>\n",
       "      <th></th>\n",
       "      <th></th>\n",
       "      <th></th>\n",
       "      <th></th>\n",
       "      <th></th>\n",
       "      <th></th>\n",
       "      <th></th>\n",
       "      <th></th>\n",
       "      <th></th>\n",
       "      <th></th>\n",
       "      <th></th>\n",
       "      <th></th>\n",
       "      <th></th>\n",
       "      <th></th>\n",
       "      <th></th>\n",
       "      <th></th>\n",
       "      <th></th>\n",
       "    </tr>\n",
       "  </thead>\n",
       "  <tbody>\n",
       "    <tr>\n",
       "      <th>2020-01-02 00:00:00-05:00</th>\n",
       "      <td>184.21</td>\n",
       "      <td>187.89</td>\n",
       "      <td>181.88</td>\n",
       "      <td>187.83</td>\n",
       "      <td>1379670</td>\n",
       "      <td>0.000000</td>\n",
       "      <td>0.0</td>\n",
       "      <td>0.0</td>\n",
       "      <td>0.0</td>\n",
       "      <td>0.000000</td>\n",
       "      <td>...</td>\n",
       "      <td>187.830000</td>\n",
       "      <td>187.830000</td>\n",
       "      <td>187.830000</td>\n",
       "      <td>6.01</td>\n",
       "      <td>3.62</td>\n",
       "      <td>0.0</td>\n",
       "      <td>0.0</td>\n",
       "      <td>0.000000</td>\n",
       "      <td>0.000000</td>\n",
       "      <td>1.000000</td>\n",
       "    </tr>\n",
       "    <tr>\n",
       "      <th>2020-01-03 00:00:00-05:00</th>\n",
       "      <td>184.49</td>\n",
       "      <td>186.41</td>\n",
       "      <td>183.78</td>\n",
       "      <td>184.96</td>\n",
       "      <td>635151</td>\n",
       "      <td>0.000000</td>\n",
       "      <td>0.0</td>\n",
       "      <td>0.0</td>\n",
       "      <td>0.0</td>\n",
       "      <td>-0.064391</td>\n",
       "      <td>...</td>\n",
       "      <td>186.190000</td>\n",
       "      <td>186.292500</td>\n",
       "      <td>186.326667</td>\n",
       "      <td>2.63</td>\n",
       "      <td>0.47</td>\n",
       "      <td>0.0</td>\n",
       "      <td>0.0</td>\n",
       "      <td>0.000000</td>\n",
       "      <td>-0.015280</td>\n",
       "      <td>0.984720</td>\n",
       "    </tr>\n",
       "    <tr>\n",
       "      <th>2020-01-06 00:00:00-05:00</th>\n",
       "      <td>183.78</td>\n",
       "      <td>187.25</td>\n",
       "      <td>183.16</td>\n",
       "      <td>187.12</td>\n",
       "      <td>642260</td>\n",
       "      <td>5.101559</td>\n",
       "      <td>0.0</td>\n",
       "      <td>0.0</td>\n",
       "      <td>0.0</td>\n",
       "      <td>-0.015065</td>\n",
       "      <td>...</td>\n",
       "      <td>186.592162</td>\n",
       "      <td>186.608608</td>\n",
       "      <td>186.616677</td>\n",
       "      <td>4.09</td>\n",
       "      <td>3.34</td>\n",
       "      <td>0.0</td>\n",
       "      <td>0.0</td>\n",
       "      <td>17205.405080</td>\n",
       "      <td>0.011678</td>\n",
       "      <td>0.996220</td>\n",
       "    </tr>\n",
       "    <tr>\n",
       "      <th>2020-01-07 00:00:00-05:00</th>\n",
       "      <td>186.78</td>\n",
       "      <td>188.17</td>\n",
       "      <td>185.10</td>\n",
       "      <td>187.52</td>\n",
       "      <td>763776</td>\n",
       "      <td>6.052509</td>\n",
       "      <td>0.0</td>\n",
       "      <td>0.0</td>\n",
       "      <td>0.0</td>\n",
       "      <td>0.022180</td>\n",
       "      <td>...</td>\n",
       "      <td>186.931486</td>\n",
       "      <td>186.887428</td>\n",
       "      <td>186.875742</td>\n",
       "      <td>3.07</td>\n",
       "      <td>0.74</td>\n",
       "      <td>0.0</td>\n",
       "      <td>0.0</td>\n",
       "      <td>-5867.743442</td>\n",
       "      <td>0.002138</td>\n",
       "      <td>0.998350</td>\n",
       "    </tr>\n",
       "    <tr>\n",
       "      <th>2020-01-08 00:00:00-05:00</th>\n",
       "      <td>188.22</td>\n",
       "      <td>190.50</td>\n",
       "      <td>187.03</td>\n",
       "      <td>190.01</td>\n",
       "      <td>1075388</td>\n",
       "      <td>11.938087</td>\n",
       "      <td>0.0</td>\n",
       "      <td>0.0</td>\n",
       "      <td>0.0</td>\n",
       "      <td>0.141034</td>\n",
       "      <td>...</td>\n",
       "      <td>187.940576</td>\n",
       "      <td>187.702103</td>\n",
       "      <td>187.627387</td>\n",
       "      <td>3.47</td>\n",
       "      <td>1.79</td>\n",
       "      <td>0.0</td>\n",
       "      <td>0.0</td>\n",
       "      <td>12646.931745</td>\n",
       "      <td>0.013279</td>\n",
       "      <td>1.011606</td>\n",
       "    </tr>\n",
       "  </tbody>\n",
       "</table>\n",
       "<p>5 rows × 23 columns</p>\n",
       "</div>"
      ],
      "text/plain": [
       "                             open    high     low   close   volume        rsi  \\\n",
       "time                                                                            \n",
       "2020-01-02 00:00:00-05:00  184.21  187.89  181.88  187.83  1379670   0.000000   \n",
       "2020-01-03 00:00:00-05:00  184.49  186.41  183.78  184.96   635151   0.000000   \n",
       "2020-01-06 00:00:00-05:00  183.78  187.25  183.16  187.12   642260   5.101559   \n",
       "2020-01-07 00:00:00-05:00  186.78  188.17  185.10  187.52   763776   6.052509   \n",
       "2020-01-08 00:00:00-05:00  188.22  190.50  187.03  190.01  1075388  11.938087   \n",
       "\n",
       "                           williams  mfi  stoch_k      macd  ...       ema_7  \\\n",
       "time                                                         ...               \n",
       "2020-01-02 00:00:00-05:00       0.0  0.0      0.0  0.000000  ...  187.830000   \n",
       "2020-01-03 00:00:00-05:00       0.0  0.0      0.0 -0.064391  ...  186.190000   \n",
       "2020-01-06 00:00:00-05:00       0.0  0.0      0.0 -0.015065  ...  186.592162   \n",
       "2020-01-07 00:00:00-05:00       0.0  0.0      0.0  0.022180  ...  186.931486   \n",
       "2020-01-08 00:00:00-05:00       0.0  0.0      0.0  0.141034  ...  187.940576   \n",
       "\n",
       "                               ema_14      ema_21  highlow  closeopen  \\\n",
       "time                                                                    \n",
       "2020-01-02 00:00:00-05:00  187.830000  187.830000     6.01       3.62   \n",
       "2020-01-03 00:00:00-05:00  186.292500  186.326667     2.63       0.47   \n",
       "2020-01-06 00:00:00-05:00  186.608608  186.616677     4.09       3.34   \n",
       "2020-01-07 00:00:00-05:00  186.887428  186.875742     3.07       0.74   \n",
       "2020-01-08 00:00:00-05:00  187.702103  187.627387     3.47       1.79   \n",
       "\n",
       "                           bb_high  bb_low           pvt  daily_return  \\\n",
       "time                                                                     \n",
       "2020-01-02 00:00:00-05:00      0.0     0.0      0.000000      0.000000   \n",
       "2020-01-03 00:00:00-05:00      0.0     0.0      0.000000     -0.015280   \n",
       "2020-01-06 00:00:00-05:00      0.0     0.0  17205.405080      0.011678   \n",
       "2020-01-07 00:00:00-05:00      0.0     0.0  -5867.743442      0.002138   \n",
       "2020-01-08 00:00:00-05:00      0.0     0.0  12646.931745      0.013279   \n",
       "\n",
       "                           cum_daily_return  \n",
       "time                                         \n",
       "2020-01-02 00:00:00-05:00          1.000000  \n",
       "2020-01-03 00:00:00-05:00          0.984720  \n",
       "2020-01-06 00:00:00-05:00          0.996220  \n",
       "2020-01-07 00:00:00-05:00          0.998350  \n",
       "2020-01-08 00:00:00-05:00          1.011606  \n",
       "\n",
       "[5 rows x 23 columns]"
      ]
     },
     "execution_count": 3,
     "metadata": {},
     "output_type": "execute_result"
    }
   ],
   "source": [
    "df.head()"
   ]
  },
  {
   "cell_type": "code",
   "execution_count": 4,
   "id": "de39bc77-56c3-45ef-9f6d-f3b8e644c18a",
   "metadata": {},
   "outputs": [],
   "source": [
    "# (X, y) = window_data(df, window_size, 5, 5)\n",
    "\n",
    "X = np.array(df.drop(columns=[\"cum_daily_return\",\"open\",\"high\",\"low\",\"close\",\"volume\",\"daily_return\"]))\n",
    "y = np.array(df[\"close\"]).astype(np.float64).reshape(-1, 1)"
   ]
  },
  {
   "cell_type": "code",
   "execution_count": 5,
   "id": "8cb7d08f-2089-4391-b68f-645fbffd98d9",
   "metadata": {},
   "outputs": [
    {
     "data": {
      "text/plain": [
       "(384, 16)"
      ]
     },
     "execution_count": 5,
     "metadata": {},
     "output_type": "execute_result"
    }
   ],
   "source": [
    "X.shape"
   ]
  },
  {
   "cell_type": "code",
   "execution_count": 6,
   "id": "0b8c0fc2-6ec3-4f7f-868f-d36dd08598d8",
   "metadata": {},
   "outputs": [
    {
     "data": {
      "text/plain": [
       "(384, 1)"
      ]
     },
     "execution_count": 6,
     "metadata": {},
     "output_type": "execute_result"
    }
   ],
   "source": [
    "y.shape"
   ]
  },
  {
   "cell_type": "code",
   "execution_count": 7,
   "id": "e1fceb5f-ddcd-473d-9213-2d614e3ddf40",
   "metadata": {},
   "outputs": [],
   "source": [
    "# Normal train-test split\n",
    "split = int(0.8 * len(df.index))\n",
    "\n",
    "X_train = X[: split - 1]\n",
    "X_test = X[split:]\n",
    "\n",
    "y_train = y[: split - 1]\n",
    "y_test = y[split:]"
   ]
  },
  {
   "cell_type": "code",
   "execution_count": 8,
   "id": "f4499a54-0e27-43bc-8aae-0a74a670de85",
   "metadata": {},
   "outputs": [],
   "source": [
    "from sklearn.preprocessing import StandardScaler\n",
    "scaler = StandardScaler()\n",
    "X_scaler = scaler.fit(X_train)\n",
    "X_train = X_scaler.transform(X_train)\n",
    "X_test = X_scaler.transform(X_test)"
   ]
  },
  {
   "cell_type": "code",
   "execution_count": 9,
   "id": "7727daad-3607-41fa-9ad8-03fa7a4fab50",
   "metadata": {},
   "outputs": [],
   "source": [
    "X_train = X_train.reshape((X_train.shape[0], X_train.shape[1], 1))\n",
    "X_test = X_test.reshape((X_test.shape[0], X_test.shape[1], 1))"
   ]
  },
  {
   "cell_type": "code",
   "execution_count": 10,
   "id": "71b12574-1728-4e41-8807-5d23c2b24c2a",
   "metadata": {},
   "outputs": [],
   "source": [
    "y_train = np.array(y_train).reshape((y_train.shape[0], 1))\n",
    "y_test = np.array(y_test).reshape((y_test.shape[0], 1))"
   ]
  },
  {
   "cell_type": "code",
   "execution_count": 11,
   "id": "18d88dda-5e3f-46e2-ae63-0d0de322f248",
   "metadata": {},
   "outputs": [
    {
     "data": {
      "text/plain": [
       "(306, 16, 1)"
      ]
     },
     "execution_count": 11,
     "metadata": {},
     "output_type": "execute_result"
    }
   ],
   "source": [
    "X_train.shape"
   ]
  },
  {
   "cell_type": "code",
   "execution_count": 12,
   "id": "dea439ab-63a2-492a-acb4-e61c6c3e32ae",
   "metadata": {},
   "outputs": [
    {
     "data": {
      "text/plain": [
       "(306, 1)"
      ]
     },
     "execution_count": 12,
     "metadata": {},
     "output_type": "execute_result"
    }
   ],
   "source": [
    "y_train.shape"
   ]
  },
  {
   "cell_type": "code",
   "execution_count": 13,
   "id": "b1f9c9d5-030b-4cf0-820d-39ec48923e77",
   "metadata": {},
   "outputs": [],
   "source": [
    "window_size = 14"
   ]
  },
  {
   "cell_type": "code",
   "execution_count": 14,
   "id": "8fb8909e-cd85-42d5-8343-e7a6391b16a1",
   "metadata": {},
   "outputs": [],
   "source": [
    "def LSTM(window_size, n_features):\n",
    "    new_model = keras.Sequential()\n",
    "    new_model.add(tf.keras.layers.LSTM(100, input_shape=(window_size, n_features), activation='relu'))\n",
    "    new_model.add(tf.keras.layers.Flatten())\n",
    "    new_model.add(tf.keras.layers.Dense(1500, activation='relu'))\n",
    "    new_model.add(tf.keras.layers.Dense(100, activation='linear'))\n",
    "    new_model.add(tf.keras.layers.Dense(1))\n",
    "    new_model.compile(optimizer=\"adam\", loss=\"mean_squared_error\")    \n",
    "    return new_model"
   ]
  },
  {
   "cell_type": "code",
   "execution_count": 15,
   "id": "304fbd31-b7fd-49e1-bf27-4e1a8e76e31c",
   "metadata": {},
   "outputs": [
    {
     "data": {
      "text/plain": [
       "1"
      ]
     },
     "execution_count": 15,
     "metadata": {},
     "output_type": "execute_result"
    }
   ],
   "source": [
    "n_features = X_train.shape[2]\n",
    "n_features"
   ]
  },
  {
   "cell_type": "code",
   "execution_count": 16,
   "id": "2bc206bd-716e-405e-8d42-2be11e808f7f",
   "metadata": {},
   "outputs": [],
   "source": [
    "model = LSTM(window_size=window_size, n_features=n_features)"
   ]
  },
  {
   "cell_type": "code",
   "execution_count": 17,
   "id": "dd4940b9-b3a2-4d43-841b-94d72115dab3",
   "metadata": {},
   "outputs": [
    {
     "name": "stdout",
     "output_type": "stream",
     "text": [
      "Model: \"sequential\"\n",
      "_________________________________________________________________\n",
      "Layer (type)                 Output Shape              Param #   \n",
      "=================================================================\n",
      "lstm (LSTM)                  (None, 100)               40800     \n",
      "_________________________________________________________________\n",
      "flatten (Flatten)            (None, 100)               0         \n",
      "_________________________________________________________________\n",
      "dense (Dense)                (None, 1500)              151500    \n",
      "_________________________________________________________________\n",
      "dense_1 (Dense)              (None, 100)               150100    \n",
      "_________________________________________________________________\n",
      "dense_2 (Dense)              (None, 1)                 101       \n",
      "=================================================================\n",
      "Total params: 342,501\n",
      "Trainable params: 342,501\n",
      "Non-trainable params: 0\n",
      "_________________________________________________________________\n"
     ]
    }
   ],
   "source": [
    "model.summary()"
   ]
  },
  {
   "cell_type": "code",
   "execution_count": 18,
   "id": "61b5b65e-9c9d-4649-9ad6-58ea1e70b38e",
   "metadata": {},
   "outputs": [
    {
     "name": "stdout",
     "output_type": "stream",
     "text": [
      "WARNING:tensorflow:Model was constructed with shape (None, 14, 1) for input KerasTensor(type_spec=TensorSpec(shape=(None, 14, 1), dtype=tf.float32, name='lstm_input'), name='lstm_input', description=\"created by layer 'lstm_input'\"), but it was called on an input with incompatible shape (None, 16, 1).\n",
      "WARNING:tensorflow:Model was constructed with shape (None, 14, 1) for input KerasTensor(type_spec=TensorSpec(shape=(None, 14, 1), dtype=tf.float32, name='lstm_input'), name='lstm_input', description=\"created by layer 'lstm_input'\"), but it was called on an input with incompatible shape (None, 16, 1).\n"
     ]
    }
   ],
   "source": [
    "modelfit = model.fit(X_train ,y_train, epochs=200, shuffle=False, batch_size=100, verbose=0)"
   ]
  },
  {
   "cell_type": "code",
   "execution_count": 19,
   "id": "6e846276-2de6-475d-9f95-be45a7a3795f",
   "metadata": {},
   "outputs": [
    {
     "data": {
      "image/png": "[encoded data removed]",
      "text/plain": [
       "<Figure size 432x288 with 1 Axes>"
      ]
     },
     "metadata": {
      "needs_background": "light"
     },
     "output_type": "display_data"
    }
   ],
   "source": [
    "plt.plot(modelfit.history[\"loss\"])\n",
    "plt.title(\"loss_function - LSTM Basic\")\n",
    "plt.legend([\"loss\"])\n",
    "plt.show()"
   ]
  },
  {
   "cell_type": "code",
   "execution_count": 20,
   "id": "a0710a29-dcc1-4616-9458-b5e1b15b28dc",
   "metadata": {},
   "outputs": [
    {
     "name": "stdout",
     "output_type": "stream",
     "text": [
      "WARNING:tensorflow:Model was constructed with shape (None, 14, 1) for input KerasTensor(type_spec=TensorSpec(shape=(None, 14, 1), dtype=tf.float32, name='lstm_input'), name='lstm_input', description=\"created by layer 'lstm_input'\"), but it was called on an input with incompatible shape (None, 16, 1).\n"
     ]
    },
    {
     "data": {
      "text/plain": [
       "72.8460922241211"
      ]
     },
     "execution_count": 20,
     "metadata": {},
     "output_type": "execute_result"
    }
   ],
   "source": [
    "model.evaluate(X_test, y_test, verbose=0)"
   ]
  },
  {
   "cell_type": "code",
   "execution_count": 21,
   "id": "6de5ccd6-aa97-495b-af94-6f53bec0d45e",
   "metadata": {},
   "outputs": [
    {
     "name": "stdout",
     "output_type": "stream",
     "text": [
      "WARNING:tensorflow:Model was constructed with shape (None, 14, 1) for input KerasTensor(type_spec=TensorSpec(shape=(None, 14, 1), dtype=tf.float32, name='lstm_input'), name='lstm_input', description=\"created by layer 'lstm_input'\"), but it was called on an input with incompatible shape (None, 16, 1).\n"
     ]
    },
    {
     "data": {
      "text/plain": [
       "0.18905520494487627"
      ]
     },
     "execution_count": 21,
     "metadata": {},
     "output_type": "execute_result"
    }
   ],
   "source": [
    "from sklearn.metrics import r2_score\n",
    "predictions = model.predict(X_test)\n",
    "test_r2 = r2_score(y_test, predictions)\n",
    "test_r2"
   ]
  },
  {
   "cell_type": "code",
   "execution_count": 22,
   "id": "d2c0f3b7-dd13-4101-ad2e-e567caf7cf41",
   "metadata": {},
   "outputs": [
    {
     "data": {
      "text/plain": [
       "<AxesSubplot:>"
      ]
     },
     "execution_count": 22,
     "metadata": {},
     "output_type": "execute_result"
    },
    {
     "data": {
      "image/png": "[encoded data removed]",
      "text/plain": [
       "<Figure size 432x288 with 1 Axes>"
      ]
     },
     "metadata": {
      "needs_background": "light"
     },
     "output_type": "display_data"
    }
   ],
   "source": [
    "lstm_acc_df = pd.DataFrame()\n",
    "lstm_acc_df['Actual'] = y_test[:,0]\n",
    "lstm_acc_df['Predict'] = predictions[:,0]\n",
    "lstm_acc_df[0:240].plot()"
   ]
  },
  {
   "cell_type": "code",
   "execution_count": null,
   "id": "9a385f4c-8d12-496c-a4fd-c86b7930d20d",
   "metadata": {},
   "outputs": [],
   "source": []
  },
  {
   "cell_type": "code",
   "execution_count": null,
   "id": "8ac4f92d-b73c-4928-8223-165f95c39773",
   "metadata": {},
   "outputs": [],
   "source": []
  },
  {
   "cell_type": "code",
   "execution_count": null,
   "id": "2acf96b4-0a8b-4e7f-9486-18b451a864d6",
   "metadata": {},
   "outputs": [],
   "source": []
  }
 ],
 "metadata": {
  "kernelspec": {
   "display_name": "Python 3",
   "language": "python",
   "name": "python3"
  },
  "language_info": {
   "codemirror_mode": {
    "name": "ipython",
    "version": 3
   },
   "file_extension": ".py",
   "mimetype": "text/x-python",
   "name": "python",
   "nbconvert_exporter": "python",
   "pygments_lexer": "ipython3",
   "version": "3.7.10"
  }
 },
 "nbformat": 4,
 "nbformat_minor": 5
}
