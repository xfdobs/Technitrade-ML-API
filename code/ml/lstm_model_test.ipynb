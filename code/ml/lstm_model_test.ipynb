{
 "cells": [
  {
   "cell_type": "markdown",
   "id": "28d1c459",
   "metadata": {},
   "source": [
    "![header](../../img/logo.svg)\n",
    "\n",
    "**LSTM Model Class Test**"
   ]
  },
  {
   "cell_type": "code",
   "execution_count": 1,
   "id": "7702107f",
   "metadata": {},
   "outputs": [],
   "source": [
    "import os\n",
    "\n",
    "# Technials Analysis Library\n",
    "os.chdir(\"../technicals\")\n",
    "import technicals\n",
    "\n",
    "# Market Data Connection\n",
    "os.chdir(\"../marketdata\")\n",
    "import alpaca\n",
    "\n",
    "# Machine Learning Model\n",
    "os.chdir(\"../ml\")\n",
    "import lstm_model"
   ]
  },
  {
   "cell_type": "markdown",
   "id": "3e6dab92",
   "metadata": {},
   "source": [
    "---"
   ]
  },
  {
   "cell_type": "markdown",
   "id": "fb685282",
   "metadata": {},
   "source": [
    "## Get data"
   ]
  },
  {
   "cell_type": "markdown",
   "id": "beeba98c",
   "metadata": {},
   "source": [
    "### *Get market data*"
   ]
  },
  {
   "cell_type": "code",
   "execution_count": 5,
   "id": "f5f529d8",
   "metadata": {},
   "outputs": [
    {
     "name": "stdout",
     "output_type": "stream",
     "text": [
      "Start date : 2018-10-18\n",
      "End date : 2021-07-14\n"
     ]
    }
   ],
   "source": [
    "# Set market data date range \n",
    "from datetime import date, datetime, timedelta\n",
    "\n",
    "end_date  = datetime.now()\n",
    "start_date  = (end_date - timedelta(days=1000)).strftime('%Y-%m-%d')\n",
    "end_date = end_date.strftime('%Y-%m-%d')\n",
    "\n",
    "print(f\"Start date : {start_date}\")\n",
    "print(f\"End date : {end_date}\")"
   ]
  },
  {
   "cell_type": "code",
   "execution_count": 6,
   "id": "7097b9d3",
   "metadata": {},
   "outputs": [],
   "source": [
    "# instantiate test ticker : Coca-Cola\n",
    "test_tickers = [\"KO\"]"
   ]
  },
  {
   "cell_type": "code",
   "execution_count": 7,
   "id": "438eef08",
   "metadata": {},
   "outputs": [],
   "source": [
    "# get market data using Alpaca API\n",
    "ohlcv_df = alpaca.ohlcv(test_tickers, start_date=start_date, end_date=end_date)"
   ]
  },
  {
   "cell_type": "markdown",
   "id": "93bf47f3",
   "metadata": {},
   "source": [
    "### *Get technical indicator data*"
   ]
  },
  {
   "cell_type": "code",
   "execution_count": 8,
   "id": "c51f229f",
   "metadata": {},
   "outputs": [],
   "source": [
    "# instantiate technical indicator class\n",
    "tech_ind = technicals.TechnicalAnalysis(ohlcv_df)"
   ]
  },
  {
   "cell_type": "code",
   "execution_count": 9,
   "id": "198d8bce",
   "metadata": {},
   "outputs": [],
   "source": [
    "# loop through all tickers to implement the rest:"
   ]
  },
  {
   "cell_type": "code",
   "execution_count": 10,
   "id": "fe82aeb0",
   "metadata": {},
   "outputs": [
    {
     "data": {
      "text/html": [
       "<div>\n",
       "<style scoped>\n",
       "    .dataframe tbody tr th:only-of-type {\n",
       "        vertical-align: middle;\n",
       "    }\n",
       "\n",
       "    .dataframe tbody tr th {\n",
       "        vertical-align: top;\n",
       "    }\n",
       "\n",
       "    .dataframe thead th {\n",
       "        text-align: right;\n",
       "    }\n",
       "</style>\n",
       "<table border=\"1\" class=\"dataframe\">\n",
       "  <thead>\n",
       "    <tr style=\"text-align: right;\">\n",
       "      <th></th>\n",
       "      <th>open</th>\n",
       "      <th>high</th>\n",
       "      <th>low</th>\n",
       "      <th>close</th>\n",
       "      <th>volume</th>\n",
       "      <th>rsi</th>\n",
       "      <th>williams</th>\n",
       "      <th>mfi</th>\n",
       "      <th>stoch_k</th>\n",
       "      <th>macd</th>\n",
       "      <th>...</th>\n",
       "      <th>ma_50</th>\n",
       "      <th>ma_200</th>\n",
       "      <th>ema_7</th>\n",
       "      <th>ema_14</th>\n",
       "      <th>ema_21</th>\n",
       "      <th>highlow</th>\n",
       "      <th>closeopen</th>\n",
       "      <th>bb_high</th>\n",
       "      <th>bb_low</th>\n",
       "      <th>pvt</th>\n",
       "    </tr>\n",
       "    <tr>\n",
       "      <th>time</th>\n",
       "      <th></th>\n",
       "      <th></th>\n",
       "      <th></th>\n",
       "      <th></th>\n",
       "      <th></th>\n",
       "      <th></th>\n",
       "      <th></th>\n",
       "      <th></th>\n",
       "      <th></th>\n",
       "      <th></th>\n",
       "      <th></th>\n",
       "      <th></th>\n",
       "      <th></th>\n",
       "      <th></th>\n",
       "      <th></th>\n",
       "      <th></th>\n",
       "      <th></th>\n",
       "      <th></th>\n",
       "      <th></th>\n",
       "      <th></th>\n",
       "      <th></th>\n",
       "    </tr>\n",
       "  </thead>\n",
       "  <tbody>\n",
       "    <tr>\n",
       "      <th>2018-10-18 00:00:00-04:00</th>\n",
       "      <td>45.90</td>\n",
       "      <td>46.080</td>\n",
       "      <td>45.455</td>\n",
       "      <td>45.64</td>\n",
       "      <td>9403895</td>\n",
       "      <td>0.000000</td>\n",
       "      <td>0.0</td>\n",
       "      <td>0.0</td>\n",
       "      <td>0.0</td>\n",
       "      <td>0.000000</td>\n",
       "      <td>...</td>\n",
       "      <td>0.0</td>\n",
       "      <td>0.0</td>\n",
       "      <td>45.640000</td>\n",
       "      <td>45.640000</td>\n",
       "      <td>45.640000</td>\n",
       "      <td>0.625</td>\n",
       "      <td>-0.26</td>\n",
       "      <td>0.0</td>\n",
       "      <td>0.0</td>\n",
       "      <td>0.000000</td>\n",
       "    </tr>\n",
       "    <tr>\n",
       "      <th>2018-10-19 00:00:00-04:00</th>\n",
       "      <td>45.82</td>\n",
       "      <td>46.490</td>\n",
       "      <td>45.820</td>\n",
       "      <td>46.32</td>\n",
       "      <td>11087680</td>\n",
       "      <td>100.000000</td>\n",
       "      <td>0.0</td>\n",
       "      <td>0.0</td>\n",
       "      <td>0.0</td>\n",
       "      <td>0.015256</td>\n",
       "      <td>...</td>\n",
       "      <td>0.0</td>\n",
       "      <td>0.0</td>\n",
       "      <td>46.028571</td>\n",
       "      <td>46.004286</td>\n",
       "      <td>45.996190</td>\n",
       "      <td>0.670</td>\n",
       "      <td>0.50</td>\n",
       "      <td>0.0</td>\n",
       "      <td>0.0</td>\n",
       "      <td>0.000000</td>\n",
       "    </tr>\n",
       "    <tr>\n",
       "      <th>2018-10-22 00:00:00-04:00</th>\n",
       "      <td>46.37</td>\n",
       "      <td>46.455</td>\n",
       "      <td>45.810</td>\n",
       "      <td>45.96</td>\n",
       "      <td>8837220</td>\n",
       "      <td>96.356275</td>\n",
       "      <td>0.0</td>\n",
       "      <td>0.0</td>\n",
       "      <td>0.0</td>\n",
       "      <td>0.008276</td>\n",
       "      <td>...</td>\n",
       "      <td>0.0</td>\n",
       "      <td>0.0</td>\n",
       "      <td>45.998919</td>\n",
       "      <td>45.987368</td>\n",
       "      <td>45.982961</td>\n",
       "      <td>0.645</td>\n",
       "      <td>-0.41</td>\n",
       "      <td>0.0</td>\n",
       "      <td>0.0</td>\n",
       "      <td>-233880.743235</td>\n",
       "    </tr>\n",
       "    <tr>\n",
       "      <th>2018-10-23 00:00:00-04:00</th>\n",
       "      <td>45.62</td>\n",
       "      <td>46.455</td>\n",
       "      <td>45.450</td>\n",
       "      <td>46.36</td>\n",
       "      <td>14166742</td>\n",
       "      <td>96.507761</td>\n",
       "      <td>0.0</td>\n",
       "      <td>0.0</td>\n",
       "      <td>0.0</td>\n",
       "      <td>0.019340</td>\n",
       "      <td>...</td>\n",
       "      <td>0.0</td>\n",
       "      <td>0.0</td>\n",
       "      <td>46.130971</td>\n",
       "      <td>46.101367</td>\n",
       "      <td>46.091092</td>\n",
       "      <td>1.005</td>\n",
       "      <td>0.74</td>\n",
       "      <td>0.0</td>\n",
       "      <td>0.0</td>\n",
       "      <td>191979.332017</td>\n",
       "    </tr>\n",
       "    <tr>\n",
       "      <th>2018-10-24 00:00:00-04:00</th>\n",
       "      <td>46.32</td>\n",
       "      <td>47.390</td>\n",
       "      <td>46.240</td>\n",
       "      <td>46.75</td>\n",
       "      <td>18365571</td>\n",
       "      <td>96.653117</td>\n",
       "      <td>0.0</td>\n",
       "      <td>0.0</td>\n",
       "      <td>0.0</td>\n",
       "      <td>0.040464</td>\n",
       "      <td>...</td>\n",
       "      <td>0.0</td>\n",
       "      <td>0.0</td>\n",
       "      <td>46.333880</td>\n",
       "      <td>46.270594</td>\n",
       "      <td>46.249109</td>\n",
       "      <td>1.150</td>\n",
       "      <td>0.43</td>\n",
       "      <td>0.0</td>\n",
       "      <td>0.0</td>\n",
       "      <td>31202.704486</td>\n",
       "    </tr>\n",
       "  </tbody>\n",
       "</table>\n",
       "<p>5 rows × 21 columns</p>\n",
       "</div>"
      ],
      "text/plain": [
       "                            open    high     low  close    volume         rsi  \\\n",
       "time                                                                            \n",
       "2018-10-18 00:00:00-04:00  45.90  46.080  45.455  45.64   9403895    0.000000   \n",
       "2018-10-19 00:00:00-04:00  45.82  46.490  45.820  46.32  11087680  100.000000   \n",
       "2018-10-22 00:00:00-04:00  46.37  46.455  45.810  45.96   8837220   96.356275   \n",
       "2018-10-23 00:00:00-04:00  45.62  46.455  45.450  46.36  14166742   96.507761   \n",
       "2018-10-24 00:00:00-04:00  46.32  47.390  46.240  46.75  18365571   96.653117   \n",
       "\n",
       "                           williams  mfi  stoch_k      macd  ...  ma_50  \\\n",
       "time                                                         ...          \n",
       "2018-10-18 00:00:00-04:00       0.0  0.0      0.0  0.000000  ...    0.0   \n",
       "2018-10-19 00:00:00-04:00       0.0  0.0      0.0  0.015256  ...    0.0   \n",
       "2018-10-22 00:00:00-04:00       0.0  0.0      0.0  0.008276  ...    0.0   \n",
       "2018-10-23 00:00:00-04:00       0.0  0.0      0.0  0.019340  ...    0.0   \n",
       "2018-10-24 00:00:00-04:00       0.0  0.0      0.0  0.040464  ...    0.0   \n",
       "\n",
       "                           ma_200      ema_7     ema_14     ema_21  highlow  \\\n",
       "time                                                                          \n",
       "2018-10-18 00:00:00-04:00     0.0  45.640000  45.640000  45.640000    0.625   \n",
       "2018-10-19 00:00:00-04:00     0.0  46.028571  46.004286  45.996190    0.670   \n",
       "2018-10-22 00:00:00-04:00     0.0  45.998919  45.987368  45.982961    0.645   \n",
       "2018-10-23 00:00:00-04:00     0.0  46.130971  46.101367  46.091092    1.005   \n",
       "2018-10-24 00:00:00-04:00     0.0  46.333880  46.270594  46.249109    1.150   \n",
       "\n",
       "                           closeopen  bb_high  bb_low            pvt  \n",
       "time                                                                  \n",
       "2018-10-18 00:00:00-04:00      -0.26      0.0     0.0       0.000000  \n",
       "2018-10-19 00:00:00-04:00       0.50      0.0     0.0       0.000000  \n",
       "2018-10-22 00:00:00-04:00      -0.41      0.0     0.0 -233880.743235  \n",
       "2018-10-23 00:00:00-04:00       0.74      0.0     0.0  191979.332017  \n",
       "2018-10-24 00:00:00-04:00       0.43      0.0     0.0   31202.704486  \n",
       "\n",
       "[5 rows x 21 columns]"
      ]
     },
     "execution_count": 10,
     "metadata": {},
     "output_type": "execute_result"
    }
   ],
   "source": [
    "# get all technical indicators\n",
    "df = tech_ind.get_all_technicals(test_tickers[0])\n",
    "\n",
    "# preview data\n",
    "df.head()"
   ]
  },
  {
   "cell_type": "markdown",
   "id": "e4b3652b",
   "metadata": {},
   "source": [
    "---"
   ]
  },
  {
   "cell_type": "markdown",
   "id": "31913dc2",
   "metadata": {},
   "source": [
    "## Build and train LSTM Model"
   ]
  },
  {
   "cell_type": "code",
   "execution_count": 11,
   "id": "d6a8bead",
   "metadata": {},
   "outputs": [],
   "source": [
    "# instantiate MachineLearningModel class\n",
    "model = lstm_model.MachineLearningModel(df)"
   ]
  },
  {
   "cell_type": "code",
   "execution_count": 12,
   "id": "11a94b14",
   "metadata": {},
   "outputs": [
    {
     "name": "stderr",
     "output_type": "stream",
     "text": [
      "C:\\Users\\illya\\anaconda3\\envs\\cu_proj_2\\lib\\site-packages\\pandas\\core\\frame.py:4315: SettingWithCopyWarning: \n",
      "A value is trying to be set on a copy of a slice from a DataFrame\n",
      "\n",
      "See the caveats in the documentation: https://pandas.pydata.org/pandas-docs/stable/user_guide/indexing.html#returning-a-view-versus-a-copy\n",
      "  errors=errors,\n"
     ]
    }
   ],
   "source": [
    "# build and train model\n",
    "hist = model.build_model(summary=0, verbose=0)"
   ]
  },
  {
   "cell_type": "code",
   "execution_count": 13,
   "id": "d9a500f0",
   "metadata": {
    "tags": []
   },
   "outputs": [],
   "source": [
    "# not production\n",
    "# visualize validation loss, validation, validation accuracy, accuracy\n",
    "# model.visualize_training_results(hist=hist)"
   ]
  },
  {
   "cell_type": "code",
   "execution_count": 14,
   "id": "c8248439",
   "metadata": {},
   "outputs": [],
   "source": [
    "# not production\n",
    "# validate model - get predicted stock proces\n",
    "# model.validate()"
   ]
  },
  {
   "cell_type": "code",
   "execution_count": 15,
   "id": "8c0aa178",
   "metadata": {},
   "outputs": [],
   "source": [
    "# not production\n",
    "# visualize predicted stock price and actual stock price\n",
    "# model.visualize_training_price()"
   ]
  },
  {
   "cell_type": "code",
   "execution_count": 16,
   "id": "669e8a3a",
   "metadata": {},
   "outputs": [],
   "source": [
    "# not production\n",
    "# get and print Root Mean Square Error\n",
    "# print(f\"RMS Error : {model.rmse_value}\")"
   ]
  },
  {
   "cell_type": "code",
   "execution_count": 17,
   "id": "fa4b472b",
   "metadata": {},
   "outputs": [],
   "source": [
    "# save model\n",
    "model.save_model('proj2_test_model_1')"
   ]
  },
  {
   "cell_type": "markdown",
   "id": "32b4c604",
   "metadata": {},
   "source": [
    "---"
   ]
  },
  {
   "cell_type": "markdown",
   "id": "67f1865a",
   "metadata": {},
   "source": [
    "## Forecast stock price"
   ]
  },
  {
   "cell_type": "markdown",
   "id": "7bf449cd",
   "metadata": {},
   "source": [
    "### *Get market data*"
   ]
  },
  {
   "cell_type": "code",
   "execution_count": 18,
   "id": "7e75b4f7",
   "metadata": {},
   "outputs": [
    {
     "name": "stdout",
     "output_type": "stream",
     "text": [
      "Forecast start date : 2020-12-26\n",
      "Forecast end date : 2021-07-14\n"
     ]
    }
   ],
   "source": [
    "# Set market data date range \n",
    "from datetime import date, datetime, timedelta\n",
    "\n",
    "forecast_end_date  = datetime.now()\n",
    "forecast_start_date  = (forecast_end_date - timedelta(days=200))\n",
    "\n",
    "forecast_start_date = forecast_start_date.strftime('%Y-%m-%d')\n",
    "forecast_end_date = forecast_end_date.strftime('%Y-%m-%d')\n",
    "\n",
    "print(f\"Forecast start date : {forecast_start_date}\")\n",
    "print(f\"Forecast end date : {forecast_end_date}\")"
   ]
  },
  {
   "cell_type": "code",
   "execution_count": 19,
   "id": "b3597846",
   "metadata": {},
   "outputs": [],
   "source": [
    "# Load the dataset\n",
    "forecast_ohlcv_df = alpaca.ohlcv(test_tickers, \n",
    "                                 start_date=forecast_start_date, \n",
    "                                 end_date=forecast_end_date)"
   ]
  },
  {
   "cell_type": "markdown",
   "id": "db97a967",
   "metadata": {},
   "source": [
    "### *Calculate technical analysis data*"
   ]
  },
  {
   "cell_type": "code",
   "execution_count": 20,
   "id": "15b7564e",
   "metadata": {},
   "outputs": [],
   "source": [
    "forecast_tech_ind = technicals.TechnicalAnalysis(forecast_ohlcv_df)"
   ]
  },
  {
   "cell_type": "code",
   "execution_count": 21,
   "id": "7b4dfcf0",
   "metadata": {},
   "outputs": [],
   "source": [
    "forecast_df = forecast_tech_ind.get_all_technicals(test_tickers[0])\n",
    "# forecast_df.head()"
   ]
  },
  {
   "cell_type": "markdown",
   "id": "c9a38805",
   "metadata": {},
   "source": [
    "### *Predict stock price based on previously trained model*"
   ]
  },
  {
   "cell_type": "code",
   "execution_count": 22,
   "id": "51b06136",
   "metadata": {},
   "outputs": [],
   "source": [
    "# instantiate ForecastPrice class\n",
    "forecast_model = lstm_model.ForecastPrice(forecast_df)"
   ]
  },
  {
   "cell_type": "code",
   "execution_count": 23,
   "id": "c07a0024",
   "metadata": {},
   "outputs": [],
   "source": [
    "# load model\n",
    "forecast_model.load_model('proj2_test_model_1.h5')"
   ]
  },
  {
   "cell_type": "code",
   "execution_count": 24,
   "id": "bebd2406",
   "metadata": {},
   "outputs": [],
   "source": [
    "# not production\n",
    "# get model summary\n",
    "# forecast_model.get_model_summary()"
   ]
  },
  {
   "cell_type": "code",
   "execution_count": 25,
   "id": "c79068c8",
   "metadata": {},
   "outputs": [
    {
     "name": "stderr",
     "output_type": "stream",
     "text": [
      "C:\\Users\\illya\\anaconda3\\envs\\cu_proj_2\\lib\\site-packages\\pandas\\core\\frame.py:4315: SettingWithCopyWarning: \n",
      "A value is trying to be set on a copy of a slice from a DataFrame\n",
      "\n",
      "See the caveats in the documentation: https://pandas.pydata.org/pandas-docs/stable/user_guide/indexing.html#returning-a-view-versus-a-copy\n",
      "  errors=errors,\n"
     ]
    }
   ],
   "source": [
    "preds = forecast_model.forecast()"
   ]
  },
  {
   "cell_type": "code",
   "execution_count": 26,
   "id": "42b0b883",
   "metadata": {},
   "outputs": [
    {
     "data": {
      "text/html": [
       "<div>\n",
       "<style scoped>\n",
       "    .dataframe tbody tr th:only-of-type {\n",
       "        vertical-align: middle;\n",
       "    }\n",
       "\n",
       "    .dataframe tbody tr th {\n",
       "        vertical-align: top;\n",
       "    }\n",
       "\n",
       "    .dataframe thead th {\n",
       "        text-align: right;\n",
       "    }\n",
       "</style>\n",
       "<table border=\"1\" class=\"dataframe\">\n",
       "  <thead>\n",
       "    <tr style=\"text-align: right;\">\n",
       "      <th></th>\n",
       "      <th>close</th>\n",
       "    </tr>\n",
       "  </thead>\n",
       "  <tbody>\n",
       "    <tr>\n",
       "      <th>2021-07-15 00:00:00-04:00</th>\n",
       "      <td>55.445587</td>\n",
       "    </tr>\n",
       "    <tr>\n",
       "      <th>2021-07-16 00:00:00-04:00</th>\n",
       "      <td>55.266617</td>\n",
       "    </tr>\n",
       "    <tr>\n",
       "      <th>2021-07-17 00:00:00-04:00</th>\n",
       "      <td>55.444233</td>\n",
       "    </tr>\n",
       "    <tr>\n",
       "      <th>2021-07-18 00:00:00-04:00</th>\n",
       "      <td>55.456417</td>\n",
       "    </tr>\n",
       "    <tr>\n",
       "      <th>2021-07-19 00:00:00-04:00</th>\n",
       "      <td>55.568016</td>\n",
       "    </tr>\n",
       "    <tr>\n",
       "      <th>2021-07-20 00:00:00-04:00</th>\n",
       "      <td>55.308762</td>\n",
       "    </tr>\n",
       "    <tr>\n",
       "      <th>2021-07-21 00:00:00-04:00</th>\n",
       "      <td>55.320122</td>\n",
       "    </tr>\n",
       "    <tr>\n",
       "      <th>2021-07-22 00:00:00-04:00</th>\n",
       "      <td>55.618790</td>\n",
       "    </tr>\n",
       "    <tr>\n",
       "      <th>2021-07-23 00:00:00-04:00</th>\n",
       "      <td>55.724762</td>\n",
       "    </tr>\n",
       "    <tr>\n",
       "      <th>2021-07-24 00:00:00-04:00</th>\n",
       "      <td>55.144760</td>\n",
       "    </tr>\n",
       "    <tr>\n",
       "      <th>2021-07-25 00:00:00-04:00</th>\n",
       "      <td>55.242393</td>\n",
       "    </tr>\n",
       "    <tr>\n",
       "      <th>2021-07-26 00:00:00-04:00</th>\n",
       "      <td>55.254589</td>\n",
       "    </tr>\n",
       "    <tr>\n",
       "      <th>2021-07-27 00:00:00-04:00</th>\n",
       "      <td>55.219852</td>\n",
       "    </tr>\n",
       "    <tr>\n",
       "      <th>2021-07-28 00:00:00-04:00</th>\n",
       "      <td>55.188885</td>\n",
       "    </tr>\n",
       "  </tbody>\n",
       "</table>\n",
       "</div>"
      ],
      "text/plain": [
       "                               close\n",
       "2021-07-15 00:00:00-04:00  55.445587\n",
       "2021-07-16 00:00:00-04:00  55.266617\n",
       "2021-07-17 00:00:00-04:00  55.444233\n",
       "2021-07-18 00:00:00-04:00  55.456417\n",
       "2021-07-19 00:00:00-04:00  55.568016\n",
       "2021-07-20 00:00:00-04:00  55.308762\n",
       "2021-07-21 00:00:00-04:00  55.320122\n",
       "2021-07-22 00:00:00-04:00  55.618790\n",
       "2021-07-23 00:00:00-04:00  55.724762\n",
       "2021-07-24 00:00:00-04:00  55.144760\n",
       "2021-07-25 00:00:00-04:00  55.242393\n",
       "2021-07-26 00:00:00-04:00  55.254589\n",
       "2021-07-27 00:00:00-04:00  55.219852\n",
       "2021-07-28 00:00:00-04:00  55.188885"
      ]
     },
     "execution_count": 26,
     "metadata": {},
     "output_type": "execute_result"
    }
   ],
   "source": [
    "# not production\n",
    "preds"
   ]
  },
  {
   "cell_type": "code",
   "execution_count": null,
   "id": "c0b9bc9f",
   "metadata": {},
   "outputs": [],
   "source": []
  }
 ],
 "metadata": {
  "kernelspec": {
   "display_name": "Python 3",
   "language": "python",
   "name": "python3"
  },
  "language_info": {
   "codemirror_mode": {
    "name": "ipython",
    "version": 3
   },
   "file_extension": ".py",
   "mimetype": "text/x-python",
   "name": "python",
   "nbconvert_exporter": "python",
   "pygments_lexer": "ipython3",
   "version": "3.7.10"
  }
 },
 "nbformat": 4,
 "nbformat_minor": 5
}
