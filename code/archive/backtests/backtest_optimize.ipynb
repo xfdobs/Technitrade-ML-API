{
 "cells": [
  {
   "cell_type": "markdown",
   "metadata": {},
   "source": [
    "# Backtest Optimize Production"
   ]
  },
  {
   "cell_type": "code",
   "execution_count": 1,
   "metadata": {},
   "outputs": [],
   "source": [
    "import backtest\n",
    "from datetime import datetime, timedelta\n",
    "import pytz"
   ]
  },
  {
   "cell_type": "code",
   "execution_count": 2,
   "metadata": {},
   "outputs": [],
   "source": [
    "IST = pytz.timezone('America/New_York')\n",
    "dateformat = \"%Y-%m-%d\""
   ]
  },
  {
   "cell_type": "markdown",
   "metadata": {},
   "source": [
    "---\n",
    "### Set Williams %R params:"
   ]
  },
  {
   "cell_type": "code",
   "execution_count": 3,
   "metadata": {
    "tags": []
   },
   "outputs": [
    {
     "name": "stdout",
     "output_type": "stream",
     "text": [
      "Williams %R Period : [14]\n",
      "Williams %R Upper band : [-5, -10, -20, -30, -40]\n",
      "Williams %R Lower band : [-50, -60, -70, -80, -90]\n"
     ]
    }
   ],
   "source": [
    "# production Williams %R ranges\n",
    "wr_period = [14]\n",
    "wr_upperband = [-5,-10,-20,-30,-40]\n",
    "wr_lowerband = [-50,-60,-70,-80,-90]\n",
    "\n",
    "print(f\"Williams %R Period : {wr_period}\")\n",
    "print(f\"Williams %R Upper band : {wr_upperband}\")\n",
    "print(f\"Williams %R Lower band : {wr_lowerband}\")"
   ]
  },
  {
   "cell_type": "markdown",
   "metadata": {},
   "source": [
    "---\n",
    "### Set Relative Strenght Index params:"
   ]
  },
  {
   "cell_type": "code",
   "execution_count": 4,
   "metadata": {},
   "outputs": [
    {
     "name": "stdout",
     "output_type": "stream",
     "text": [
      "RSI Period : [14]\n",
      "RSI Upper band : [50, 60, 70, 80, 90]\n",
      "RSI Lower band : [5, 10, 20, 30, 40]\n"
     ]
    }
   ],
   "source": [
    "# production RSI ranges\n",
    "rsi_period = [14]\n",
    "rsi_upperband = [50,60,70,80,90]\n",
    "rsi_lowerband = [5,10,20,30,40]\n",
    "    \n",
    "print(f\"RSI Period : {rsi_period}\")\n",
    "print(f\"RSI Upper band : {rsi_upperband}\")\n",
    "print(f\"RSI Lower band : {rsi_lowerband}\")"
   ]
  },
  {
   "cell_type": "markdown",
   "metadata": {},
   "source": [
    "---\n",
    "### Set broker values"
   ]
  },
  {
   "cell_type": "code",
   "execution_count": 5,
   "metadata": {},
   "outputs": [],
   "source": [
    "# set broker cash, commision\n",
    "start_cash = 1000000.0\n",
    "broker_comm = 0.005"
   ]
  },
  {
   "cell_type": "code",
   "execution_count": 6,
   "metadata": {},
   "outputs": [],
   "source": [
    "# set risk\n",
    "risk = 0.9"
   ]
  },
  {
   "cell_type": "code",
   "execution_count": 7,
   "metadata": {},
   "outputs": [],
   "source": [
    "date = datetime.now(IST)\n",
    "end_date = date.strftime(dateformat)\n",
    "start_date = date - timedelta(days=365)"
   ]
  },
  {
   "cell_type": "markdown",
   "metadata": {},
   "source": [
    "---\n",
    "### Run optimization test:"
   ]
  },
  {
   "cell_type": "code",
   "execution_count": 8,
   "metadata": {},
   "outputs": [],
   "source": [
    "ticker = \"ADSK\""
   ]
  },
  {
   "cell_type": "code",
   "execution_count": 9,
   "metadata": {},
   "outputs": [
    {
     "name": "stdout",
     "output_type": "stream",
     "text": [
      "[*********************100%***********************]  1 of 1 completed\n",
      "Runtime : 0:00:01.811521\n",
      "    period  upperband  lowerband  trade_pnl  hold_pnl      alpha  pct_alpha\n",
      "14      14        -20        -90  274550.14  202148.6   72401.54      35.82\n",
      "4       14         -5        -90  266792.56  202148.6   64643.96      31.98\n",
      "9       14        -10        -90  257945.90  202148.6   55797.30      27.60\n",
      "3       14         -5        -80  254206.13  202148.6   52057.53      25.75\n",
      "13      14        -20        -80  246280.70  202148.6   44132.10      21.83\n",
      "8       14        -10        -80  245449.04  202148.6   43300.44      21.42\n",
      "15      14        -30        -50  188321.28  202148.6  -13827.32      -6.84\n",
      "11      14        -20        -60  156276.42  202148.6  -45872.18     -22.69\n",
      "18      14        -30        -80  141148.00  202148.6  -61000.60     -30.18\n",
      "19      14        -30        -90  140811.59  202148.6  -61337.01     -30.34\n",
      "12      14        -20        -70  137139.62  202148.6  -65008.98     -32.16\n",
      "16      14        -30        -60  128188.28  202148.6  -73960.32     -36.59\n",
      "17      14        -30        -70  112164.22  202148.6  -89984.38     -44.51\n",
      "10      14        -20        -50  104048.88  202148.6  -98099.72     -48.53\n",
      "1       14         -5        -60   64707.90  202148.6 -137440.70     -67.99\n",
      "6       14        -10        -60   56140.24  202148.6 -146008.36     -72.23\n",
      "2       14         -5        -70   48129.76  202148.6 -154018.84     -76.19\n",
      "20      14        -40        -50   43932.81  202148.6 -158215.79     -78.27\n",
      "0       14         -5        -50   40322.88  202148.6 -161825.72     -80.05\n",
      "7       14        -10        -70   39690.39  202148.6 -162458.21     -80.37\n",
      "5       14        -10        -50   33462.65  202148.6 -168685.95     -83.45\n",
      "21      14        -40        -60    9590.66  202148.6 -192557.94     -95.26\n",
      "22      14        -40        -70   -4739.82  202148.6 -206888.42    -102.34\n",
      "23      14        -40        -80  -18064.93  202148.6 -220213.53    -108.94\n",
      "24      14        -40        -90  -20256.86  202148.6 -222405.46    -110.02\n"
     ]
    }
   ],
   "source": [
    "from optimizers import wr_cross_strat\n",
    "\n",
    "wr_optimized = backtest.optimization(strat=wr_cross_strat,\n",
    "                                     ticker=ticker, \n",
    "                                     start_cash=start_cash, \n",
    "                                     broker_comm=broker_comm, \n",
    "                                     risk=risk,\n",
    "                                     period=wr_period,\n",
    "                                     upperband=wr_upperband,\n",
    "                                     lowerband=wr_lowerband,\n",
    "                                     start_date=start_date,\n",
    "                                     end_date=end_date)\n",
    "\n",
    "print(wr_optimized.sort_values(by=\"pct_alpha\", ascending=False))"
   ]
  },
  {
   "cell_type": "code",
   "execution_count": 11,
   "metadata": {},
   "outputs": [
    {
     "name": "stdout",
     "output_type": "stream",
     "text": [
      "[*********************100%***********************]  1 of 1 completed\n",
      "Runtime : 0:00:01.699217\n",
      "    period  upperband  lowerband  trade_pnl  hold_pnl      alpha  pct_alpha\n",
      "24      14         90         40  241895.58  202148.6   39746.98      19.66\n",
      "19      14         80         40  241895.58  202148.6   39746.98      19.66\n",
      "14      14         70         40  131064.99  202148.6  -71083.61     -35.16\n",
      "9       14         60         40  127491.75  202148.6  -74656.85     -36.93\n",
      "13      14         70         30       0.00  202148.6 -202148.60    -100.00\n",
      "23      14         90         30       0.00  202148.6 -202148.60    -100.00\n",
      "22      14         90         20       0.00  202148.6 -202148.60    -100.00\n",
      "21      14         90         10       0.00  202148.6 -202148.60    -100.00\n",
      "20      14         90          5       0.00  202148.6 -202148.60    -100.00\n",
      "18      14         80         30       0.00  202148.6 -202148.60    -100.00\n",
      "17      14         80         20       0.00  202148.6 -202148.60    -100.00\n",
      "16      14         80         10       0.00  202148.6 -202148.60    -100.00\n",
      "15      14         80          5       0.00  202148.6 -202148.60    -100.00\n",
      "0       14         50          5       0.00  202148.6 -202148.60    -100.00\n",
      "1       14         50         10       0.00  202148.6 -202148.60    -100.00\n",
      "11      14         70         10       0.00  202148.6 -202148.60    -100.00\n",
      "10      14         70          5       0.00  202148.6 -202148.60    -100.00\n",
      "8       14         60         30       0.00  202148.6 -202148.60    -100.00\n",
      "7       14         60         20       0.00  202148.6 -202148.60    -100.00\n",
      "6       14         60         10       0.00  202148.6 -202148.60    -100.00\n",
      "5       14         60          5       0.00  202148.6 -202148.60    -100.00\n",
      "3       14         50         30       0.00  202148.6 -202148.60    -100.00\n",
      "2       14         50         20       0.00  202148.6 -202148.60    -100.00\n",
      "12      14         70         20       0.00  202148.6 -202148.60    -100.00\n",
      "4       14         50         40   -6207.52  202148.6 -208356.12    -103.07\n"
     ]
    }
   ],
   "source": [
    "from optimizers import rsi_cross_strat\n",
    "\n",
    "rsi_optimized = backtest.optimization(strat=rsi_cross_strat,\n",
    "                                     ticker=ticker, \n",
    "                                     start_cash=start_cash, \n",
    "                                     broker_comm=broker_comm, \n",
    "                                     risk=risk,\n",
    "                                     period=rsi_period,\n",
    "                                     upperband=rsi_upperband,\n",
    "                                     lowerband=rsi_lowerband,\n",
    "                                     start_date=start_date,\n",
    "                                     end_date=end_date)\n",
    "\n",
    "print(rsi_optimized.sort_values(by=\"pct_alpha\", ascending=False))"
   ]
  },
  {
   "cell_type": "code",
   "execution_count": 13,
   "metadata": {},
   "outputs": [],
   "source": [
    "from sklearn.ensemble import RandomForestClassifier\n",
    "from sklearn.preprocessing import StandardScaler\n",
    "from sklearn.model_selection import train_test_split\n",
    "from sklearn.metrics import confusion_matrix, accuracy_score, classification_report\n",
    "%matplotlib inline\n",
    "\n",
    "# Needed for decision tree visualization\n",
    "import pydotplus\n",
    "from IPython.display import Image"
   ]
  },
  {
   "cell_type": "code",
   "execution_count": 13,
   "metadata": {},
   "outputs": [],
   "source": [
    "X = wr_optimized[['upperband','lowerband']]"
   ]
  },
  {
   "cell_type": "code",
   "execution_count": null,
   "metadata": {},
   "outputs": [],
   "source": [
    "# Splitting into Train and Test sets\n",
    "X_train, X_test, y_train, y_test = train_test_split(X, y, random_state=78)"
   ]
  }
 ],
 "metadata": {
  "kernelspec": {
   "display_name": "Python 3",
   "language": "python",
   "name": "python3"
  },
  "language_info": {
   "codemirror_mode": {
    "name": "ipython",
    "version": 3
   },
   "file_extension": ".py",
   "mimetype": "text/x-python",
   "name": "python",
   "nbconvert_exporter": "python",
   "pygments_lexer": "ipython3",
   "version": "3.7.10"
  }
 },
 "nbformat": 4,
 "nbformat_minor": 4
}
